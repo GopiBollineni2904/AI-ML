{
 "cells": [
  {
   "cell_type": "markdown",
   "metadata": {},
   "source": [
    "### String:\n",
    "1. \" \" or ''(characters)-->'a'\n",
    "2. Immutable --> cannot be changed\n",
    "3. collection of characters enclosed by quotation marlks --> Iterable object"
   ]
  },
  {
   "cell_type": "code",
   "execution_count": 5,
   "metadata": {},
   "outputs": [
    {
     "name": "stdout",
     "output_type": "stream",
     "text": [
      "<class 'str'> <class 'str'>\n"
     ]
    }
   ],
   "source": [
    "s1=\"hello \"\n",
    "s2='Good Afternoon'\n",
    "print(type(s1),type(s2))"
   ]
  },
  {
   "cell_type": "code",
   "execution_count": 7,
   "metadata": {},
   "outputs": [
    {
     "name": "stdout",
     "output_type": "stream",
     "text": [
      "hello Good Afternoon\n",
      "hello hello hello \n"
     ]
    }
   ],
   "source": [
    "#operators : +,*(repitition),[](slice)\n",
    "print(s1+s2) #concatenation\n",
    "print(s1*3)"
   ]
  },
  {
   "cell_type": "code",
   "execution_count": 31,
   "metadata": {},
   "outputs": [
    {
     "name": "stdout",
     "output_type": "stream",
     "text": [
      "o feno\n",
      "noonretfA doo\n"
     ]
    }
   ],
   "source": [
    "print(s2[2:15:2]) #print(str[start:end:step]) #end=end-1\n",
    "print(s2[-1:-14:-1]) #negative Indexing\n",
    "#here all the values in the '[]' are optional, but default of start=0,end=length of string[executed uptill end-1],step=1"
   ]
  },
  {
   "cell_type": "code",
   "execution_count": 34,
   "metadata": {},
   "outputs": [
    {
     "name": "stdout",
     "output_type": "stream",
     "text": [
      "Enter the string: 898\n",
      "Palindrome\n"
     ]
    }
   ],
   "source": [
    "#palindrome or not\n",
    "string=input(\"Enter the string: \")\n",
    "if string==string[::-1]:\n",
    "    print(\"Palindrome\")\n",
    "else:\n",
    "    print(\"Not Palindrome\")"
   ]
  },
  {
   "cell_type": "code",
   "execution_count": 2,
   "metadata": {},
   "outputs": [
    {
     "name": "stdout",
     "output_type": "stream",
     "text": [
      "Enter the num: 121\n",
      "Palindrome\n"
     ]
    }
   ],
   "source": [
    "num=int(input(\"Enter the num: \"))\n",
    "string=str(num)\n",
    "if string==string[::-1]:\n",
    "    print(\"Palindrome\")\n",
    "else:\n",
    "    print(\"Not Palindrome\")"
   ]
  },
  {
   "cell_type": "markdown",
   "metadata": {},
   "source": [
    "### String Built-in Functions:\n",
    "1. len() -->length of srting\n",
    "2. max() -->max character\n",
    "3. min() -->min character\n",
    "4. str() --> converting any data type to string"
   ]
  },
  {
   "cell_type": "code",
   "execution_count": 4,
   "metadata": {},
   "outputs": [
    {
     "name": "stdout",
     "output_type": "stream",
     "text": [
      "5 8\n",
      "o d\n",
      "e 1\n"
     ]
    }
   ],
   "source": [
    "s=\"hello\"\n",
    "s1=\"abcd1234\"\n",
    "print(len(s),len(s1))\n",
    "print(max(s),max(s1))\n",
    "print(min(s),min(s1))"
   ]
  },
  {
   "cell_type": "code",
   "execution_count": 7,
   "metadata": {},
   "outputs": [
    {
     "name": "stdout",
     "output_type": "stream",
     "text": [
      "65 a\n"
     ]
    }
   ],
   "source": [
    "#ord('character') --> returns corresponding ASCII value\n",
    "#chr('character') -->returns corresponding Character\n",
    "a=ord('A');b=chr(97);\n",
    "print(a,b)"
   ]
  },
  {
   "cell_type": "markdown",
   "metadata": {},
   "source": [
    "### Built-in Methods:\n",
    "1. capitalize() -->converts first character of string to uppercase\n",
    "2. isalpha() -->checks for alphabets\n",
    "3. isdigit() -->checks for numbers\n",
    "4. isalnum()-->checks for alpha-numerics\n",
    "5. upper() -->entire string to uppercase\n",
    "6. lower() -->entire string to lowercase\n",
    "7. isupper() -->checks if entire string is in Uppercase\n",
    "8. islower() -->checks if entire string is in Lowercase\n",
    "9. swapcase() -->converts Uppercase to Lowercase and vice-versa\n",
    "10. count('substring') -->returns frequency of given substring\n",
    "11. split(\"'delimiter'\") -->returns a list(default delimiter is 'space')\n",
    "12. replace(\"'character1'\",\"'character2'\",n) -->replaces 'character1' with 'character2' in the string, n is the nth occurence of the substring."
   ]
  },
  {
   "cell_type": "code",
   "execution_count": 11,
   "metadata": {},
   "outputs": [
    {
     "name": "stdout",
     "output_type": "stream",
     "text": [
      "5\n",
      "Hello\n",
      "hello\n"
     ]
    }
   ],
   "source": [
    "s=\"hello\"\n",
    "print(len(s))#function_name(object_name)\n",
    "print(s.capitalize())#object_name.method_name()\n",
    "print(s)"
   ]
  },
  {
   "cell_type": "code",
   "execution_count": 14,
   "metadata": {},
   "outputs": [
    {
     "name": "stdout",
     "output_type": "stream",
     "text": [
      "True False True\n",
      "False False True\n",
      "False True True\n"
     ]
    }
   ],
   "source": [
    "s1=\"hello\"\n",
    "s2=\"abc123\"\n",
    "s3=\"123\"\n",
    "print(s1.isalpha(),s1.isdigit(),s1.isalnum())\n",
    "print(s2.isalpha(),s2.isdigit(),s2.isalnum())\n",
    "print(s3.isalpha(),s3.isdigit(),s3.isalnum())"
   ]
  },
  {
   "cell_type": "code",
   "execution_count": 22,
   "metadata": {},
   "outputs": [
    {
     "name": "stdout",
     "output_type": "stream",
     "text": [
      "HELLO hello\n",
      "hElLo\n"
     ]
    }
   ],
   "source": [
    "s1=\"hello\"\n",
    "s2=\"HELLO\"\n",
    "s3=\"HeLlO\"\n",
    "print(s1.upper(),s2.lower())\n",
    "print(s3.swapcase())"
   ]
  },
  {
   "cell_type": "code",
   "execution_count": 23,
   "metadata": {},
   "outputs": [
    {
     "name": "stdout",
     "output_type": "stream",
     "text": [
      "False True\n",
      "True False\n"
     ]
    }
   ],
   "source": [
    "s1=\"python\"\n",
    "s2=\"PYTHON\"\n",
    "print(s1.isupper(),s1.islower())\n",
    "print(s2.isupper(),s2.islower())"
   ]
  },
  {
   "cell_type": "code",
   "execution_count": 28,
   "metadata": {},
   "outputs": [
    {
     "name": "stdout",
     "output_type": "stream",
     "text": [
      "3\n",
      "['abc', 'abc', 'abc']\n",
      "['a', 'b', 'c', 'd']\n"
     ]
    }
   ],
   "source": [
    "s=\"abc abc abc\"\n",
    "print(s.count(\"abc\")) #frequency of 'abc' in s\n",
    "print(s.split())\n",
    "s1=\"a,b,c,d\"\n",
    "print(s1.split(\",\"))"
   ]
  },
  {
   "cell_type": "code",
   "execution_count": 29,
   "metadata": {},
   "outputs": [
    {
     "name": "stdout",
     "output_type": "stream",
     "text": [
      "axyd\n"
     ]
    }
   ],
   "source": [
    "#replace()\n",
    "s=\"abcd\"\n",
    "s=s.replace('bc','xy')\n",
    "print(s)"
   ]
  },
  {
   "cell_type": "markdown",
   "metadata": {},
   "source": [
    "#### (Q) Accept a number-n from the user and remove nth position character from the string\n",
    "n=3\n",
    "s=bacabc\n"
   ]
  },
  {
   "cell_type": "code",
   "execution_count": 33,
   "metadata": {},
   "outputs": [
    {
     "name": "stdout",
     "output_type": "stream",
     "text": [
      "Enter the position: 3\n",
      "Enter a string: abcbac\n"
     ]
    },
    {
     "data": {
      "text/plain": [
       "'abbac'"
      ]
     },
     "execution_count": 33,
     "metadata": {},
     "output_type": "execute_result"
    }
   ],
   "source": [
    "n=int(input(\"Enter the position: \"))\n",
    "s=input(\"Enter a string: \")\n",
    "s.replace(s[n-1],\"\",1) #here 1 is the nth occurence of the subtring"
   ]
  },
  {
   "cell_type": "markdown",
   "metadata": {},
   "source": [
    "### for Loop:\n",
    "1. for loop with range() function\n",
    "2. for loop with iterable object"
   ]
  },
  {
   "cell_type": "markdown",
   "metadata": {},
   "source": [
    "``` for variable_name in range(start,stop,step):\n",
    "    statements```\n",
    "#here 'start' and 'step' are otional but 'stop' is mandatory"
   ]
  },
  {
   "cell_type": "code",
   "execution_count": 37,
   "metadata": {},
   "outputs": [
    {
     "name": "stdout",
     "output_type": "stream",
     "text": [
      "0 1 2 3 4 5 6 7 8 9 \n",
      "1 2 3 4 5 6 7 8 9 \n",
      "1 2 3 4 5 6 7 8 9 10 \n",
      "1 3 5 7 9 \n"
     ]
    }
   ],
   "source": [
    "n=10\n",
    "for i in range(n):\n",
    "    print (i,end=\" \")\n",
    "print()\n",
    "for i in range(1,n):\n",
    "    print(i,end=\" \")\n",
    "print()\n",
    "for i in range(1,n+1):\n",
    "    print(i,end=\" \")\n",
    "print()\n",
    "for i in range(1,n+1,2):\n",
    "    print(i,end=\" \")\n",
    "print()"
   ]
  },
  {
   "cell_type": "code",
   "execution_count": 52,
   "metadata": {},
   "outputs": [
    {
     "name": "stdout",
     "output_type": "stream",
     "text": [
      "P\n",
      "y\n",
      "t\n",
      "h\n",
      "o\n",
      "n\n"
     ]
    }
   ],
   "source": [
    "#printing an iterable using for loop\n",
    "l=\"Python\"\n",
    "for i in l:\n",
    "    print(i)"
   ]
  },
  {
   "cell_type": "code",
   "execution_count": 53,
   "metadata": {},
   "outputs": [
    {
     "name": "stdout",
     "output_type": "stream",
     "text": [
      "P\n",
      "y\n",
      "t\n",
      "h\n",
      "o\n",
      "n\n"
     ]
    }
   ],
   "source": [
    "#printing an iterable using while loop\n",
    "i=0\n",
    "while(i<len(l)):\n",
    "    print(l[i])\n",
    "    i+=1"
   ]
  },
  {
   "cell_type": "code",
   "execution_count": 55,
   "metadata": {},
   "outputs": [
    {
     "name": "stdout",
     "output_type": "stream",
     "text": [
      "P\n",
      "y\n",
      "t\n",
      "h\n",
      "o\n",
      "n\n"
     ]
    }
   ],
   "source": [
    "#printing an iterable using for loop without using iterable object\n",
    "for j in range(len(l)):\n",
    "    print(l[j])"
   ]
  },
  {
   "cell_type": "code",
   "execution_count": 66,
   "metadata": {},
   "outputs": [
    {
     "name": "stdout",
     "output_type": "stream",
     "text": [
      "Enter the string: qpefijqw4gjvbmwrv2p924024t13028u130413!)#*&!#)owirhgiwu\n",
      "vowels:  7\n",
      "consonants:  21\n",
      "Specials:  8\n"
     ]
    }
   ],
   "source": [
    "#accept a string and count no. of vowels, consonants and special characters\n",
    "string=input(\"Enter the string: \")\n",
    "vcount=0;ccount=0;scount=0;\n",
    "for i in string:\n",
    "    if i.isalpha():\n",
    "        if i in ('a','e','i','o','u'):\n",
    "            vcount+=1\n",
    "        else:\n",
    "            ccount+=1\n",
    "    elif i.isdigit():\n",
    "        continue;\n",
    "    elif i.isalnum():\n",
    "        continue;\n",
    "    else:\n",
    "        scount+=1\n",
    "print(\"vowels: \",vcount)\n",
    "print(\"consonants: \",ccount)\n",
    "print(\"Specials: \",scount)        "
   ]
  }
 ],
 "metadata": {
  "kernelspec": {
   "display_name": "Python 3",
   "language": "python",
   "name": "python3"
  },
  "language_info": {
   "codemirror_mode": {
    "name": "ipython",
    "version": 3
   },
   "file_extension": ".py",
   "mimetype": "text/x-python",
   "name": "python",
   "nbconvert_exporter": "python",
   "pygments_lexer": "ipython3",
   "version": "3.7.6"
  }
 },
 "nbformat": 4,
 "nbformat_minor": 4
}
