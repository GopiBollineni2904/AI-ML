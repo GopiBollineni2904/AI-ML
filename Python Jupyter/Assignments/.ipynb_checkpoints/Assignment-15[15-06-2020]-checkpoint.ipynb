{
 "cells": [
  {
   "cell_type": "markdown",
   "metadata": {},
   "source": [
    "# CSE-221710307029-Gopi Bollineni"
   ]
  },
  {
   "cell_type": "markdown",
   "metadata": {},
   "source": [
    "#### Assignment-14"
   ]
  },
  {
   "cell_type": "markdown",
   "metadata": {},
   "source": [
    "###### 1 What is the parameter we should use to mention the first row in the data set are not columns what is the value we should send for that parameter"
   ]
  },
  {
   "cell_type": "markdown",
   "metadata": {},
   "source": [
    "If the first row in the Dataset is not the column names then the Parameter used to identify that they are not the column names is [header=none] while reading the DataSet "
   ]
  },
  {
   "cell_type": "markdown",
   "metadata": {},
   "source": [
    "##### 2. Read the data in the data.csv file in the proper format\n",
    "#####    Use ['my_datetime', 'event', 'country_code', 'user_id', 'source', 'country '] as columns\n",
    "\n",
    "\n",
    "- check how many rows and columns are there\n",
    "- what are the columns names\n",
    "- what are are the row labels\n",
    "- Write down your observation\n",
    "    - what type of data you have \n",
    "    - In the data if you have observed are there any missing values(NaN)\n",
    "- print the datatype of each column\n",
    "- For each data type how many columns are there\n",
    "- Using describe function observe the different measures for numerical and categorical columns\n",
    "- Use the info function to get the detailed info of the dataframe\n",
    "-  Check for the duplicate values in all the columns\n",
    "-  Replace the value “South America” from country column with NaN and fill with mode of   the column\n",
    "- Check the count of categories being repeated in the source column."
   ]
  },
  {
   "cell_type": "code",
   "execution_count": 1,
   "metadata": {},
   "outputs": [],
   "source": [
    "import pandas as pd\n",
    "import numpy as np\n",
    "import matplotlib.pyplot as plt\n",
    "import sklearn"
   ]
  },
  {
   "cell_type": "code",
   "execution_count": 2,
   "metadata": {},
   "outputs": [
    {
     "data": {
      "text/html": [
       "<div>\n",
       "<style scoped>\n",
       "    .dataframe tbody tr th:only-of-type {\n",
       "        vertical-align: middle;\n",
       "    }\n",
       "\n",
       "    .dataframe tbody tr th {\n",
       "        vertical-align: top;\n",
       "    }\n",
       "\n",
       "    .dataframe thead th {\n",
       "        text-align: right;\n",
       "    }\n",
       "</style>\n",
       "<table border=\"1\" class=\"dataframe\">\n",
       "  <thead>\n",
       "    <tr style=\"text-align: right;\">\n",
       "      <th></th>\n",
       "      <th>my_datetime</th>\n",
       "      <th>event</th>\n",
       "      <th>country_code</th>\n",
       "      <th>user_id</th>\n",
       "      <th>source</th>\n",
       "      <th>country</th>\n",
       "    </tr>\n",
       "  </thead>\n",
       "  <tbody>\n",
       "    <tr>\n",
       "      <th>0</th>\n",
       "      <td>2018-01-01 00:01:01</td>\n",
       "      <td>read</td>\n",
       "      <td>country_7</td>\n",
       "      <td>2458151261</td>\n",
       "      <td>SEO</td>\n",
       "      <td>North America</td>\n",
       "    </tr>\n",
       "    <tr>\n",
       "      <th>1</th>\n",
       "      <td>2018-01-01 00:03:20</td>\n",
       "      <td>read</td>\n",
       "      <td>country_7</td>\n",
       "      <td>2458151262</td>\n",
       "      <td>SEO</td>\n",
       "      <td>South America</td>\n",
       "    </tr>\n",
       "    <tr>\n",
       "      <th>2</th>\n",
       "      <td>2018-01-01 00:04:01</td>\n",
       "      <td>read</td>\n",
       "      <td>country_7</td>\n",
       "      <td>2458151263</td>\n",
       "      <td>AdWords</td>\n",
       "      <td>Africa</td>\n",
       "    </tr>\n",
       "    <tr>\n",
       "      <th>3</th>\n",
       "      <td>2018-01-01 00:04:02</td>\n",
       "      <td>read</td>\n",
       "      <td>country_7</td>\n",
       "      <td>2458151264</td>\n",
       "      <td>AdWords</td>\n",
       "      <td>Europe</td>\n",
       "    </tr>\n",
       "    <tr>\n",
       "      <th>4</th>\n",
       "      <td>2018-01-01 00:05:03</td>\n",
       "      <td>read</td>\n",
       "      <td>country_8</td>\n",
       "      <td>2458151265</td>\n",
       "      <td>Reddit</td>\n",
       "      <td>North America</td>\n",
       "    </tr>\n",
       "    <tr>\n",
       "      <th>...</th>\n",
       "      <td>...</td>\n",
       "      <td>...</td>\n",
       "      <td>...</td>\n",
       "      <td>...</td>\n",
       "      <td>...</td>\n",
       "      <td>...</td>\n",
       "    </tr>\n",
       "    <tr>\n",
       "      <th>1790</th>\n",
       "      <td>2018-01-01 23:57:14</td>\n",
       "      <td>read</td>\n",
       "      <td>country_2</td>\n",
       "      <td>2458153051</td>\n",
       "      <td>AdWords</td>\n",
       "      <td>North America</td>\n",
       "    </tr>\n",
       "    <tr>\n",
       "      <th>1791</th>\n",
       "      <td>2018-01-01 23:58:33</td>\n",
       "      <td>read</td>\n",
       "      <td>country_8</td>\n",
       "      <td>2458153052</td>\n",
       "      <td>SEO</td>\n",
       "      <td>Asia</td>\n",
       "    </tr>\n",
       "    <tr>\n",
       "      <th>1792</th>\n",
       "      <td>2018-01-01 23:59:36</td>\n",
       "      <td>read</td>\n",
       "      <td>country_6</td>\n",
       "      <td>2458153053</td>\n",
       "      <td>Reddit</td>\n",
       "      <td>Asia</td>\n",
       "    </tr>\n",
       "    <tr>\n",
       "      <th>1793</th>\n",
       "      <td>2018-01-01 23:59:36</td>\n",
       "      <td>read</td>\n",
       "      <td>country_7</td>\n",
       "      <td>2458153054</td>\n",
       "      <td>AdWords</td>\n",
       "      <td>Europe</td>\n",
       "    </tr>\n",
       "    <tr>\n",
       "      <th>1794</th>\n",
       "      <td>2018-01-01 23:59:38</td>\n",
       "      <td>read</td>\n",
       "      <td>country_5</td>\n",
       "      <td>2458153055</td>\n",
       "      <td>Reddit</td>\n",
       "      <td>Asia</td>\n",
       "    </tr>\n",
       "  </tbody>\n",
       "</table>\n",
       "<p>1795 rows × 6 columns</p>\n",
       "</div>"
      ],
      "text/plain": [
       "             my_datetime event country_code     user_id   source  \\\n",
       "0    2018-01-01 00:01:01  read    country_7  2458151261      SEO   \n",
       "1    2018-01-01 00:03:20  read    country_7  2458151262      SEO   \n",
       "2    2018-01-01 00:04:01  read    country_7  2458151263  AdWords   \n",
       "3    2018-01-01 00:04:02  read    country_7  2458151264  AdWords   \n",
       "4    2018-01-01 00:05:03  read    country_8  2458151265   Reddit   \n",
       "...                  ...   ...          ...         ...      ...   \n",
       "1790 2018-01-01 23:57:14  read    country_2  2458153051  AdWords   \n",
       "1791 2018-01-01 23:58:33  read    country_8  2458153052      SEO   \n",
       "1792 2018-01-01 23:59:36  read    country_6  2458153053   Reddit   \n",
       "1793 2018-01-01 23:59:36  read    country_7  2458153054  AdWords   \n",
       "1794 2018-01-01 23:59:38  read    country_5  2458153055   Reddit   \n",
       "\n",
       "            country  \n",
       "0     North America  \n",
       "1     South America  \n",
       "2            Africa  \n",
       "3            Europe  \n",
       "4     North America  \n",
       "...             ...  \n",
       "1790  North America  \n",
       "1791           Asia  \n",
       "1792           Asia  \n",
       "1793         Europe  \n",
       "1794           Asia  \n",
       "\n",
       "[1795 rows x 6 columns]"
      ]
     },
     "execution_count": 2,
     "metadata": {},
     "output_type": "execute_result"
    }
   ],
   "source": [
    "data = pd.read_csv(\"https://raw.githubusercontent.com/Mounika-Kajjam/SummerInternship/master/data.csv\",sep=\";\",header=None,parse_dates=[0])\n",
    "data.columns=['my_datetime', 'event', 'country_code', 'user_id', 'source', 'country']\n",
    "data"
   ]
  },
  {
   "cell_type": "code",
   "execution_count": 3,
   "metadata": {},
   "outputs": [
    {
     "name": "stdout",
     "output_type": "stream",
     "text": [
      "No of rows=  1795\n",
      "No of columns=  6\n"
     ]
    }
   ],
   "source": [
    "print('No of rows= ',data.shape[0])\n",
    "print('No of columns= ',data.shape[1])"
   ]
  },
  {
   "cell_type": "code",
   "execution_count": 4,
   "metadata": {},
   "outputs": [
    {
     "name": "stdout",
     "output_type": "stream",
     "text": [
      "Column_Names:\n",
      "  ['my_datetime', 'event', 'country_code', 'user_id', 'source', 'country']\n",
      "\n",
      "\n",
      "Row_Labels:\n",
      " [0, 1, 2, 3, 4, 5, 6, 7, 8, 9, 10, 11, 12, 13, 14, 15, 16, 17, 18, 19, 20, 21, 22, 23, 24, 25, 26, 27, 28, 29, 30, 31, 32, 33, 34, 35, 36, 37, 38, 39, 40, 41, 42, 43, 44, 45, 46, 47, 48, 49, 50, 51, 52, 53, 54, 55, 56, 57, 58, 59, 60, 61, 62, 63, 64, 65, 66, 67, 68, 69, 70, 71, 72, 73, 74, 75, 76, 77, 78, 79, 80, 81, 82, 83, 84, 85, 86, 87, 88, 89, 90, 91, 92, 93, 94, 95, 96, 97, 98, 99, 100, 101, 102, 103, 104, 105, 106, 107, 108, 109, 110, 111, 112, 113, 114, 115, 116, 117, 118, 119, 120, 121, 122, 123, 124, 125, 126, 127, 128, 129, 130, 131, 132, 133, 134, 135, 136, 137, 138, 139, 140, 141, 142, 143, 144, 145, 146, 147, 148, 149, 150, 151, 152, 153, 154, 155, 156, 157, 158, 159, 160, 161, 162, 163, 164, 165, 166, 167, 168, 169, 170, 171, 172, 173, 174, 175, 176, 177, 178, 179, 180, 181, 182, 183, 184, 185, 186, 187, 188, 189, 190, 191, 192, 193, 194, 195, 196, 197, 198, 199, 200, 201, 202, 203, 204, 205, 206, 207, 208, 209, 210, 211, 212, 213, 214, 215, 216, 217, 218, 219, 220, 221, 222, 223, 224, 225, 226, 227, 228, 229, 230, 231, 232, 233, 234, 235, 236, 237, 238, 239, 240, 241, 242, 243, 244, 245, 246, 247, 248, 249, 250, 251, 252, 253, 254, 255, 256, 257, 258, 259, 260, 261, 262, 263, 264, 265, 266, 267, 268, 269, 270, 271, 272, 273, 274, 275, 276, 277, 278, 279, 280, 281, 282, 283, 284, 285, 286, 287, 288, 289, 290, 291, 292, 293, 294, 295, 296, 297, 298, 299, 300, 301, 302, 303, 304, 305, 306, 307, 308, 309, 310, 311, 312, 313, 314, 315, 316, 317, 318, 319, 320, 321, 322, 323, 324, 325, 326, 327, 328, 329, 330, 331, 332, 333, 334, 335, 336, 337, 338, 339, 340, 341, 342, 343, 344, 345, 346, 347, 348, 349, 350, 351, 352, 353, 354, 355, 356, 357, 358, 359, 360, 361, 362, 363, 364, 365, 366, 367, 368, 369, 370, 371, 372, 373, 374, 375, 376, 377, 378, 379, 380, 381, 382, 383, 384, 385, 386, 387, 388, 389, 390, 391, 392, 393, 394, 395, 396, 397, 398, 399, 400, 401, 402, 403, 404, 405, 406, 407, 408, 409, 410, 411, 412, 413, 414, 415, 416, 417, 418, 419, 420, 421, 422, 423, 424, 425, 426, 427, 428, 429, 430, 431, 432, 433, 434, 435, 436, 437, 438, 439, 440, 441, 442, 443, 444, 445, 446, 447, 448, 449, 450, 451, 452, 453, 454, 455, 456, 457, 458, 459, 460, 461, 462, 463, 464, 465, 466, 467, 468, 469, 470, 471, 472, 473, 474, 475, 476, 477, 478, 479, 480, 481, 482, 483, 484, 485, 486, 487, 488, 489, 490, 491, 492, 493, 494, 495, 496, 497, 498, 499, 500, 501, 502, 503, 504, 505, 506, 507, 508, 509, 510, 511, 512, 513, 514, 515, 516, 517, 518, 519, 520, 521, 522, 523, 524, 525, 526, 527, 528, 529, 530, 531, 532, 533, 534, 535, 536, 537, 538, 539, 540, 541, 542, 543, 544, 545, 546, 547, 548, 549, 550, 551, 552, 553, 554, 555, 556, 557, 558, 559, 560, 561, 562, 563, 564, 565, 566, 567, 568, 569, 570, 571, 572, 573, 574, 575, 576, 577, 578, 579, 580, 581, 582, 583, 584, 585, 586, 587, 588, 589, 590, 591, 592, 593, 594, 595, 596, 597, 598, 599, 600, 601, 602, 603, 604, 605, 606, 607, 608, 609, 610, 611, 612, 613, 614, 615, 616, 617, 618, 619, 620, 621, 622, 623, 624, 625, 626, 627, 628, 629, 630, 631, 632, 633, 634, 635, 636, 637, 638, 639, 640, 641, 642, 643, 644, 645, 646, 647, 648, 649, 650, 651, 652, 653, 654, 655, 656, 657, 658, 659, 660, 661, 662, 663, 664, 665, 666, 667, 668, 669, 670, 671, 672, 673, 674, 675, 676, 677, 678, 679, 680, 681, 682, 683, 684, 685, 686, 687, 688, 689, 690, 691, 692, 693, 694, 695, 696, 697, 698, 699, 700, 701, 702, 703, 704, 705, 706, 707, 708, 709, 710, 711, 712, 713, 714, 715, 716, 717, 718, 719, 720, 721, 722, 723, 724, 725, 726, 727, 728, 729, 730, 731, 732, 733, 734, 735, 736, 737, 738, 739, 740, 741, 742, 743, 744, 745, 746, 747, 748, 749, 750, 751, 752, 753, 754, 755, 756, 757, 758, 759, 760, 761, 762, 763, 764, 765, 766, 767, 768, 769, 770, 771, 772, 773, 774, 775, 776, 777, 778, 779, 780, 781, 782, 783, 784, 785, 786, 787, 788, 789, 790, 791, 792, 793, 794, 795, 796, 797, 798, 799, 800, 801, 802, 803, 804, 805, 806, 807, 808, 809, 810, 811, 812, 813, 814, 815, 816, 817, 818, 819, 820, 821, 822, 823, 824, 825, 826, 827, 828, 829, 830, 831, 832, 833, 834, 835, 836, 837, 838, 839, 840, 841, 842, 843, 844, 845, 846, 847, 848, 849, 850, 851, 852, 853, 854, 855, 856, 857, 858, 859, 860, 861, 862, 863, 864, 865, 866, 867, 868, 869, 870, 871, 872, 873, 874, 875, 876, 877, 878, 879, 880, 881, 882, 883, 884, 885, 886, 887, 888, 889, 890, 891, 892, 893, 894, 895, 896, 897, 898, 899, 900, 901, 902, 903, 904, 905, 906, 907, 908, 909, 910, 911, 912, 913, 914, 915, 916, 917, 918, 919, 920, 921, 922, 923, 924, 925, 926, 927, 928, 929, 930, 931, 932, 933, 934, 935, 936, 937, 938, 939, 940, 941, 942, 943, 944, 945, 946, 947, 948, 949, 950, 951, 952, 953, 954, 955, 956, 957, 958, 959, 960, 961, 962, 963, 964, 965, 966, 967, 968, 969, 970, 971, 972, 973, 974, 975, 976, 977, 978, 979, 980, 981, 982, 983, 984, 985, 986, 987, 988, 989, 990, 991, 992, 993, 994, 995, 996, 997, 998, 999, 1000, 1001, 1002, 1003, 1004, 1005, 1006, 1007, 1008, 1009, 1010, 1011, 1012, 1013, 1014, 1015, 1016, 1017, 1018, 1019, 1020, 1021, 1022, 1023, 1024, 1025, 1026, 1027, 1028, 1029, 1030, 1031, 1032, 1033, 1034, 1035, 1036, 1037, 1038, 1039, 1040, 1041, 1042, 1043, 1044, 1045, 1046, 1047, 1048, 1049, 1050, 1051, 1052, 1053, 1054, 1055, 1056, 1057, 1058, 1059, 1060, 1061, 1062, 1063, 1064, 1065, 1066, 1067, 1068, 1069, 1070, 1071, 1072, 1073, 1074, 1075, 1076, 1077, 1078, 1079, 1080, 1081, 1082, 1083, 1084, 1085, 1086, 1087, 1088, 1089, 1090, 1091, 1092, 1093, 1094, 1095, 1096, 1097, 1098, 1099, 1100, 1101, 1102, 1103, 1104, 1105, 1106, 1107, 1108, 1109, 1110, 1111, 1112, 1113, 1114, 1115, 1116, 1117, 1118, 1119, 1120, 1121, 1122, 1123, 1124, 1125, 1126, 1127, 1128, 1129, 1130, 1131, 1132, 1133, 1134, 1135, 1136, 1137, 1138, 1139, 1140, 1141, 1142, 1143, 1144, 1145, 1146, 1147, 1148, 1149, 1150, 1151, 1152, 1153, 1154, 1155, 1156, 1157, 1158, 1159, 1160, 1161, 1162, 1163, 1164, 1165, 1166, 1167, 1168, 1169, 1170, 1171, 1172, 1173, 1174, 1175, 1176, 1177, 1178, 1179, 1180, 1181, 1182, 1183, 1184, 1185, 1186, 1187, 1188, 1189, 1190, 1191, 1192, 1193, 1194, 1195, 1196, 1197, 1198, 1199, 1200, 1201, 1202, 1203, 1204, 1205, 1206, 1207, 1208, 1209, 1210, 1211, 1212, 1213, 1214, 1215, 1216, 1217, 1218, 1219, 1220, 1221, 1222, 1223, 1224, 1225, 1226, 1227, 1228, 1229, 1230, 1231, 1232, 1233, 1234, 1235, 1236, 1237, 1238, 1239, 1240, 1241, 1242, 1243, 1244, 1245, 1246, 1247, 1248, 1249, 1250, 1251, 1252, 1253, 1254, 1255, 1256, 1257, 1258, 1259, 1260, 1261, 1262, 1263, 1264, 1265, 1266, 1267, 1268, 1269, 1270, 1271, 1272, 1273, 1274, 1275, 1276, 1277, 1278, 1279, 1280, 1281, 1282, 1283, 1284, 1285, 1286, 1287, 1288, 1289, 1290, 1291, 1292, 1293, 1294, 1295, 1296, 1297, 1298, 1299, 1300, 1301, 1302, 1303, 1304, 1305, 1306, 1307, 1308, 1309, 1310, 1311, 1312, 1313, 1314, 1315, 1316, 1317, 1318, 1319, 1320, 1321, 1322, 1323, 1324, 1325, 1326, 1327, 1328, 1329, 1330, 1331, 1332, 1333, 1334, 1335, 1336, 1337, 1338, 1339, 1340, 1341, 1342, 1343, 1344, 1345, 1346, 1347, 1348, 1349, 1350, 1351, 1352, 1353, 1354, 1355, 1356, 1357, 1358, 1359, 1360, 1361, 1362, 1363, 1364, 1365, 1366, 1367, 1368, 1369, 1370, 1371, 1372, 1373, 1374, 1375, 1376, 1377, 1378, 1379, 1380, 1381, 1382, 1383, 1384, 1385, 1386, 1387, 1388, 1389, 1390, 1391, 1392, 1393, 1394, 1395, 1396, 1397, 1398, 1399, 1400, 1401, 1402, 1403, 1404, 1405, 1406, 1407, 1408, 1409, 1410, 1411, 1412, 1413, 1414, 1415, 1416, 1417, 1418, 1419, 1420, 1421, 1422, 1423, 1424, 1425, 1426, 1427, 1428, 1429, 1430, 1431, 1432, 1433, 1434, 1435, 1436, 1437, 1438, 1439, 1440, 1441, 1442, 1443, 1444, 1445, 1446, 1447, 1448, 1449, 1450, 1451, 1452, 1453, 1454, 1455, 1456, 1457, 1458, 1459, 1460, 1461, 1462, 1463, 1464, 1465, 1466, 1467, 1468, 1469, 1470, 1471, 1472, 1473, 1474, 1475, 1476, 1477, 1478, 1479, 1480, 1481, 1482, 1483, 1484, 1485, 1486, 1487, 1488, 1489, 1490, 1491, 1492, 1493, 1494, 1495, 1496, 1497, 1498, 1499, 1500, 1501, 1502, 1503, 1504, 1505, 1506, 1507, 1508, 1509, 1510, 1511, 1512, 1513, 1514, 1515, 1516, 1517, 1518, 1519, 1520, 1521, 1522, 1523, 1524, 1525, 1526, 1527, 1528, 1529, 1530, 1531, 1532, 1533, 1534, 1535, 1536, 1537, 1538, 1539, 1540, 1541, 1542, 1543, 1544, 1545, 1546, 1547, 1548, 1549, 1550, 1551, 1552, 1553, 1554, 1555, 1556, 1557, 1558, 1559, 1560, 1561, 1562, 1563, 1564, 1565, 1566, 1567, 1568, 1569, 1570, 1571, 1572, 1573, 1574, 1575, 1576, 1577, 1578, 1579, 1580, 1581, 1582, 1583, 1584, 1585, 1586, 1587, 1588, 1589, 1590, 1591, 1592, 1593, 1594, 1595, 1596, 1597, 1598, 1599, 1600, 1601, 1602, 1603, 1604, 1605, 1606, 1607, 1608, 1609, 1610, 1611, 1612, 1613, 1614, 1615, 1616, 1617, 1618, 1619, 1620, 1621, 1622, 1623, 1624, 1625, 1626, 1627, 1628, 1629, 1630, 1631, 1632, 1633, 1634, 1635, 1636, 1637, 1638, 1639, 1640, 1641, 1642, 1643, 1644, 1645, 1646, 1647, 1648, 1649, 1650, 1651, 1652, 1653, 1654, 1655, 1656, 1657, 1658, 1659, 1660, 1661, 1662, 1663, 1664, 1665, 1666, 1667, 1668, 1669, 1670, 1671, 1672, 1673, 1674, 1675, 1676, 1677, 1678, 1679, 1680, 1681, 1682, 1683, 1684, 1685, 1686, 1687, 1688, 1689, 1690, 1691, 1692, 1693, 1694, 1695, 1696, 1697, 1698, 1699, 1700, 1701, 1702, 1703, 1704, 1705, 1706, 1707, 1708, 1709, 1710, 1711, 1712, 1713, 1714, 1715, 1716, 1717, 1718, 1719, 1720, 1721, 1722, 1723, 1724, 1725, 1726, 1727, 1728, 1729, 1730, 1731, 1732, 1733, 1734, 1735, 1736, 1737, 1738, 1739, 1740, 1741, 1742, 1743, 1744, 1745, 1746, 1747, 1748, 1749, 1750, 1751, 1752, 1753, 1754, 1755, 1756, 1757, 1758, 1759, 1760, 1761, 1762, 1763, 1764, 1765, 1766, 1767, 1768, 1769, 1770, 1771, 1772, 1773, 1774, 1775, 1776, 1777, 1778, 1779, 1780, 1781, 1782, 1783, 1784, 1785, 1786, 1787, 1788, 1789, 1790, 1791, 1792, 1793, 1794]\n"
     ]
    }
   ],
   "source": [
    "print(\"Column_Names:\\n \",list(data.columns))\n",
    "print(\"\\n\\nRow_Labels:\\n\",list(data.index))"
   ]
  },
  {
   "cell_type": "markdown",
   "metadata": {},
   "source": [
    "### My Observation:\n",
    "    - What type of data?"
   ]
  },
  {
   "cell_type": "code",
   "execution_count": 5,
   "metadata": {},
   "outputs": [
    {
     "data": {
      "text/plain": [
       "my_datetime     datetime64[ns]\n",
       "event                   object\n",
       "country_code            object\n",
       "user_id                  int64\n",
       "source                  object\n",
       "country                 object\n",
       "dtype: object"
      ]
     },
     "execution_count": 5,
     "metadata": {},
     "output_type": "execute_result"
    }
   ],
   "source": [
    "data.dtypes"
   ]
  },
  {
   "cell_type": "markdown",
   "metadata": {},
   "source": [
    "A) Every row is of object data type except for <strong>user_id</strong>\n",
    "\n",
    "    - Any Missing values in the data?"
   ]
  },
  {
   "cell_type": "code",
   "execution_count": 6,
   "metadata": {},
   "outputs": [
    {
     "data": {
      "text/plain": [
       "my_datetime     0\n",
       "event           0\n",
       "country_code    0\n",
       "user_id         0\n",
       "source          0\n",
       "country         0\n",
       "dtype: int64"
      ]
     },
     "execution_count": 6,
     "metadata": {},
     "output_type": "execute_result"
    }
   ],
   "source": [
    "data.isna().sum() #No NaN values"
   ]
  },
  {
   "cell_type": "markdown",
   "metadata": {},
   "source": [
    "#####  print the datatype of each column"
   ]
  },
  {
   "cell_type": "code",
   "execution_count": 7,
   "metadata": {},
   "outputs": [
    {
     "data": {
      "text/plain": [
       "my_datetime     datetime64[ns]\n",
       "event                   object\n",
       "country_code            object\n",
       "user_id                  int64\n",
       "source                  object\n",
       "country                 object\n",
       "dtype: object"
      ]
     },
     "execution_count": 7,
     "metadata": {},
     "output_type": "execute_result"
    }
   ],
   "source": [
    "data.dtypes"
   ]
  },
  {
   "cell_type": "markdown",
   "metadata": {},
   "source": [
    "##### For each data type how many columns are there"
   ]
  },
  {
   "cell_type": "code",
   "execution_count": 8,
   "metadata": {},
   "outputs": [
    {
     "name": "stdout",
     "output_type": "stream",
     "text": [
      "Object type columns:  4\n",
      "integer type columns:  1\n",
      "datetime type columns:  1\n"
     ]
    }
   ],
   "source": [
    "print(\"Object type columns: \",len(data.select_dtypes('object').columns))\n",
    "print('integer type columns: ',len(data.select_dtypes('number').columns))\n",
    "print('datetime type columns: ',len(data.select_dtypes('datetime').columns))"
   ]
  },
  {
   "cell_type": "code",
   "execution_count": 9,
   "metadata": {},
   "outputs": [
    {
     "data": {
      "text/html": [
       "<div>\n",
       "<style scoped>\n",
       "    .dataframe tbody tr th:only-of-type {\n",
       "        vertical-align: middle;\n",
       "    }\n",
       "\n",
       "    .dataframe tbody tr th {\n",
       "        vertical-align: top;\n",
       "    }\n",
       "\n",
       "    .dataframe thead th {\n",
       "        text-align: right;\n",
       "    }\n",
       "</style>\n",
       "<table border=\"1\" class=\"dataframe\">\n",
       "  <thead>\n",
       "    <tr style=\"text-align: right;\">\n",
       "      <th></th>\n",
       "      <th>event</th>\n",
       "      <th>country_code</th>\n",
       "      <th>user_id</th>\n",
       "      <th>source</th>\n",
       "      <th>country</th>\n",
       "    </tr>\n",
       "  </thead>\n",
       "  <tbody>\n",
       "    <tr>\n",
       "      <th>count</th>\n",
       "      <td>1795</td>\n",
       "      <td>1795</td>\n",
       "      <td>1.795000e+03</td>\n",
       "      <td>1795</td>\n",
       "      <td>1795</td>\n",
       "    </tr>\n",
       "    <tr>\n",
       "      <th>unique</th>\n",
       "      <td>1</td>\n",
       "      <td>8</td>\n",
       "      <td>NaN</td>\n",
       "      <td>3</td>\n",
       "      <td>6</td>\n",
       "    </tr>\n",
       "    <tr>\n",
       "      <th>top</th>\n",
       "      <td>read</td>\n",
       "      <td>country_2</td>\n",
       "      <td>NaN</td>\n",
       "      <td>Reddit</td>\n",
       "      <td>Asia</td>\n",
       "    </tr>\n",
       "    <tr>\n",
       "      <th>freq</th>\n",
       "      <td>1795</td>\n",
       "      <td>462</td>\n",
       "      <td>NaN</td>\n",
       "      <td>949</td>\n",
       "      <td>667</td>\n",
       "    </tr>\n",
       "    <tr>\n",
       "      <th>mean</th>\n",
       "      <td>NaN</td>\n",
       "      <td>NaN</td>\n",
       "      <td>2.458152e+09</td>\n",
       "      <td>NaN</td>\n",
       "      <td>NaN</td>\n",
       "    </tr>\n",
       "    <tr>\n",
       "      <th>std</th>\n",
       "      <td>NaN</td>\n",
       "      <td>NaN</td>\n",
       "      <td>5.183162e+02</td>\n",
       "      <td>NaN</td>\n",
       "      <td>NaN</td>\n",
       "    </tr>\n",
       "    <tr>\n",
       "      <th>min</th>\n",
       "      <td>NaN</td>\n",
       "      <td>NaN</td>\n",
       "      <td>2.458151e+09</td>\n",
       "      <td>NaN</td>\n",
       "      <td>NaN</td>\n",
       "    </tr>\n",
       "    <tr>\n",
       "      <th>25%</th>\n",
       "      <td>NaN</td>\n",
       "      <td>NaN</td>\n",
       "      <td>2.458152e+09</td>\n",
       "      <td>NaN</td>\n",
       "      <td>NaN</td>\n",
       "    </tr>\n",
       "    <tr>\n",
       "      <th>50%</th>\n",
       "      <td>NaN</td>\n",
       "      <td>NaN</td>\n",
       "      <td>2.458152e+09</td>\n",
       "      <td>NaN</td>\n",
       "      <td>NaN</td>\n",
       "    </tr>\n",
       "    <tr>\n",
       "      <th>75%</th>\n",
       "      <td>NaN</td>\n",
       "      <td>NaN</td>\n",
       "      <td>2.458153e+09</td>\n",
       "      <td>NaN</td>\n",
       "      <td>NaN</td>\n",
       "    </tr>\n",
       "    <tr>\n",
       "      <th>max</th>\n",
       "      <td>NaN</td>\n",
       "      <td>NaN</td>\n",
       "      <td>2.458153e+09</td>\n",
       "      <td>NaN</td>\n",
       "      <td>NaN</td>\n",
       "    </tr>\n",
       "  </tbody>\n",
       "</table>\n",
       "</div>"
      ],
      "text/plain": [
       "       event country_code       user_id  source country\n",
       "count   1795         1795  1.795000e+03    1795    1795\n",
       "unique     1            8           NaN       3       6\n",
       "top     read    country_2           NaN  Reddit    Asia\n",
       "freq    1795          462           NaN     949     667\n",
       "mean     NaN          NaN  2.458152e+09     NaN     NaN\n",
       "std      NaN          NaN  5.183162e+02     NaN     NaN\n",
       "min      NaN          NaN  2.458151e+09     NaN     NaN\n",
       "25%      NaN          NaN  2.458152e+09     NaN     NaN\n",
       "50%      NaN          NaN  2.458152e+09     NaN     NaN\n",
       "75%      NaN          NaN  2.458153e+09     NaN     NaN\n",
       "max      NaN          NaN  2.458153e+09     NaN     NaN"
      ]
     },
     "execution_count": 9,
     "metadata": {},
     "output_type": "execute_result"
    }
   ],
   "source": [
    "data.describe(include=['int','object'])"
   ]
  },
  {
   "cell_type": "markdown",
   "metadata": {},
   "source": [
    "#### Use the info function to get the detailed info of the dataframe"
   ]
  },
  {
   "cell_type": "code",
   "execution_count": 10,
   "metadata": {},
   "outputs": [
    {
     "name": "stdout",
     "output_type": "stream",
     "text": [
      "<class 'pandas.core.frame.DataFrame'>\n",
      "RangeIndex: 1795 entries, 0 to 1794\n",
      "Data columns (total 6 columns):\n",
      " #   Column        Non-Null Count  Dtype         \n",
      "---  ------        --------------  -----         \n",
      " 0   my_datetime   1795 non-null   datetime64[ns]\n",
      " 1   event         1795 non-null   object        \n",
      " 2   country_code  1795 non-null   object        \n",
      " 3   user_id       1795 non-null   int64         \n",
      " 4   source        1795 non-null   object        \n",
      " 5   country       1795 non-null   object        \n",
      "dtypes: datetime64[ns](1), int64(1), object(4)\n",
      "memory usage: 84.3+ KB\n"
     ]
    }
   ],
   "source": [
    "data.info()"
   ]
  },
  {
   "cell_type": "markdown",
   "metadata": {},
   "source": [
    "#### Check for the duplicate values in all the columns"
   ]
  },
  {
   "cell_type": "code",
   "execution_count": 11,
   "metadata": {},
   "outputs": [
    {
     "data": {
      "text/html": [
       "<div>\n",
       "<style scoped>\n",
       "    .dataframe tbody tr th:only-of-type {\n",
       "        vertical-align: middle;\n",
       "    }\n",
       "\n",
       "    .dataframe tbody tr th {\n",
       "        vertical-align: top;\n",
       "    }\n",
       "\n",
       "    .dataframe thead th {\n",
       "        text-align: right;\n",
       "    }\n",
       "</style>\n",
       "<table border=\"1\" class=\"dataframe\">\n",
       "  <thead>\n",
       "    <tr style=\"text-align: right;\">\n",
       "      <th></th>\n",
       "      <th>my_datetime</th>\n",
       "      <th>event</th>\n",
       "      <th>country_code</th>\n",
       "      <th>user_id</th>\n",
       "      <th>source</th>\n",
       "      <th>country</th>\n",
       "    </tr>\n",
       "  </thead>\n",
       "  <tbody>\n",
       "  </tbody>\n",
       "</table>\n",
       "</div>"
      ],
      "text/plain": [
       "Empty DataFrame\n",
       "Columns: [my_datetime, event, country_code, user_id, source, country]\n",
       "Index: []"
      ]
     },
     "execution_count": 11,
     "metadata": {},
     "output_type": "execute_result"
    }
   ],
   "source": [
    "data[data.duplicated()]"
   ]
  },
  {
   "cell_type": "code",
   "execution_count": 12,
   "metadata": {},
   "outputs": [
    {
     "name": "stdout",
     "output_type": "stream",
     "text": [
      "my_datetime \n",
      "              my_datetime event country_code     user_id   source  \\\n",
      "85   2018-01-01 01:17:48  read    country_8  2458151346   Reddit   \n",
      "96   2018-01-01 01:23:44  read    country_7  2458151357  AdWords   \n",
      "194  2018-01-01 02:46:20  read    country_6  2458151455      SEO   \n",
      "226  2018-01-01 03:10:36  read    country_6  2458151487   Reddit   \n",
      "227  2018-01-01 03:10:36  read    country_6  2458151488  AdWords   \n",
      "267  2018-01-01 03:31:51  read    country_7  2458151528  AdWords   \n",
      "337  2018-01-01 04:26:24  read    country_7  2458151598  AdWords   \n",
      "416  2018-01-01 05:44:15  read    country_7  2458151677   Reddit   \n",
      "420  2018-01-01 05:47:29  read    country_2  2458151681   Reddit   \n",
      "422  2018-01-01 05:47:50  read    country_5  2458151683   Reddit   \n",
      "458  2018-01-01 06:09:59  read    country_7  2458151719   Reddit   \n",
      "495  2018-01-01 06:38:26  read    country_5  2458151756   Reddit   \n",
      "721  2018-01-01 09:48:57  read    country_8  2458151982   Reddit   \n",
      "738  2018-01-01 10:00:14  read    country_7  2458151999   Reddit   \n",
      "772  2018-01-01 10:22:10  read    country_7  2458152033   Reddit   \n",
      "912  2018-01-01 12:14:20  read    country_5  2458152173      SEO   \n",
      "1302 2018-01-01 17:39:00  read    country_8  2458152563  AdWords   \n",
      "1494 2018-01-01 20:20:34  read    country_6  2458152755   Reddit   \n",
      "1536 2018-01-01 20:52:13  read    country_7  2458152797  AdWords   \n",
      "1660 2018-01-01 22:27:20  read    country_4  2458152921   Reddit   \n",
      "1731 2018-01-01 23:16:19  read    country_2  2458152992   Reddit   \n",
      "1793 2018-01-01 23:59:36  read    country_7  2458153054  AdWords   \n",
      "\n",
      "            country  \n",
      "85             Asia  \n",
      "96             Asia  \n",
      "194   North America  \n",
      "226   North America  \n",
      "227       Australia  \n",
      "267            Asia  \n",
      "337          Europe  \n",
      "416   North America  \n",
      "420          Europe  \n",
      "422            Asia  \n",
      "458            Asia  \n",
      "495   South America  \n",
      "721   North America  \n",
      "738            Asia  \n",
      "772          Africa  \n",
      "912   North America  \n",
      "1302         Europe  \n",
      "1494         Africa  \n",
      "1536  North America  \n",
      "1660         Africa  \n",
      "1731  South America  \n",
      "1793         Europe   \n",
      "\n",
      "\n",
      "event \n",
      "              my_datetime event country_code     user_id   source  \\\n",
      "1    2018-01-01 00:03:20  read    country_7  2458151262      SEO   \n",
      "2    2018-01-01 00:04:01  read    country_7  2458151263  AdWords   \n",
      "3    2018-01-01 00:04:02  read    country_7  2458151264  AdWords   \n",
      "4    2018-01-01 00:05:03  read    country_8  2458151265   Reddit   \n",
      "5    2018-01-01 00:05:42  read    country_6  2458151266   Reddit   \n",
      "...                  ...   ...          ...         ...      ...   \n",
      "1790 2018-01-01 23:57:14  read    country_2  2458153051  AdWords   \n",
      "1791 2018-01-01 23:58:33  read    country_8  2458153052      SEO   \n",
      "1792 2018-01-01 23:59:36  read    country_6  2458153053   Reddit   \n",
      "1793 2018-01-01 23:59:36  read    country_7  2458153054  AdWords   \n",
      "1794 2018-01-01 23:59:38  read    country_5  2458153055   Reddit   \n",
      "\n",
      "            country  \n",
      "1     South America  \n",
      "2            Africa  \n",
      "3            Europe  \n",
      "4     North America  \n",
      "5     North America  \n",
      "...             ...  \n",
      "1790  North America  \n",
      "1791           Asia  \n",
      "1792           Asia  \n",
      "1793         Europe  \n",
      "1794           Asia  \n",
      "\n",
      "[1794 rows x 6 columns] \n",
      "\n",
      "\n",
      "country_code \n",
      "              my_datetime event country_code     user_id   source  \\\n",
      "1    2018-01-01 00:03:20  read    country_7  2458151262      SEO   \n",
      "2    2018-01-01 00:04:01  read    country_7  2458151263  AdWords   \n",
      "3    2018-01-01 00:04:02  read    country_7  2458151264  AdWords   \n",
      "7    2018-01-01 00:06:15  read    country_6  2458151268  AdWords   \n",
      "8    2018-01-01 00:07:21  read    country_7  2458151269  AdWords   \n",
      "...                  ...   ...          ...         ...      ...   \n",
      "1790 2018-01-01 23:57:14  read    country_2  2458153051  AdWords   \n",
      "1791 2018-01-01 23:58:33  read    country_8  2458153052      SEO   \n",
      "1792 2018-01-01 23:59:36  read    country_6  2458153053   Reddit   \n",
      "1793 2018-01-01 23:59:36  read    country_7  2458153054  AdWords   \n",
      "1794 2018-01-01 23:59:38  read    country_5  2458153055   Reddit   \n",
      "\n",
      "            country  \n",
      "1     South America  \n",
      "2            Africa  \n",
      "3            Europe  \n",
      "7            Europe  \n",
      "8     North America  \n",
      "...             ...  \n",
      "1790  North America  \n",
      "1791           Asia  \n",
      "1792           Asia  \n",
      "1793         Europe  \n",
      "1794           Asia  \n",
      "\n",
      "[1787 rows x 6 columns] \n",
      "\n",
      "\n",
      "user_id \n",
      " Empty DataFrame\n",
      "Columns: [my_datetime, event, country_code, user_id, source, country]\n",
      "Index: [] \n",
      "\n",
      "\n",
      "source \n",
      "              my_datetime event country_code     user_id   source  \\\n",
      "1    2018-01-01 00:03:20  read    country_7  2458151262      SEO   \n",
      "3    2018-01-01 00:04:02  read    country_7  2458151264  AdWords   \n",
      "5    2018-01-01 00:05:42  read    country_6  2458151266   Reddit   \n",
      "6    2018-01-01 00:06:06  read    country_2  2458151267   Reddit   \n",
      "7    2018-01-01 00:06:15  read    country_6  2458151268  AdWords   \n",
      "...                  ...   ...          ...         ...      ...   \n",
      "1790 2018-01-01 23:57:14  read    country_2  2458153051  AdWords   \n",
      "1791 2018-01-01 23:58:33  read    country_8  2458153052      SEO   \n",
      "1792 2018-01-01 23:59:36  read    country_6  2458153053   Reddit   \n",
      "1793 2018-01-01 23:59:36  read    country_7  2458153054  AdWords   \n",
      "1794 2018-01-01 23:59:38  read    country_5  2458153055   Reddit   \n",
      "\n",
      "            country  \n",
      "1     South America  \n",
      "3            Europe  \n",
      "5     North America  \n",
      "6            Europe  \n",
      "7            Europe  \n",
      "...             ...  \n",
      "1790  North America  \n",
      "1791           Asia  \n",
      "1792           Asia  \n",
      "1793         Europe  \n",
      "1794           Asia  \n",
      "\n",
      "[1792 rows x 6 columns] \n",
      "\n",
      "\n",
      "country \n",
      "              my_datetime event country_code     user_id   source  \\\n",
      "4    2018-01-01 00:05:03  read    country_8  2458151265   Reddit   \n",
      "5    2018-01-01 00:05:42  read    country_6  2458151266   Reddit   \n",
      "6    2018-01-01 00:06:06  read    country_2  2458151267   Reddit   \n",
      "7    2018-01-01 00:06:15  read    country_6  2458151268  AdWords   \n",
      "8    2018-01-01 00:07:21  read    country_7  2458151269  AdWords   \n",
      "...                  ...   ...          ...         ...      ...   \n",
      "1790 2018-01-01 23:57:14  read    country_2  2458153051  AdWords   \n",
      "1791 2018-01-01 23:58:33  read    country_8  2458153052      SEO   \n",
      "1792 2018-01-01 23:59:36  read    country_6  2458153053   Reddit   \n",
      "1793 2018-01-01 23:59:36  read    country_7  2458153054  AdWords   \n",
      "1794 2018-01-01 23:59:38  read    country_5  2458153055   Reddit   \n",
      "\n",
      "            country  \n",
      "4     North America  \n",
      "5     North America  \n",
      "6            Europe  \n",
      "7            Europe  \n",
      "8     North America  \n",
      "...             ...  \n",
      "1790  North America  \n",
      "1791           Asia  \n",
      "1792           Asia  \n",
      "1793         Europe  \n",
      "1794           Asia  \n",
      "\n",
      "[1789 rows x 6 columns] \n",
      "\n",
      "\n"
     ]
    }
   ],
   "source": [
    "for i in data.columns:\n",
    "    print(i,\"\\n\",data[data[i].duplicated()],\"\\n\\n\")"
   ]
  },
  {
   "cell_type": "markdown",
   "metadata": {},
   "source": [
    "####  Replace the value “South America” from country column with NaN and fill with mode of   the column"
   ]
  },
  {
   "cell_type": "code",
   "execution_count": 13,
   "metadata": {},
   "outputs": [
    {
     "data": {
      "text/html": [
       "<div>\n",
       "<style scoped>\n",
       "    .dataframe tbody tr th:only-of-type {\n",
       "        vertical-align: middle;\n",
       "    }\n",
       "\n",
       "    .dataframe tbody tr th {\n",
       "        vertical-align: top;\n",
       "    }\n",
       "\n",
       "    .dataframe thead th {\n",
       "        text-align: right;\n",
       "    }\n",
       "</style>\n",
       "<table border=\"1\" class=\"dataframe\">\n",
       "  <thead>\n",
       "    <tr style=\"text-align: right;\">\n",
       "      <th></th>\n",
       "      <th>my_datetime</th>\n",
       "      <th>event</th>\n",
       "      <th>country_code</th>\n",
       "      <th>user_id</th>\n",
       "      <th>source</th>\n",
       "      <th>country</th>\n",
       "    </tr>\n",
       "  </thead>\n",
       "  <tbody>\n",
       "    <tr>\n",
       "      <th>0</th>\n",
       "      <td>2018-01-01 00:01:01</td>\n",
       "      <td>read</td>\n",
       "      <td>country_7</td>\n",
       "      <td>2458151261</td>\n",
       "      <td>SEO</td>\n",
       "      <td>North America</td>\n",
       "    </tr>\n",
       "    <tr>\n",
       "      <th>1</th>\n",
       "      <td>2018-01-01 00:03:20</td>\n",
       "      <td>read</td>\n",
       "      <td>country_7</td>\n",
       "      <td>2458151262</td>\n",
       "      <td>SEO</td>\n",
       "      <td>NaN</td>\n",
       "    </tr>\n",
       "    <tr>\n",
       "      <th>2</th>\n",
       "      <td>2018-01-01 00:04:01</td>\n",
       "      <td>read</td>\n",
       "      <td>country_7</td>\n",
       "      <td>2458151263</td>\n",
       "      <td>AdWords</td>\n",
       "      <td>Africa</td>\n",
       "    </tr>\n",
       "    <tr>\n",
       "      <th>3</th>\n",
       "      <td>2018-01-01 00:04:02</td>\n",
       "      <td>read</td>\n",
       "      <td>country_7</td>\n",
       "      <td>2458151264</td>\n",
       "      <td>AdWords</td>\n",
       "      <td>Europe</td>\n",
       "    </tr>\n",
       "    <tr>\n",
       "      <th>4</th>\n",
       "      <td>2018-01-01 00:05:03</td>\n",
       "      <td>read</td>\n",
       "      <td>country_8</td>\n",
       "      <td>2458151265</td>\n",
       "      <td>Reddit</td>\n",
       "      <td>North America</td>\n",
       "    </tr>\n",
       "    <tr>\n",
       "      <th>...</th>\n",
       "      <td>...</td>\n",
       "      <td>...</td>\n",
       "      <td>...</td>\n",
       "      <td>...</td>\n",
       "      <td>...</td>\n",
       "      <td>...</td>\n",
       "    </tr>\n",
       "    <tr>\n",
       "      <th>1790</th>\n",
       "      <td>2018-01-01 23:57:14</td>\n",
       "      <td>read</td>\n",
       "      <td>country_2</td>\n",
       "      <td>2458153051</td>\n",
       "      <td>AdWords</td>\n",
       "      <td>North America</td>\n",
       "    </tr>\n",
       "    <tr>\n",
       "      <th>1791</th>\n",
       "      <td>2018-01-01 23:58:33</td>\n",
       "      <td>read</td>\n",
       "      <td>country_8</td>\n",
       "      <td>2458153052</td>\n",
       "      <td>SEO</td>\n",
       "      <td>Asia</td>\n",
       "    </tr>\n",
       "    <tr>\n",
       "      <th>1792</th>\n",
       "      <td>2018-01-01 23:59:36</td>\n",
       "      <td>read</td>\n",
       "      <td>country_6</td>\n",
       "      <td>2458153053</td>\n",
       "      <td>Reddit</td>\n",
       "      <td>Asia</td>\n",
       "    </tr>\n",
       "    <tr>\n",
       "      <th>1793</th>\n",
       "      <td>2018-01-01 23:59:36</td>\n",
       "      <td>read</td>\n",
       "      <td>country_7</td>\n",
       "      <td>2458153054</td>\n",
       "      <td>AdWords</td>\n",
       "      <td>Europe</td>\n",
       "    </tr>\n",
       "    <tr>\n",
       "      <th>1794</th>\n",
       "      <td>2018-01-01 23:59:38</td>\n",
       "      <td>read</td>\n",
       "      <td>country_5</td>\n",
       "      <td>2458153055</td>\n",
       "      <td>Reddit</td>\n",
       "      <td>Asia</td>\n",
       "    </tr>\n",
       "  </tbody>\n",
       "</table>\n",
       "<p>1795 rows × 6 columns</p>\n",
       "</div>"
      ],
      "text/plain": [
       "             my_datetime event country_code     user_id   source  \\\n",
       "0    2018-01-01 00:01:01  read    country_7  2458151261      SEO   \n",
       "1    2018-01-01 00:03:20  read    country_7  2458151262      SEO   \n",
       "2    2018-01-01 00:04:01  read    country_7  2458151263  AdWords   \n",
       "3    2018-01-01 00:04:02  read    country_7  2458151264  AdWords   \n",
       "4    2018-01-01 00:05:03  read    country_8  2458151265   Reddit   \n",
       "...                  ...   ...          ...         ...      ...   \n",
       "1790 2018-01-01 23:57:14  read    country_2  2458153051  AdWords   \n",
       "1791 2018-01-01 23:58:33  read    country_8  2458153052      SEO   \n",
       "1792 2018-01-01 23:59:36  read    country_6  2458153053   Reddit   \n",
       "1793 2018-01-01 23:59:36  read    country_7  2458153054  AdWords   \n",
       "1794 2018-01-01 23:59:38  read    country_5  2458153055   Reddit   \n",
       "\n",
       "            country  \n",
       "0     North America  \n",
       "1               NaN  \n",
       "2            Africa  \n",
       "3            Europe  \n",
       "4     North America  \n",
       "...             ...  \n",
       "1790  North America  \n",
       "1791           Asia  \n",
       "1792           Asia  \n",
       "1793         Europe  \n",
       "1794           Asia  \n",
       "\n",
       "[1795 rows x 6 columns]"
      ]
     },
     "execution_count": 13,
     "metadata": {},
     "output_type": "execute_result"
    }
   ],
   "source": [
    "df1 = data.replace({\"country\":\"South America\"},np.nan)\n",
    "df1"
   ]
  },
  {
   "cell_type": "markdown",
   "metadata": {},
   "source": [
    "#### Check the count of categories being repeated in the source column."
   ]
  },
  {
   "cell_type": "code",
   "execution_count": 14,
   "metadata": {},
   "outputs": [
    {
     "data": {
      "text/plain": [
       "Reddit     949\n",
       "AdWords    500\n",
       "SEO        346\n",
       "Name: source, dtype: int64"
      ]
     },
     "execution_count": 14,
     "metadata": {},
     "output_type": "execute_result"
    }
   ],
   "source": [
    "data[\"source\"].value_counts()"
   ]
  }
 ],
 "metadata": {
  "kernelspec": {
   "display_name": "Python 3",
   "language": "python",
   "name": "python3"
  },
  "language_info": {
   "codemirror_mode": {
    "name": "ipython",
    "version": 3
   },
   "file_extension": ".py",
   "mimetype": "text/x-python",
   "name": "python",
   "nbconvert_exporter": "python",
   "pygments_lexer": "ipython3",
   "version": "3.7.6"
  }
 },
 "nbformat": 4,
 "nbformat_minor": 4
}
