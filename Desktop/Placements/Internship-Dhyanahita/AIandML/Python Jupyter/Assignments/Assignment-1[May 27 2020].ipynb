{
 "cells": [
  {
   "cell_type": "markdown",
   "metadata": {},
   "source": [
    "# CSE-221710307029-Gopi Bollineni"
   ]
  },
  {
   "cell_type": "markdown",
   "metadata": {},
   "source": [
    "### 1. Generate the following pattern\n",
    "####  \t*\n",
    "####   \t*  *\n",
    "#### \t*  *  *\n",
    "#### \t*  *  *  *\n",
    "#### \t*  *  *  *  *"
   ]
  },
  {
   "cell_type": "code",
   "execution_count": 9,
   "metadata": {},
   "outputs": [
    {
     "name": "stdout",
     "output_type": "stream",
     "text": [
      "* \n",
      "* * \n",
      "* * * \n",
      "* * * * \n",
      "* * * * * \n"
     ]
    }
   ],
   "source": [
    "for i in range(1,6):\n",
    "    print(\"* \"*i)"
   ]
  },
  {
   "cell_type": "markdown",
   "metadata": {},
   "source": [
    "#### 2. Display multiplication table of K. Take k value from user\n",
    "#### \tEx:      7 x 1 =7\n",
    "####    \t\t7 x 2 = 14   .....\n"
   ]
  },
  {
   "cell_type": "code",
   "execution_count": 11,
   "metadata": {},
   "outputs": [
    {
     "name": "stdout",
     "output_type": "stream",
     "text": [
      "Enter the integer: 7\n",
      "7 x 1 = 7\n",
      "7 x 2 = 14\n",
      "7 x 3 = 21\n",
      "7 x 4 = 28\n",
      "7 x 5 = 35\n",
      "7 x 6 = 42\n",
      "7 x 7 = 49\n",
      "7 x 8 = 56\n",
      "7 x 9 = 63\n",
      "7 x 10 = 70\n"
     ]
    }
   ],
   "source": [
    "n=int(input(\"Enter the integer: \"))\n",
    "for i in range(1,11):\n",
    "    print(n,\"x\",i,\"=\",n*i)"
   ]
  },
  {
   "cell_type": "markdown",
   "metadata": {},
   "source": [
    "#### 3. Roots of quadratic equation\n",
    "####  \tTake the coefficients a,b,c from the user\n"
   ]
  },
  {
   "cell_type": "code",
   "execution_count": 35,
   "metadata": {},
   "outputs": [
    {
     "name": "stdout",
     "output_type": "stream",
     "text": [
      "Enter a value: 10\n",
      "Enter b value: 20\n",
      "Enter c value: 30\n",
      "The 2 roots are:  \n",
      "root1:  (-100+141.4213562373095j) \n",
      "root2:  (-100-141.4213562373095j)\n"
     ]
    }
   ],
   "source": [
    "import cmath as m\n",
    "a,b,c=int(input(\"Enter a value: \")),int(input(\"Enter b value: \")),int(input(\"Enter c value: \"))\n",
    "d=(b*b)-(4*a*c)\n",
    "root1= (-b+m.sqrt(d))/2*a\n",
    "root2= (-b-m.sqrt(d))/2*a\n",
    "print(\"The 2 roots are: \",\"\\nroot1: \",root1,\"\\nroot2: \",root2,end=\"\\n\")"
   ]
  },
  {
   "cell_type": "markdown",
   "metadata": {},
   "source": [
    "###### Here Math Module could be used but, apparantly, the sqrt() function in math module returns \"math domain error\" for non negative values\n",
    "###### Hence, CMATH module has been used, which is accepts negative as well as imaginary numbers."
   ]
  },
  {
   "cell_type": "markdown",
   "metadata": {},
   "source": [
    "### 4. Convert a decimal number to Binary"
   ]
  },
  {
   "cell_type": "code",
   "execution_count": 22,
   "metadata": {},
   "outputs": [
    {
     "name": "stdout",
     "output_type": "stream",
     "text": [
      "Enter the number to convert: 10\n"
     ]
    },
    {
     "data": {
      "text/plain": [
       "'1010'"
      ]
     },
     "execution_count": 22,
     "metadata": {},
     "output_type": "execute_result"
    }
   ],
   "source": [
    "n=int(input(\"Enter the number to convert: \"))\n",
    "bin(n).replace(\"0b\",\"\")"
   ]
  },
  {
   "cell_type": "markdown",
   "metadata": {},
   "source": [
    "#### 5. Generate first N number of Fibonacci numbers. Take N value from the user\n",
    "\n"
   ]
  },
  {
   "cell_type": "code",
   "execution_count": 33,
   "metadata": {},
   "outputs": [
    {
     "name": "stdout",
     "output_type": "stream",
     "text": [
      "Enter the Number: 6\n",
      "0 1 1 2 3 5 "
     ]
    }
   ],
   "source": [
    "n=int(input(\"Enter the Number: \"))\n",
    "fib0=0;fib1=1;\n",
    "print(fib0,fib1,end=\" \")\n",
    "for i in range(2,n):\n",
    "    fib=fib0+fib1\n",
    "    print(fib,end=\" \")\n",
    "    fib0=fib1\n",
    "    fib1=fib"
   ]
  },
  {
   "cell_type": "code",
   "execution_count": null,
   "metadata": {},
   "outputs": [],
   "source": []
  }
 ],
 "metadata": {
  "kernelspec": {
   "display_name": "Python 3",
   "language": "python",
   "name": "python3"
  },
  "language_info": {
   "codemirror_mode": {
    "name": "ipython",
    "version": 3
   },
   "file_extension": ".py",
   "mimetype": "text/x-python",
   "name": "python",
   "nbconvert_exporter": "python",
   "pygments_lexer": "ipython3",
   "version": "3.7.6"
  }
 },
 "nbformat": 4,
 "nbformat_minor": 4
}
