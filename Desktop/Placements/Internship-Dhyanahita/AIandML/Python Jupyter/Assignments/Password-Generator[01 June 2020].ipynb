{
 "cells": [
  {
   "cell_type": "markdown",
   "metadata": {},
   "source": [
    "# CSE-221710307029-Gopi Bollineni\n",
    "### ASSIGNMENT - Password Generator Project\n",
    "#### 1st June 2020"
   ]
  },
  {
   "cell_type": "code",
   "execution_count": 2,
   "metadata": {},
   "outputs": [
    {
     "name": "stdout",
     "output_type": "stream",
     "text": [
      "\n",
      "Do you need a random password?\n",
      "(Type 'Y' for YES and 'N' for NO )\n",
      "y\n",
      "\n",
      " seemusic60|\n",
      "\n",
      "Do you need a random password?\n",
      "(Type 'Y' for YES and 'N' for NO )\n",
      "y\n",
      "\n",
      " discovergovernment43@\n",
      "\n",
      "Do you need a random password?\n",
      "(Type 'Y' for YES and 'N' for NO )\n",
      "Y\n",
      "\n",
      " excisetwo99?\n",
      "\n",
      "Do you need a random password?\n",
      "(Type 'Y' for YES and 'N' for NO )\n",
      "O\n",
      "Invalid answer\n",
      "\n",
      "Do you need a random password?\n",
      "(Type 'Y' for YES and 'N' for NO )\n",
      "N\n"
     ]
    }
   ],
   "source": [
    "import random\n",
    "def randpass():\n",
    "    randoint=[]\n",
    "    for i in range(0,20):\n",
    "        n=str(random.randint(1,100))\n",
    "        randoint.append(n)\n",
    "    vlist=['cancel','continue','execute','excise','discover','complete','communicate','surrender','delay','omit','fabricate','see','forgo','transmit','distribute','resume','explain','arrange','reject','exhaust']\n",
    "    nlist=['people','history','way','art','world','information','map','two','family','government','health','system','computer','meat','year','thanks','music','person','method','data']\n",
    "    spcl=['!','@','#','$','%','^','&','*','/','|','\\\\','-','_','\\\"',':',';','?','>','<','~']\n",
    "    passw=random.choice(vlist)+random.choice(nlist)+random.choice(randoint)+random.choice(spcl)\n",
    "    return passw\n",
    "while 1:\n",
    "    print(\"\\nDo you need a random password?\"+\"\\n(Type 'Y' for YES and 'N' for NO )\")\n",
    "    ans=input()\n",
    "    if ans in ('y','Y'):\n",
    "        print(\"\\n\",randpass())\n",
    "    elif ans in ('n','N'):\n",
    "        break\n",
    "    else:\n",
    "        print('Invalid answer')"
   ]
  }
 ],
 "metadata": {
  "kernelspec": {
   "display_name": "Python 3",
   "language": "python",
   "name": "python3"
  },
  "language_info": {
   "codemirror_mode": {
    "name": "ipython",
    "version": 3
   },
   "file_extension": ".py",
   "mimetype": "text/x-python",
   "name": "python",
   "nbconvert_exporter": "python",
   "pygments_lexer": "ipython3",
   "version": "3.7.6"
  }
 },
 "nbformat": 4,
 "nbformat_minor": 4
}
