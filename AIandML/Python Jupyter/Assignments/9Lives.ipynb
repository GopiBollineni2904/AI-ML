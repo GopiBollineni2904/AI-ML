{
 "cells": [
  {
   "cell_type": "code",
   "execution_count": 3,
   "metadata": {},
   "outputs": [
    {
     "name": "stdout",
     "output_type": "stream",
     "text": [
      "Enter a letter or word:apple\n",
      "you have still  8  chances\n",
      "Enter a letter or word:s\n",
      "you have still  7  chances\n",
      "['?', '?', '?', '?', '?']\n",
      "Enter a letter or word:p\n",
      "you have still  6  chances\n",
      "['?', '?', '?', '?', '?']\n",
      "Enter a letter or word:g\n",
      "['?', '?', '?', 'g', '?']\n",
      "Enter a letter or word:m\n",
      "['m', '?', '?', 'g', '?']\n",
      "Enter a letter or word:a\n",
      "['m', 'a', '?', 'g', '?']\n",
      "Enter a letter or word:t\n",
      "you have still  5  chances\n",
      "['m', 'a', '?', 'g', '?']\n",
      "Enter a letter or word:o\n",
      "['m', 'a', '?', 'g', 'o']\n",
      "Enter a letter or word:j\n",
      "you have still  4  chances\n",
      "['m', 'a', '?', 'g', 'o']\n",
      "Enter a letter or word:n\n",
      "['m', 'a', 'n', 'g', 'o']\n",
      "You won congrats\n",
      " the word is  mango\n"
     ]
    }
   ],
   "source": [
    "#nine lives\n",
    "import random\n",
    "list=[\"hello\",\"pizza\",\"mango\",\"apple\",\"sweet\"] \n",
    "word = random.choice(list)\n",
    "result=[\"?\",\"?\",\"?\",\"?\",\"?\"]\n",
    "turns=9 \n",
    "count=0\n",
    "k=0\n",
    "z=word\n",
    "def chang(word):\n",
    "    return list(word)\n",
    "while(turns>0):\n",
    "    ans=input(\"Enter a letter or word:\")\n",
    "    if(len(ans)>1):\n",
    "        if z==ans:\n",
    "            print(\"You won congrats\\n the word is \",word)\n",
    "            break\n",
    "        else:\n",
    "            turns-=1\n",
    "            print(\"you have still \",turns,\" chances\")\n",
    "    else:\n",
    "        for i in word:\n",
    "            if(ans==i):\n",
    "                count+=1\n",
    "                k+=1\n",
    "                r1=word.index(i)\n",
    "                break\n",
    "        if k==0:\n",
    "            turns-=1\n",
    "            print(\"you have still \",turns,\" chances\")\n",
    "            print(result)\n",
    "        else:\n",
    "            result.pop(r1)\n",
    "            word=word.replace(word[r1],\"1\",1)\n",
    "            result.insert(r1,ans)\n",
    "            k=0\n",
    "            print(result)\n",
    "    if(count==5):\n",
    "        print(\"You won congrats\\n the word is \",z)\n",
    "        break\n",
    "if(turns==0):\n",
    "    print(\"You have lost the game\")"
   ]
  },
  {
   "cell_type": "markdown",
   "metadata": {},
   "source": [
    "# 9lives[By Instructor]:"
   ]
  },
  {
   "cell_type": "code",
   "execution_count": 1,
   "metadata": {},
   "outputs": [],
   "source": [
    "import random\n",
    "lives = 9\n",
    "heart_symbol = '\\u2764'\n",
    "words = [\"hello\",\"pizza\",\"apple\",\"fairy\",\"teeth\"]\n",
    "secret_word = random.choice(words)\n",
    "clue = list('?????')\n",
    "guessed_word_correctly = False"
   ]
  },
  {
   "cell_type": "code",
   "execution_count": 2,
   "metadata": {},
   "outputs": [],
   "source": [
    "def update_clue(guessed_letter,secret_word,clue):\n",
    "    index = 0\n",
    "    while index<len(secret_word):\n",
    "        if guessed_letter == secret_word[index]:\n",
    "            clue[index] = guessed_letter\n",
    "        index += 1       "
   ]
  },
  {
   "cell_type": "code",
   "execution_count": 4,
   "metadata": {},
   "outputs": [
    {
     "name": "stdout",
     "output_type": "stream",
     "text": [
      "['?', '?', '?', '?', '?']\n",
      "lives left: ❤❤❤❤❤❤❤❤❤\n",
      "Guess a letter or whole word: g\n",
      "Incorrect guess.you lose a life\n",
      "['?', '?', '?', '?', '?']\n",
      "lives left: ❤❤❤❤❤❤❤❤\n",
      "Guess a letter or whole word: a\n",
      "Incorrect guess.you lose a life\n",
      "['?', '?', '?', '?', '?']\n",
      "lives left: ❤❤❤❤❤❤❤\n",
      "Guess a letter or whole word: m\n",
      "Incorrect guess.you lose a life\n",
      "['?', '?', '?', '?', '?']\n",
      "lives left: ❤❤❤❤❤❤\n",
      "Guess a letter or whole word: e\n",
      "['?', 'e', '?', '?', '?']\n",
      "lives left: ❤❤❤❤❤❤\n",
      "Guess a letter or whole word: l\n",
      "['?', 'e', 'l', 'l', '?']\n",
      "lives left: ❤❤❤❤❤❤\n",
      "Guess a letter or whole word: o\n",
      "['?', 'e', 'l', 'l', 'o']\n",
      "lives left: ❤❤❤❤❤❤\n",
      "Guess a letter or whole word: h\n",
      "['h', 'e', 'l', 'l', 'o']\n",
      "lives left: ❤❤❤❤❤❤\n",
      "Guess a letter or whole word: hello\n",
      "You won the game,Secret_word was: hello\n"
     ]
    }
   ],
   "source": [
    "while lives>0:\n",
    "    print(clue)\n",
    "    print(\"lives left:\",heart_symbol*lives)\n",
    "    guess = input(\"Guess a letter or whole word: \")\n",
    "    if guess == secret_word:\n",
    "        guessed_word_correctly = True\n",
    "        break\n",
    "    elif guess in secret_word:\n",
    "        update_clue(guess,secret_word,clue)\n",
    "    else:\n",
    "        print(\"Incorrect guess.you lose a life\")\n",
    "        lives -= 1\n",
    "if guessed_word_correctly==True:\n",
    "    print(\"You won the game,Secret_word was:\",secret_word)\n",
    "else:\n",
    "    print(\"You lost the game,Secret_word was:\",secret_word)"
   ]
  }
 ],
 "metadata": {
  "kernelspec": {
   "display_name": "Python 3",
   "language": "python",
   "name": "python3"
  },
  "language_info": {
   "codemirror_mode": {
    "name": "ipython",
    "version": 3
   },
   "file_extension": ".py",
   "mimetype": "text/x-python",
   "name": "python",
   "nbconvert_exporter": "python",
   "pygments_lexer": "ipython3",
   "version": "3.7.6"
  }
 },
 "nbformat": 4,
 "nbformat_minor": 4
}
