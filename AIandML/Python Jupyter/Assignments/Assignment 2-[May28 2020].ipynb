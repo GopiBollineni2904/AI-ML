{
 "cells": [
  {
   "cell_type": "markdown",
   "metadata": {},
   "source": [
    "# CSE-221710307029-Gopi Bollineni"
   ]
  },
  {
   "cell_type": "markdown",
   "metadata": {},
   "source": [
    "#### Question 1:\n",
    "Accept a string from the user and count no.of vowels,consonants and special characters"
   ]
  },
  {
   "cell_type": "code",
   "execution_count": 1,
   "metadata": {},
   "outputs": [
    {
     "name": "stdout",
     "output_type": "stream",
     "text": [
      "Enter the string: qwert1234$%#iyo\n",
      "vowels:  3\n",
      "consonants:  5\n",
      "Specials:  3\n"
     ]
    }
   ],
   "source": [
    "string=input(\"Enter the string: \")\n",
    "vcount=0;ccount=0;scount=0;\n",
    "for i in string:\n",
    "    if i.isalpha():\n",
    "        if i in ('a','e','i','o','u'):\n",
    "            vcount+=1\n",
    "        else:\n",
    "            ccount+=1\n",
    "    elif i.isdigit():\n",
    "        continue;\n",
    "    elif i.isalnum():\n",
    "        continue;\n",
    "    else:\n",
    "        scount+=1\n",
    "print(\"vowels: \",vcount)\n",
    "print(\"consonants: \",ccount)\n",
    "print(\"Specials: \",scount)"
   ]
  },
  {
   "cell_type": "markdown",
   "metadata": {},
   "source": [
    "#### Question 2:\n",
    "count the no.of pairs of a in the given string(Infosys InfyTQ)\n",
    "\n",
    "    string →  \"abbaaccbbaaa\"\n",
    "    output →  2"
   ]
  },
  {
   "cell_type": "code",
   "execution_count": 2,
   "metadata": {},
   "outputs": [
    {
     "name": "stdout",
     "output_type": "stream",
     "text": [
      "Enter the string: abbaaccbbaaa\n",
      "2\n"
     ]
    }
   ],
   "source": [
    "string=input(\"Enter the string: \")\n",
    "print(string.count('aa'))"
   ]
  },
  {
   "cell_type": "markdown",
   "metadata": {},
   "source": [
    "#### Question 3:\n",
    "    Test case1:\n",
    "        string →  \"((((()()()))))()\"\n",
    "        output →  8\n",
    "    Test case2:\n",
    "        string →  \"((()))()\"\n",
    "        Output →  4"
   ]
  },
  {
   "cell_type": "code",
   "execution_count": 11,
   "metadata": {},
   "outputs": [
    {
     "name": "stdout",
     "output_type": "stream",
     "text": [
      "Enter the string: ((()))()\n",
      "4\n"
     ]
    }
   ],
   "source": [
    "string=input(\"Enter the string: \")\n",
    "c=string.count('()')\n",
    "print(2*c)"
   ]
  },
  {
   "cell_type": "markdown",
   "metadata": {},
   "source": [
    "#### Question 4:\n",
    "Read the input as two limits and Print the output as Palindrome count between the two limits\n",
    "\n",
    "Example #1; Input : 1 10 Output : 9\n",
    "\n",
    "Example #2: Input : 1 100 Output : 18"
   ]
  },
  {
   "cell_type": "code",
   "execution_count": 9,
   "metadata": {},
   "outputs": [
    {
     "name": "stdout",
     "output_type": "stream",
     "text": [
      "Enter Upper Limit: 1\n",
      "Enter Lower Limit: 100\n",
      "18\n"
     ]
    }
   ],
   "source": [
    "ul,ll=int(input(\"Enter Upper Limit: \")),int(input(\"Enter Lower Limit: \"))\n",
    "count=0\n",
    "for i in range(ul,ll+1):\n",
    "    i=str(i)\n",
    "    if i==i[::-1]:\n",
    "        count+=1\n",
    "print(count)"
   ]
  },
  {
   "cell_type": "markdown",
   "metadata": {},
   "source": [
    "#### Question 5:\n",
    "\n",
    " Accept a number as an input and check whether the given number is palindrome or not\n",
    "if it is a palindrome number print the number on the screen\n",
    "if it is not a palindrome number reverse that number and add it to previous number repeat this until will get a palindrome number and print that palindrome number on the screen\n",
    "input: 127\n",
    "output: 848\n"
   ]
  },
  {
   "cell_type": "code",
   "execution_count": 9,
   "metadata": {},
   "outputs": [
    {
     "name": "stdout",
     "output_type": "stream",
     "text": [
      "Enter the number: 127\n",
      "848\n"
     ]
    }
   ],
   "source": [
    "n=input(\"Enter the number: \")\n",
    "temp=n\n",
    "sum=0\n",
    "if n==n[::-1]:\n",
    "    print(n)\n",
    "else:\n",
    "    while(temp!=temp[::-1]):\n",
    "        rev=temp[::-1]\n",
    "        rev=int(rev)\n",
    "        temp=int(n)+rev\n",
    "        temp=str(temp)\n",
    "        if(temp==temp[::-1]):\n",
    "            print(temp)\n",
    "            break;"
   ]
  },
  {
   "cell_type": "markdown",
   "metadata": {},
   "source": [
    "#### Question 6:\n",
    "input:orange  →   output : puboif"
   ]
  },
  {
   "cell_type": "code",
   "execution_count": 26,
   "metadata": {},
   "outputs": [
    {
     "name": "stdout",
     "output_type": "stream",
     "text": [
      "Enter the string: orange\n",
      "puboif"
     ]
    }
   ],
   "source": [
    "n=input(\"Enter the string: \")\n",
    "j='0'\n",
    "for i in n:\n",
    "    if i in ('a','e','i','o','u'):\n",
    "        j=chr(ord(i)+1)\n",
    "        print(j,end=\"\")\n",
    "    else:\n",
    "        while(i):\n",
    "            j=chr(ord(i)+1)\n",
    "            if j in ('a','e','i','o','u'):\n",
    "                print(j,end=\"\")\n",
    "                break\n",
    "            else:\n",
    "                i=j"
   ]
  },
  {
   "cell_type": "markdown",
   "metadata": {},
   "source": [
    "#### Question 7:\n",
    "Accept input as a string and display sum of digits as the output \n",
    "\n",
    "input:Appli123cation456 \n",
    "\n",
    "Output: 21"
   ]
  },
  {
   "cell_type": "code",
   "execution_count": 28,
   "metadata": {},
   "outputs": [
    {
     "name": "stdout",
     "output_type": "stream",
     "text": [
      "Enter the string: Appli123cation456\n",
      "21\n"
     ]
    }
   ],
   "source": [
    "n=input(\"Enter the string: \")\n",
    "sum=0\n",
    "for i in n:\n",
    "    if i.isdigit():\n",
    "        i=int(i)\n",
    "        sum+=i\n",
    "print(sum)"
   ]
  },
  {
   "cell_type": "markdown",
   "metadata": {},
   "source": [
    "#### Question 8:\n",
    "Write a program to prompt for a score between 0.0 and 1.0. If the score is out of range, print an error. If the score is between 0.0 and 1.0, print a grade using the following table:\n",
    "\n",
    "Score Grade\n",
    "\n",
    "'>= 0.9 A'\n",
    "\n",
    "'>= 0.8 B'\n",
    "\n",
    "'>= 0.7 C'\n",
    "\n",
    "'>= 0.6 D'\n",
    "\n",
    "'< 0.6 F'\n",
    "\n",
    "If the user enters a value out of range, print a suitable error message and exit. For the test, enter a score of 0.85"
   ]
  },
  {
   "cell_type": "code",
   "execution_count": 30,
   "metadata": {},
   "outputs": [
    {
     "name": "stdout",
     "output_type": "stream",
     "text": [
      "Enter a score between 0.0 and 1.0: 0.85\n",
      "B\n"
     ]
    }
   ],
   "source": [
    "n=float(input(\"Enter a score between 0.0 and 1.0: \"))\n",
    "if n<0.0 or n>1.0:\n",
    "    print(\"Error: Invalid Score\")\n",
    "elif n>=0.9:\n",
    "    print('A')\n",
    "elif n>=0.8:\n",
    "    print('B')\n",
    "elif n>=0.7:\n",
    "    print('C')\n",
    "elif n>=0.6:\n",
    "    print('D')\n",
    "else:\n",
    "    print('F')"
   ]
  },
  {
   "cell_type": "markdown",
   "metadata": {},
   "source": [
    "#### Question 9:\n",
    "Write a Python program which iterates the integers from 1 to 50. For multiples of three print \"Fizz\" instead of the number and for the multiples of five print \"Buzz\". For numbers which are multiples of both three and five print \"FizzBuzz\".\n",
    "\n",
    "Sample Output :\n",
    "\n",
    "fizzbuzz\n",
    "\n",
    "1\n",
    "\n",
    "2\n",
    "\n",
    "fizz\n",
    "\n",
    "4\n",
    "\n",
    "buzz"
   ]
  },
  {
   "cell_type": "code",
   "execution_count": 2,
   "metadata": {},
   "outputs": [
    {
     "name": "stdout",
     "output_type": "stream",
     "text": [
      "1\n",
      "2\n",
      "Fizz\n",
      "4\n",
      "Buzz\n",
      "Fizz\n",
      "7\n",
      "8\n",
      "Fizz\n",
      "Buzz\n",
      "11\n",
      "Fizz\n",
      "13\n",
      "14\n",
      "Fizz\n",
      "16\n",
      "17\n",
      "Fizz\n",
      "19\n",
      "Buzz\n",
      "Fizz\n",
      "22\n",
      "23\n",
      "Fizz\n",
      "Buzz\n",
      "26\n",
      "Fizz\n",
      "28\n",
      "29\n",
      "Fizz\n",
      "31\n",
      "32\n",
      "Fizz\n",
      "34\n",
      "Buzz\n",
      "Fizz\n",
      "37\n",
      "38\n",
      "Fizz\n",
      "Buzz\n",
      "41\n",
      "Fizz\n",
      "43\n",
      "44\n",
      "Fizz\n",
      "46\n",
      "47\n",
      "Fizz\n",
      "49\n",
      "Buzz\n"
     ]
    }
   ],
   "source": [
    "for i in range(1,51):\n",
    "    if i%3==0:\n",
    "        print('Fizz')\n",
    "    elif i%5==0:\n",
    "        print('Buzz')\n",
    "    elif i%3==0 and i%5==0:\n",
    "        print('FizzBuzz')\n",
    "    else:\n",
    "        print(i)"
   ]
  },
  {
   "cell_type": "markdown",
   "metadata": {},
   "source": [
    "#### Question 10:\n",
    "Write a Python program to find the median of three values.\n",
    "\n",
    "Expected Output:\n",
    "\n",
    "Input first number: 26                                            \n",
    "\n",
    "Input second number: 15                                                \n",
    "\n",
    "Input third number: 29                                                  \n",
    "\n",
    "The median is 26"
   ]
  },
  {
   "cell_type": "code",
   "execution_count": 3,
   "metadata": {},
   "outputs": [
    {
     "name": "stdout",
     "output_type": "stream",
     "text": [
      "first value: 26\n",
      "Second Value: 15\n",
      "third value: 29\n",
      "The median is 26\n"
     ]
    }
   ],
   "source": [
    "a,b,c=int(input(\"first value: \")),int(input(\"Second Value: \")),int(input(\"third value: \"))\n",
    "if a > b:\n",
    "    if a < c:\n",
    "        median = a\n",
    "    elif b > c:\n",
    "        median = b\n",
    "    else:\n",
    "        median = c\n",
    "else:\n",
    "    if a > c:\n",
    "        median = a\n",
    "    elif b < c:\n",
    "        median = b\n",
    "    else:\n",
    "        median = c\n",
    "\n",
    "print(\"The median is\", median)"
   ]
  }
 ],
 "metadata": {
  "kernelspec": {
   "display_name": "Python 3",
   "language": "python",
   "name": "python3"
  },
  "language_info": {
   "codemirror_mode": {
    "name": "ipython",
    "version": 3
   },
   "file_extension": ".py",
   "mimetype": "text/x-python",
   "name": "python",
   "nbconvert_exporter": "python",
   "pygments_lexer": "ipython3",
   "version": "3.7.6"
  }
 },
 "nbformat": 4,
 "nbformat_minor": 4
}
