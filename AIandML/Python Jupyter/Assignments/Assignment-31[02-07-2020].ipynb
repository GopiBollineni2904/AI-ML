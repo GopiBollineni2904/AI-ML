{
 "cells": [
  {
   "cell_type": "code",
   "execution_count": 1,
   "metadata": {},
   "outputs": [],
   "source": [
    "#importing lib:\n",
    "import pandas as pd\n",
    "import numpy as np\n",
    "import string"
   ]
  },
  {
   "cell_type": "code",
   "execution_count": 2,
   "metadata": {},
   "outputs": [],
   "source": [
    "#reading the corpus\n",
    "corpus = ['This is the first document.',\n",
    "     'This document is the second document.',\n",
    "      'And this is the third(#)  one.',\n",
    "     'Is this the first document?',\n",
    "     \"The quick brown fox jumped over the lazy dog.\",\n",
    "     \"John is a good boy!!!. John watches basketball\",\n",
    "     \"We are going to the party:-)\",\n",
    "     \"It is very cold(today)\",]"
   ]
  },
  {
   "cell_type": "code",
   "execution_count": 3,
   "metadata": {},
   "outputs": [],
   "source": [
    "#Remove all the punctuations from the corpus\n",
    "words=[] #Store the individual words out of all sentences\n",
    "lines=[] #Store the sentences\n",
    "s=''\n",
    "for line in corpus:\n",
    "    lines.append(line)   #Storing Lines\n",
    "    for i in line:\n",
    "        if i not in string.punctuation:\n",
    "            words.append(i)\n",
    "    words.append(' ')\n",
    "words=(s.join(words)).split(' ')\n",
    "for j in words:\n",
    "    if j is '':\n",
    "        words.remove(j)"
   ]
  },
  {
   "cell_type": "code",
   "execution_count": 4,
   "metadata": {},
   "outputs": [
    {
     "name": "stdout",
     "output_type": "stream",
     "text": [
      "['This', 'is', 'the', 'first', 'document', 'This', 'document', 'is', 'the', 'second', 'document', 'And', 'this', 'is', 'the', 'third', 'one', 'Is', 'this', 'the', 'first', 'document', 'The', 'quick', 'brown', 'fox', 'jumped', 'over', 'the', 'lazy', 'dog', 'John', 'is', 'a', 'good', 'boy', 'John', 'watches', 'basketball', 'We', 'are', 'going', 'to', 'the', 'party', 'It', 'is', 'very', 'coldtoday']\n"
     ]
    }
   ],
   "source": [
    "print(words) #Storing words"
   ]
  },
  {
   "cell_type": "code",
   "execution_count": 5,
   "metadata": {},
   "outputs": [],
   "source": [
    "word_set=set(words)\n",
    "word_dict=dict.fromkeys(word_set,0)\n",
    "for i in word_dict.keys():\n",
    "    word_dict[i]=words.count(i)"
   ]
  },
  {
   "cell_type": "code",
   "execution_count": 6,
   "metadata": {},
   "outputs": [
    {
     "data": {
      "text/plain": [
       "{'party': 1,\n",
       " 'document': 4,\n",
       " 'coldtoday': 1,\n",
       " 'is': 5,\n",
       " 'first': 2,\n",
       " 'quick': 1,\n",
       " 'third': 1,\n",
       " 'lazy': 1,\n",
       " 'watches': 1,\n",
       " 'The': 1,\n",
       " 'brown': 1,\n",
       " 'basketball': 1,\n",
       " 'going': 1,\n",
       " 'are': 1,\n",
       " 'Is': 1,\n",
       " 'fox': 1,\n",
       " 'boy': 1,\n",
       " 'It': 1,\n",
       " 'jumped': 1,\n",
       " 'the': 6,\n",
       " 'And': 1,\n",
       " 'this': 2,\n",
       " 'John': 2,\n",
       " 'This': 2,\n",
       " 'second': 1,\n",
       " 'a': 1,\n",
       " 'to': 1,\n",
       " 'dog': 1,\n",
       " 'over': 1,\n",
       " 'We': 1,\n",
       " 'very': 1,\n",
       " 'one': 1,\n",
       " 'good': 1}"
      ]
     },
     "execution_count": 6,
     "metadata": {},
     "output_type": "execute_result"
    }
   ],
   "source": [
    "#Accept the following list of words and find the unique words count from the list without using \n",
    "#CountVectorizer and print the output as a DataFrame\n",
    "word_dict"
   ]
  }
 ],
 "metadata": {
  "kernelspec": {
   "display_name": "Python 3",
   "language": "python",
   "name": "python3"
  },
  "language_info": {
   "codemirror_mode": {
    "name": "ipython",
    "version": 3
   },
   "file_extension": ".py",
   "mimetype": "text/x-python",
   "name": "python",
   "nbconvert_exporter": "python",
   "pygments_lexer": "ipython3",
   "version": "3.7.6"
  }
 },
 "nbformat": 4,
 "nbformat_minor": 4
}
