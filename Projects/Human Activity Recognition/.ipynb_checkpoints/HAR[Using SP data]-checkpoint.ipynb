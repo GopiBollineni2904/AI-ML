{
 "cells": [
  {
   "cell_type": "markdown",
   "metadata": {},
   "source": [
    "<h2 style=\"color:red;text-decoration:underline\">Problem Statement :</h2>\n",
    "<p><strong>Human activity recognition is the problem of classifying sequences of accelerometer data recorded by specialized harnesses or smart phones into known well-defined movements.\n",
    "\n",
    "It is a challenging problem given the large number of observations produced each second, the temporal nature of the observations, and the lack of a clear way to relate accelerometer data to known movements.</strong><p>"
   ]
  },
  {
   "cell_type": "markdown",
   "metadata": {},
   "source": [
    "<h2 style=\"color:violet;text-decoration:underline\">Data Collection:</h2>\n",
    "<p><strong>The experiments have been carried out with a group of 30 volunteers within an age bracket of 19-48 years. \n",
    "Each person performed six activities (WALKING, WALKING_UPSTAIRS, WALKING_DOWNSTAIRS, SITTING, STANDING, LAYING) wearing a smartphone \n",
    "(Samsung Galaxy S II) on the waist. Using its embedded accelerometer and gyroscope, we captured 3-axial linear acceleration and \n",
    "3-axial angular velocity at a constant rate of 50Hz. The experiments have been video-recorded to label the data manually. \n",
    "The obtained dataset has been randomly partitioned into two sets, where 70% of the volunteers was selected for generating the training data \n",
    "and 30% the test data. \n",
    "\n",
    "\n",
    "The sensor signals (accelerometer and gyroscope) were pre-processed by applying noise filters and then sampled in \n",
    "fixed-width sliding windows of 2.56 sec and 50% overlap (128 readings/window). The sensor acceleration signal, \n",
    "which has gravitational and body motion components, was separated using a Butterworth low-pass filter into body acceleration and gravity. \n",
    "The gravitational force is assumed to have only low frequency components, therefore a filter with 0.3 Hz cutoff frequency was used. \n",
    "From each window, a vector of features was obtained by calculating variables from the time and frequency domain.<strong></p>"
   ]
  },
  {
   "cell_type": "code",
   "execution_count": 1,
   "metadata": {},
   "outputs": [],
   "source": [
    "#import required libraries:\n",
    "import pandas as pd\n",
    "import numpy as np\n",
    "import matplotlib.pyplot as plt\n",
    "import seaborn as sns\n",
    "%matplotlib inline"
   ]
  },
  {
   "cell_type": "code",
   "execution_count": 2,
   "metadata": {},
   "outputs": [
    {
     "name": "stdout",
     "output_type": "stream",
     "text": [
      "(7352, 563)\n",
      "(2947, 563)\n",
      "<class 'pandas.core.frame.DataFrame'> <class 'pandas.core.frame.DataFrame'>\n"
     ]
    }
   ],
   "source": [
    "#reading the data:\n",
    "train=pd.read_csv(\"train.csv\")\n",
    "test=pd.read_csv(\"test.csv\")\n",
    "print(train.shape)\n",
    "print(test.shape)\n",
    "print(type(train),type(test))"
   ]
  },
  {
   "cell_type": "code",
   "execution_count": 3,
   "metadata": {},
   "outputs": [
    {
     "data": {
      "text/plain": [
       "Index(['tBodyAcc-mean()-X', 'tBodyAcc-mean()-Y', 'tBodyAcc-mean()-Z',\n",
       "       'tBodyAcc-std()-X', 'tBodyAcc-std()-Y', 'tBodyAcc-std()-Z',\n",
       "       'tBodyAcc-mad()-X', 'tBodyAcc-mad()-Y', 'tBodyAcc-mad()-Z',\n",
       "       'tBodyAcc-max()-X', 'tBodyAcc-max()-Y', 'tBodyAcc-max()-Z',\n",
       "       'tBodyAcc-min()-X', 'tBodyAcc-min()-Y', 'tBodyAcc-min()-Z',\n",
       "       'tBodyAcc-sma()', 'tBodyAcc-energy()-X', 'tBodyAcc-energy()-Y',\n",
       "       'tBodyAcc-energy()-Z', 'tBodyAcc-iqr()-X', 'tBodyAcc-iqr()-Y',\n",
       "       'tBodyAcc-iqr()-Z', 'tBodyAcc-entropy()-X', 'tBodyAcc-entropy()-Y',\n",
       "       'tBodyAcc-entropy()-Z', 'tBodyAcc-arCoeff()-X,1',\n",
       "       'tBodyAcc-arCoeff()-X,2', 'tBodyAcc-arCoeff()-X,3',\n",
       "       'tBodyAcc-arCoeff()-X,4', 'tBodyAcc-arCoeff()-Y,1',\n",
       "       'tBodyAcc-arCoeff()-Y,2', 'tBodyAcc-arCoeff()-Y,3',\n",
       "       'tBodyAcc-arCoeff()-Y,4', 'tBodyAcc-arCoeff()-Z,1',\n",
       "       'tBodyAcc-arCoeff()-Z,2', 'tBodyAcc-arCoeff()-Z,3',\n",
       "       'tBodyAcc-arCoeff()-Z,4', 'tBodyAcc-correlation()-X,Y',\n",
       "       'tBodyAcc-correlation()-X,Z', 'tBodyAcc-correlation()-Y,Z',\n",
       "       'tGravityAcc-mean()-X', 'tGravityAcc-mean()-Y', 'tGravityAcc-mean()-Z',\n",
       "       'tGravityAcc-std()-X', 'tGravityAcc-std()-Y', 'tGravityAcc-std()-Z',\n",
       "       'tGravityAcc-mad()-X', 'tGravityAcc-mad()-Y', 'tGravityAcc-mad()-Z',\n",
       "       'tGravityAcc-max()-X', 'tGravityAcc-max()-Y', 'tGravityAcc-max()-Z',\n",
       "       'tGravityAcc-min()-X', 'tGravityAcc-min()-Y', 'tGravityAcc-min()-Z',\n",
       "       'tGravityAcc-sma()', 'tGravityAcc-energy()-X', 'tGravityAcc-energy()-Y',\n",
       "       'tGravityAcc-energy()-Z', 'tGravityAcc-iqr()-X', 'tGravityAcc-iqr()-Y',\n",
       "       'tGravityAcc-iqr()-Z', 'tGravityAcc-entropy()-X',\n",
       "       'tGravityAcc-entropy()-Y', 'tGravityAcc-entropy()-Z',\n",
       "       'tGravityAcc-arCoeff()-X,1', 'tGravityAcc-arCoeff()-X,2',\n",
       "       'tGravityAcc-arCoeff()-X,3', 'tGravityAcc-arCoeff()-X,4',\n",
       "       'tGravityAcc-arCoeff()-Y,1', 'tGravityAcc-arCoeff()-Y,2',\n",
       "       'tGravityAcc-arCoeff()-Y,3', 'tGravityAcc-arCoeff()-Y,4',\n",
       "       'tGravityAcc-arCoeff()-Z,1', 'tGravityAcc-arCoeff()-Z,2',\n",
       "       'tGravityAcc-arCoeff()-Z,3', 'tGravityAcc-arCoeff()-Z,4',\n",
       "       'tGravityAcc-correlation()-X,Y', 'tGravityAcc-correlation()-X,Z',\n",
       "       'tGravityAcc-correlation()-Y,Z', 'tBodyAccJerk-mean()-X',\n",
       "       'tBodyAccJerk-mean()-Y', 'tBodyAccJerk-mean()-Z',\n",
       "       'tBodyAccJerk-std()-X', 'tBodyAccJerk-std()-Y', 'tBodyAccJerk-std()-Z',\n",
       "       'tBodyAccJerk-mad()-X', 'tBodyAccJerk-mad()-Y', 'tBodyAccJerk-mad()-Z',\n",
       "       'tBodyAccJerk-max()-X', 'tBodyAccJerk-max()-Y', 'tBodyAccJerk-max()-Z',\n",
       "       'tBodyAccJerk-min()-X', 'tBodyAccJerk-min()-Y', 'tBodyAccJerk-min()-Z',\n",
       "       'tBodyAccJerk-sma()', 'tBodyAccJerk-energy()-X',\n",
       "       'tBodyAccJerk-energy()-Y', 'tBodyAccJerk-energy()-Z',\n",
       "       'tBodyAccJerk-iqr()-X', 'tBodyAccJerk-iqr()-Y', 'tBodyAccJerk-iqr()-Z',\n",
       "       'tBodyAccJerk-entropy()-X', 'tBodyAccJerk-entropy()-Y',\n",
       "       'tBodyAccJerk-entropy()-Z', 'tBodyAccJerk-arCoeff()-X,1',\n",
       "       'tBodyAccJerk-arCoeff()-X,2', 'tBodyAccJerk-arCoeff()-X,3',\n",
       "       'tBodyAccJerk-arCoeff()-X,4', 'tBodyAccJerk-arCoeff()-Y,1',\n",
       "       'tBodyAccJerk-arCoeff()-Y,2', 'tBodyAccJerk-arCoeff()-Y,3',\n",
       "       'tBodyAccJerk-arCoeff()-Y,4', 'tBodyAccJerk-arCoeff()-Z,1',\n",
       "       'tBodyAccJerk-arCoeff()-Z,2', 'tBodyAccJerk-arCoeff()-Z,3',\n",
       "       'tBodyAccJerk-arCoeff()-Z,4', 'tBodyAccJerk-correlation()-X,Y',\n",
       "       'tBodyAccJerk-correlation()-X,Z', 'tBodyAccJerk-correlation()-Y,Z',\n",
       "       'tBodyGyro-mean()-X', 'tBodyGyro-mean()-Y', 'tBodyGyro-mean()-Z',\n",
       "       'tBodyGyro-std()-X', 'tBodyGyro-std()-Y', 'tBodyGyro-std()-Z',\n",
       "       'tBodyGyro-mad()-X', 'tBodyGyro-mad()-Y', 'tBodyGyro-mad()-Z',\n",
       "       'tBodyGyro-max()-X', 'tBodyGyro-max()-Y', 'tBodyGyro-max()-Z',\n",
       "       'tBodyGyro-min()-X', 'tBodyGyro-min()-Y', 'tBodyGyro-min()-Z',\n",
       "       'tBodyGyro-sma()', 'tBodyGyro-energy()-X', 'tBodyGyro-energy()-Y',\n",
       "       'tBodyGyro-energy()-Z', 'tBodyGyro-iqr()-X', 'tBodyGyro-iqr()-Y',\n",
       "       'tBodyGyro-iqr()-Z', 'tBodyGyro-entropy()-X', 'tBodyGyro-entropy()-Y',\n",
       "       'tBodyGyro-entropy()-Z', 'tBodyGyro-arCoeff()-X,1',\n",
       "       'tBodyGyro-arCoeff()-X,2', 'tBodyGyro-arCoeff()-X,3',\n",
       "       'tBodyGyro-arCoeff()-X,4', 'tBodyGyro-arCoeff()-Y,1',\n",
       "       'tBodyGyro-arCoeff()-Y,2', 'tBodyGyro-arCoeff()-Y,3',\n",
       "       'tBodyGyro-arCoeff()-Y,4', 'tBodyGyro-arCoeff()-Z,1',\n",
       "       'tBodyGyro-arCoeff()-Z,2', 'tBodyGyro-arCoeff()-Z,3',\n",
       "       'tBodyGyro-arCoeff()-Z,4', 'tBodyGyro-correlation()-X,Y',\n",
       "       'tBodyGyro-correlation()-X,Z', 'tBodyGyro-correlation()-Y,Z',\n",
       "       'tBodyGyroJerk-mean()-X', 'tBodyGyroJerk-mean()-Y',\n",
       "       'tBodyGyroJerk-mean()-Z', 'tBodyGyroJerk-std()-X',\n",
       "       'tBodyGyroJerk-std()-Y', 'tBodyGyroJerk-std()-Z',\n",
       "       'tBodyGyroJerk-mad()-X', 'tBodyGyroJerk-mad()-Y',\n",
       "       'tBodyGyroJerk-mad()-Z', 'tBodyGyroJerk-max()-X',\n",
       "       'tBodyGyroJerk-max()-Y', 'tBodyGyroJerk-max()-Z',\n",
       "       'tBodyGyroJerk-min()-X', 'tBodyGyroJerk-min()-Y',\n",
       "       'tBodyGyroJerk-min()-Z', 'tBodyGyroJerk-sma()',\n",
       "       'tBodyGyroJerk-energy()-X', 'tBodyGyroJerk-energy()-Y',\n",
       "       'tBodyGyroJerk-energy()-Z', 'tBodyGyroJerk-iqr()-X',\n",
       "       'tBodyGyroJerk-iqr()-Y', 'tBodyGyroJerk-iqr()-Z',\n",
       "       'tBodyGyroJerk-entropy()-X', 'tBodyGyroJerk-entropy()-Y',\n",
       "       'tBodyGyroJerk-entropy()-Z', 'tBodyGyroJerk-arCoeff()-X,1',\n",
       "       'tBodyGyroJerk-arCoeff()-X,2', 'tBodyGyroJerk-arCoeff()-X,3',\n",
       "       'tBodyGyroJerk-arCoeff()-X,4', 'tBodyGyroJerk-arCoeff()-Y,1',\n",
       "       'tBodyGyroJerk-arCoeff()-Y,2', 'tBodyGyroJerk-arCoeff()-Y,3',\n",
       "       'tBodyGyroJerk-arCoeff()-Y,4', 'tBodyGyroJerk-arCoeff()-Z,1',\n",
       "       'tBodyGyroJerk-arCoeff()-Z,2', 'tBodyGyroJerk-arCoeff()-Z,3',\n",
       "       'tBodyGyroJerk-arCoeff()-Z,4', 'tBodyGyroJerk-correlation()-X,Y',\n",
       "       'tBodyGyroJerk-correlation()-X,Z', 'tBodyGyroJerk-correlation()-Y,Z',\n",
       "       'tBodyAccMag-mean()', 'tBodyAccMag-std()', 'tBodyAccMag-mad()',\n",
       "       'tBodyAccMag-max()', 'tBodyAccMag-min()', 'tBodyAccMag-sma()',\n",
       "       'tBodyAccMag-energy()', 'tBodyAccMag-iqr()', 'tBodyAccMag-entropy()',\n",
       "       'tBodyAccMag-arCoeff()1', 'tBodyAccMag-arCoeff()2',\n",
       "       'tBodyAccMag-arCoeff()3', 'tBodyAccMag-arCoeff()4',\n",
       "       'tGravityAccMag-mean()', 'tGravityAccMag-std()', 'tGravityAccMag-mad()',\n",
       "       'tGravityAccMag-max()', 'tGravityAccMag-min()', 'tGravityAccMag-sma()',\n",
       "       'tGravityAccMag-energy()', 'tGravityAccMag-iqr()',\n",
       "       'tGravityAccMag-entropy()', 'tGravityAccMag-arCoeff()1',\n",
       "       'tGravityAccMag-arCoeff()2', 'tGravityAccMag-arCoeff()3',\n",
       "       'tGravityAccMag-arCoeff()4', 'tBodyAccJerkMag-mean()',\n",
       "       'tBodyAccJerkMag-std()', 'tBodyAccJerkMag-mad()',\n",
       "       'tBodyAccJerkMag-max()', 'tBodyAccJerkMag-min()',\n",
       "       'tBodyAccJerkMag-sma()', 'tBodyAccJerkMag-energy()',\n",
       "       'tBodyAccJerkMag-iqr()', 'tBodyAccJerkMag-entropy()',\n",
       "       'tBodyAccJerkMag-arCoeff()1', 'tBodyAccJerkMag-arCoeff()2',\n",
       "       'tBodyAccJerkMag-arCoeff()3', 'tBodyAccJerkMag-arCoeff()4',\n",
       "       'tBodyGyroMag-mean()', 'tBodyGyroMag-std()', 'tBodyGyroMag-mad()',\n",
       "       'tBodyGyroMag-max()', 'tBodyGyroMag-min()', 'tBodyGyroMag-sma()',\n",
       "       'tBodyGyroMag-energy()', 'tBodyGyroMag-iqr()', 'tBodyGyroMag-entropy()',\n",
       "       'tBodyGyroMag-arCoeff()1', 'tBodyGyroMag-arCoeff()2',\n",
       "       'tBodyGyroMag-arCoeff()3', 'tBodyGyroMag-arCoeff()4',\n",
       "       'tBodyGyroJerkMag-mean()', 'tBodyGyroJerkMag-std()',\n",
       "       'tBodyGyroJerkMag-mad()', 'tBodyGyroJerkMag-max()',\n",
       "       'tBodyGyroJerkMag-min()', 'tBodyGyroJerkMag-sma()',\n",
       "       'tBodyGyroJerkMag-energy()', 'tBodyGyroJerkMag-iqr()',\n",
       "       'tBodyGyroJerkMag-entropy()', 'tBodyGyroJerkMag-arCoeff()1',\n",
       "       'tBodyGyroJerkMag-arCoeff()2', 'tBodyGyroJerkMag-arCoeff()3',\n",
       "       'tBodyGyroJerkMag-arCoeff()4', 'fBodyAcc-mean()-X', 'fBodyAcc-mean()-Y',\n",
       "       'fBodyAcc-mean()-Z', 'fBodyAcc-std()-X', 'fBodyAcc-std()-Y',\n",
       "       'fBodyAcc-std()-Z', 'fBodyAcc-mad()-X', 'fBodyAcc-mad()-Y',\n",
       "       'fBodyAcc-mad()-Z', 'fBodyAcc-max()-X', 'fBodyAcc-max()-Y',\n",
       "       'fBodyAcc-max()-Z', 'fBodyAcc-min()-X', 'fBodyAcc-min()-Y',\n",
       "       'fBodyAcc-min()-Z', 'fBodyAcc-sma()', 'fBodyAcc-energy()-X',\n",
       "       'fBodyAcc-energy()-Y', 'fBodyAcc-energy()-Z', 'fBodyAcc-iqr()-X',\n",
       "       'fBodyAcc-iqr()-Y', 'fBodyAcc-iqr()-Z', 'fBodyAcc-entropy()-X',\n",
       "       'fBodyAcc-entropy()-Y', 'fBodyAcc-entropy()-Z', 'fBodyAcc-maxInds-X',\n",
       "       'fBodyAcc-maxInds-Y', 'fBodyAcc-maxInds-Z', 'fBodyAcc-meanFreq()-X',\n",
       "       'fBodyAcc-meanFreq()-Y', 'fBodyAcc-meanFreq()-Z',\n",
       "       'fBodyAcc-skewness()-X', 'fBodyAcc-kurtosis()-X',\n",
       "       'fBodyAcc-skewness()-Y', 'fBodyAcc-kurtosis()-Y',\n",
       "       'fBodyAcc-skewness()-Z', 'fBodyAcc-kurtosis()-Z',\n",
       "       'fBodyAcc-bandsEnergy()-1,8', 'fBodyAcc-bandsEnergy()-9,16',\n",
       "       'fBodyAcc-bandsEnergy()-17,24', 'fBodyAcc-bandsEnergy()-25,32',\n",
       "       'fBodyAcc-bandsEnergy()-33,40', 'fBodyAcc-bandsEnergy()-41,48',\n",
       "       'fBodyAcc-bandsEnergy()-49,56', 'fBodyAcc-bandsEnergy()-57,64',\n",
       "       'fBodyAcc-bandsEnergy()-1,16', 'fBodyAcc-bandsEnergy()-17,32',\n",
       "       'fBodyAcc-bandsEnergy()-33,48', 'fBodyAcc-bandsEnergy()-49,64',\n",
       "       'fBodyAcc-bandsEnergy()-1,24', 'fBodyAcc-bandsEnergy()-25,48',\n",
       "       'fBodyAcc-bandsEnergy()-1,8.1', 'fBodyAcc-bandsEnergy()-9,16.1',\n",
       "       'fBodyAcc-bandsEnergy()-17,24.1', 'fBodyAcc-bandsEnergy()-25,32.1',\n",
       "       'fBodyAcc-bandsEnergy()-33,40.1', 'fBodyAcc-bandsEnergy()-41,48.1',\n",
       "       'fBodyAcc-bandsEnergy()-49,56.1', 'fBodyAcc-bandsEnergy()-57,64.1',\n",
       "       'fBodyAcc-bandsEnergy()-1,16.1', 'fBodyAcc-bandsEnergy()-17,32.1',\n",
       "       'fBodyAcc-bandsEnergy()-33,48.1', 'fBodyAcc-bandsEnergy()-49,64.1',\n",
       "       'fBodyAcc-bandsEnergy()-1,24.1', 'fBodyAcc-bandsEnergy()-25,48.1',\n",
       "       'fBodyAcc-bandsEnergy()-1,8.2', 'fBodyAcc-bandsEnergy()-9,16.2',\n",
       "       'fBodyAcc-bandsEnergy()-17,24.2', 'fBodyAcc-bandsEnergy()-25,32.2',\n",
       "       'fBodyAcc-bandsEnergy()-33,40.2', 'fBodyAcc-bandsEnergy()-41,48.2',\n",
       "       'fBodyAcc-bandsEnergy()-49,56.2', 'fBodyAcc-bandsEnergy()-57,64.2',\n",
       "       'fBodyAcc-bandsEnergy()-1,16.2', 'fBodyAcc-bandsEnergy()-17,32.2',\n",
       "       'fBodyAcc-bandsEnergy()-33,48.2', 'fBodyAcc-bandsEnergy()-49,64.2',\n",
       "       'fBodyAcc-bandsEnergy()-1,24.2', 'fBodyAcc-bandsEnergy()-25,48.2',\n",
       "       'fBodyAccJerk-mean()-X', 'fBodyAccJerk-mean()-Y',\n",
       "       'fBodyAccJerk-mean()-Z', 'fBodyAccJerk-std()-X', 'fBodyAccJerk-std()-Y',\n",
       "       'fBodyAccJerk-std()-Z', 'fBodyAccJerk-mad()-X', 'fBodyAccJerk-mad()-Y',\n",
       "       'fBodyAccJerk-mad()-Z', 'fBodyAccJerk-max()-X', 'fBodyAccJerk-max()-Y',\n",
       "       'fBodyAccJerk-max()-Z', 'fBodyAccJerk-min()-X', 'fBodyAccJerk-min()-Y',\n",
       "       'fBodyAccJerk-min()-Z', 'fBodyAccJerk-sma()', 'fBodyAccJerk-energy()-X',\n",
       "       'fBodyAccJerk-energy()-Y', 'fBodyAccJerk-energy()-Z',\n",
       "       'fBodyAccJerk-iqr()-X', 'fBodyAccJerk-iqr()-Y', 'fBodyAccJerk-iqr()-Z',\n",
       "       'fBodyAccJerk-entropy()-X', 'fBodyAccJerk-entropy()-Y',\n",
       "       'fBodyAccJerk-entropy()-Z', 'fBodyAccJerk-maxInds-X',\n",
       "       'fBodyAccJerk-maxInds-Y', 'fBodyAccJerk-maxInds-Z',\n",
       "       'fBodyAccJerk-meanFreq()-X', 'fBodyAccJerk-meanFreq()-Y',\n",
       "       'fBodyAccJerk-meanFreq()-Z', 'fBodyAccJerk-skewness()-X',\n",
       "       'fBodyAccJerk-kurtosis()-X', 'fBodyAccJerk-skewness()-Y',\n",
       "       'fBodyAccJerk-kurtosis()-Y', 'fBodyAccJerk-skewness()-Z',\n",
       "       'fBodyAccJerk-kurtosis()-Z', 'fBodyAccJerk-bandsEnergy()-1,8',\n",
       "       'fBodyAccJerk-bandsEnergy()-9,16', 'fBodyAccJerk-bandsEnergy()-17,24',\n",
       "       'fBodyAccJerk-bandsEnergy()-25,32', 'fBodyAccJerk-bandsEnergy()-33,40',\n",
       "       'fBodyAccJerk-bandsEnergy()-41,48', 'fBodyAccJerk-bandsEnergy()-49,56',\n",
       "       'fBodyAccJerk-bandsEnergy()-57,64', 'fBodyAccJerk-bandsEnergy()-1,16',\n",
       "       'fBodyAccJerk-bandsEnergy()-17,32', 'fBodyAccJerk-bandsEnergy()-33,48',\n",
       "       'fBodyAccJerk-bandsEnergy()-49,64', 'fBodyAccJerk-bandsEnergy()-1,24',\n",
       "       'fBodyAccJerk-bandsEnergy()-25,48', 'fBodyAccJerk-bandsEnergy()-1,8.1',\n",
       "       'fBodyAccJerk-bandsEnergy()-9,16.1',\n",
       "       'fBodyAccJerk-bandsEnergy()-17,24.1',\n",
       "       'fBodyAccJerk-bandsEnergy()-25,32.1',\n",
       "       'fBodyAccJerk-bandsEnergy()-33,40.1',\n",
       "       'fBodyAccJerk-bandsEnergy()-41,48.1',\n",
       "       'fBodyAccJerk-bandsEnergy()-49,56.1',\n",
       "       'fBodyAccJerk-bandsEnergy()-57,64.1',\n",
       "       'fBodyAccJerk-bandsEnergy()-1,16.1',\n",
       "       'fBodyAccJerk-bandsEnergy()-17,32.1',\n",
       "       'fBodyAccJerk-bandsEnergy()-33,48.1',\n",
       "       'fBodyAccJerk-bandsEnergy()-49,64.1',\n",
       "       'fBodyAccJerk-bandsEnergy()-1,24.1',\n",
       "       'fBodyAccJerk-bandsEnergy()-25,48.1',\n",
       "       'fBodyAccJerk-bandsEnergy()-1,8.2', 'fBodyAccJerk-bandsEnergy()-9,16.2',\n",
       "       'fBodyAccJerk-bandsEnergy()-17,24.2',\n",
       "       'fBodyAccJerk-bandsEnergy()-25,32.2',\n",
       "       'fBodyAccJerk-bandsEnergy()-33,40.2',\n",
       "       'fBodyAccJerk-bandsEnergy()-41,48.2',\n",
       "       'fBodyAccJerk-bandsEnergy()-49,56.2',\n",
       "       'fBodyAccJerk-bandsEnergy()-57,64.2',\n",
       "       'fBodyAccJerk-bandsEnergy()-1,16.2',\n",
       "       'fBodyAccJerk-bandsEnergy()-17,32.2',\n",
       "       'fBodyAccJerk-bandsEnergy()-33,48.2',\n",
       "       'fBodyAccJerk-bandsEnergy()-49,64.2',\n",
       "       'fBodyAccJerk-bandsEnergy()-1,24.2',\n",
       "       'fBodyAccJerk-bandsEnergy()-25,48.2', 'fBodyGyro-mean()-X',\n",
       "       'fBodyGyro-mean()-Y', 'fBodyGyro-mean()-Z', 'fBodyGyro-std()-X',\n",
       "       'fBodyGyro-std()-Y', 'fBodyGyro-std()-Z', 'fBodyGyro-mad()-X',\n",
       "       'fBodyGyro-mad()-Y', 'fBodyGyro-mad()-Z', 'fBodyGyro-max()-X',\n",
       "       'fBodyGyro-max()-Y', 'fBodyGyro-max()-Z', 'fBodyGyro-min()-X',\n",
       "       'fBodyGyro-min()-Y', 'fBodyGyro-min()-Z', 'fBodyGyro-sma()',\n",
       "       'fBodyGyro-energy()-X', 'fBodyGyro-energy()-Y', 'fBodyGyro-energy()-Z',\n",
       "       'fBodyGyro-iqr()-X', 'fBodyGyro-iqr()-Y', 'fBodyGyro-iqr()-Z',\n",
       "       'fBodyGyro-entropy()-X', 'fBodyGyro-entropy()-Y',\n",
       "       'fBodyGyro-entropy()-Z', 'fBodyGyro-maxInds-X', 'fBodyGyro-maxInds-Y',\n",
       "       'fBodyGyro-maxInds-Z', 'fBodyGyro-meanFreq()-X',\n",
       "       'fBodyGyro-meanFreq()-Y', 'fBodyGyro-meanFreq()-Z',\n",
       "       'fBodyGyro-skewness()-X', 'fBodyGyro-kurtosis()-X',\n",
       "       'fBodyGyro-skewness()-Y', 'fBodyGyro-kurtosis()-Y',\n",
       "       'fBodyGyro-skewness()-Z', 'fBodyGyro-kurtosis()-Z',\n",
       "       'fBodyGyro-bandsEnergy()-1,8', 'fBodyGyro-bandsEnergy()-9,16',\n",
       "       'fBodyGyro-bandsEnergy()-17,24', 'fBodyGyro-bandsEnergy()-25,32',\n",
       "       'fBodyGyro-bandsEnergy()-33,40', 'fBodyGyro-bandsEnergy()-41,48',\n",
       "       'fBodyGyro-bandsEnergy()-49,56', 'fBodyGyro-bandsEnergy()-57,64',\n",
       "       'fBodyGyro-bandsEnergy()-1,16', 'fBodyGyro-bandsEnergy()-17,32',\n",
       "       'fBodyGyro-bandsEnergy()-33,48', 'fBodyGyro-bandsEnergy()-49,64',\n",
       "       'fBodyGyro-bandsEnergy()-1,24', 'fBodyGyro-bandsEnergy()-25,48',\n",
       "       'fBodyGyro-bandsEnergy()-1,8.1', 'fBodyGyro-bandsEnergy()-9,16.1',\n",
       "       'fBodyGyro-bandsEnergy()-17,24.1', 'fBodyGyro-bandsEnergy()-25,32.1',\n",
       "       'fBodyGyro-bandsEnergy()-33,40.1', 'fBodyGyro-bandsEnergy()-41,48.1',\n",
       "       'fBodyGyro-bandsEnergy()-49,56.1', 'fBodyGyro-bandsEnergy()-57,64.1',\n",
       "       'fBodyGyro-bandsEnergy()-1,16.1', 'fBodyGyro-bandsEnergy()-17,32.1',\n",
       "       'fBodyGyro-bandsEnergy()-33,48.1', 'fBodyGyro-bandsEnergy()-49,64.1',\n",
       "       'fBodyGyro-bandsEnergy()-1,24.1', 'fBodyGyro-bandsEnergy()-25,48.1',\n",
       "       'fBodyGyro-bandsEnergy()-1,8.2', 'fBodyGyro-bandsEnergy()-9,16.2',\n",
       "       'fBodyGyro-bandsEnergy()-17,24.2', 'fBodyGyro-bandsEnergy()-25,32.2',\n",
       "       'fBodyGyro-bandsEnergy()-33,40.2', 'fBodyGyro-bandsEnergy()-41,48.2',\n",
       "       'fBodyGyro-bandsEnergy()-49,56.2', 'fBodyGyro-bandsEnergy()-57,64.2',\n",
       "       'fBodyGyro-bandsEnergy()-1,16.2', 'fBodyGyro-bandsEnergy()-17,32.2',\n",
       "       'fBodyGyro-bandsEnergy()-33,48.2', 'fBodyGyro-bandsEnergy()-49,64.2',\n",
       "       'fBodyGyro-bandsEnergy()-1,24.2', 'fBodyGyro-bandsEnergy()-25,48.2',\n",
       "       'fBodyAccMag-mean()', 'fBodyAccMag-std()', 'fBodyAccMag-mad()',\n",
       "       'fBodyAccMag-max()', 'fBodyAccMag-min()', 'fBodyAccMag-sma()',\n",
       "       'fBodyAccMag-energy()', 'fBodyAccMag-iqr()', 'fBodyAccMag-entropy()',\n",
       "       'fBodyAccMag-maxInds', 'fBodyAccMag-meanFreq()',\n",
       "       'fBodyAccMag-skewness()', 'fBodyAccMag-kurtosis()',\n",
       "       'fBodyBodyAccJerkMag-mean()', 'fBodyBodyAccJerkMag-std()',\n",
       "       'fBodyBodyAccJerkMag-mad()', 'fBodyBodyAccJerkMag-max()',\n",
       "       'fBodyBodyAccJerkMag-min()', 'fBodyBodyAccJerkMag-sma()',\n",
       "       'fBodyBodyAccJerkMag-energy()', 'fBodyBodyAccJerkMag-iqr()',\n",
       "       'fBodyBodyAccJerkMag-entropy()', 'fBodyBodyAccJerkMag-maxInds',\n",
       "       'fBodyBodyAccJerkMag-meanFreq()', 'fBodyBodyAccJerkMag-skewness()',\n",
       "       'fBodyBodyAccJerkMag-kurtosis()', 'fBodyBodyGyroMag-mean()',\n",
       "       'fBodyBodyGyroMag-std()', 'fBodyBodyGyroMag-mad()',\n",
       "       'fBodyBodyGyroMag-max()', 'fBodyBodyGyroMag-min()',\n",
       "       'fBodyBodyGyroMag-sma()', 'fBodyBodyGyroMag-energy()',\n",
       "       'fBodyBodyGyroMag-iqr()', 'fBodyBodyGyroMag-entropy()',\n",
       "       'fBodyBodyGyroMag-maxInds', 'fBodyBodyGyroMag-meanFreq()',\n",
       "       'fBodyBodyGyroMag-skewness()', 'fBodyBodyGyroMag-kurtosis()',\n",
       "       'fBodyBodyGyroJerkMag-mean()', 'fBodyBodyGyroJerkMag-std()',\n",
       "       'fBodyBodyGyroJerkMag-mad()', 'fBodyBodyGyroJerkMag-max()',\n",
       "       'fBodyBodyGyroJerkMag-min()', 'fBodyBodyGyroJerkMag-sma()',\n",
       "       'fBodyBodyGyroJerkMag-energy()', 'fBodyBodyGyroJerkMag-iqr()',\n",
       "       'fBodyBodyGyroJerkMag-entropy()', 'fBodyBodyGyroJerkMag-maxInds',\n",
       "       'fBodyBodyGyroJerkMag-meanFreq()', 'fBodyBodyGyroJerkMag-skewness()',\n",
       "       'fBodyBodyGyroJerkMag-kurtosis()', 'angle(tBodyAccMean,gravity)',\n",
       "       'angle(tBodyAccJerkMean),gravityMean)',\n",
       "       'angle(tBodyGyroMean,gravityMean)',\n",
       "       'angle(tBodyGyroJerkMean,gravityMean)', 'angle(X,gravityMean)',\n",
       "       'angle(Y,gravityMean)', 'angle(Z,gravityMean)', 'subject', 'Activity'],\n",
       "      dtype='object')"
      ]
     },
     "execution_count": 3,
     "metadata": {},
     "output_type": "execute_result"
    }
   ],
   "source": [
    "#displaying the features:\n",
    "#not gonna display the head as the the values are too large\n",
    "pd.options.display.max_seq_items=600 #to display all the items in the list\n",
    "train.columns #to display columns"
   ]
  },
  {
   "cell_type": "code",
   "execution_count": 4,
   "metadata": {},
   "outputs": [
    {
     "data": {
      "text/plain": [
       "tBodyAcc-mean()-X                       0\n",
       "tBodyAcc-mean()-Y                       0\n",
       "tBodyAcc-mean()-Z                       0\n",
       "tBodyAcc-std()-X                        0\n",
       "tBodyAcc-std()-Y                        0\n",
       "tBodyAcc-std()-Z                        0\n",
       "tBodyAcc-mad()-X                        0\n",
       "tBodyAcc-mad()-Y                        0\n",
       "tBodyAcc-mad()-Z                        0\n",
       "tBodyAcc-max()-X                        0\n",
       "tBodyAcc-max()-Y                        0\n",
       "tBodyAcc-max()-Z                        0\n",
       "tBodyAcc-min()-X                        0\n",
       "tBodyAcc-min()-Y                        0\n",
       "tBodyAcc-min()-Z                        0\n",
       "tBodyAcc-sma()                          0\n",
       "tBodyAcc-energy()-X                     0\n",
       "tBodyAcc-energy()-Y                     0\n",
       "tBodyAcc-energy()-Z                     0\n",
       "tBodyAcc-iqr()-X                        0\n",
       "tBodyAcc-iqr()-Y                        0\n",
       "tBodyAcc-iqr()-Z                        0\n",
       "tBodyAcc-entropy()-X                    0\n",
       "tBodyAcc-entropy()-Y                    0\n",
       "tBodyAcc-entropy()-Z                    0\n",
       "tBodyAcc-arCoeff()-X,1                  0\n",
       "tBodyAcc-arCoeff()-X,2                  0\n",
       "tBodyAcc-arCoeff()-X,3                  0\n",
       "tBodyAcc-arCoeff()-X,4                  0\n",
       "tBodyAcc-arCoeff()-Y,1                  0\n",
       "tBodyAcc-arCoeff()-Y,2                  0\n",
       "tBodyAcc-arCoeff()-Y,3                  0\n",
       "tBodyAcc-arCoeff()-Y,4                  0\n",
       "tBodyAcc-arCoeff()-Z,1                  0\n",
       "tBodyAcc-arCoeff()-Z,2                  0\n",
       "tBodyAcc-arCoeff()-Z,3                  0\n",
       "tBodyAcc-arCoeff()-Z,4                  0\n",
       "tBodyAcc-correlation()-X,Y              0\n",
       "tBodyAcc-correlation()-X,Z              0\n",
       "tBodyAcc-correlation()-Y,Z              0\n",
       "tGravityAcc-mean()-X                    0\n",
       "tGravityAcc-mean()-Y                    0\n",
       "tGravityAcc-mean()-Z                    0\n",
       "tGravityAcc-std()-X                     0\n",
       "tGravityAcc-std()-Y                     0\n",
       "tGravityAcc-std()-Z                     0\n",
       "tGravityAcc-mad()-X                     0\n",
       "tGravityAcc-mad()-Y                     0\n",
       "tGravityAcc-mad()-Z                     0\n",
       "tGravityAcc-max()-X                     0\n",
       "tGravityAcc-max()-Y                     0\n",
       "tGravityAcc-max()-Z                     0\n",
       "tGravityAcc-min()-X                     0\n",
       "tGravityAcc-min()-Y                     0\n",
       "tGravityAcc-min()-Z                     0\n",
       "tGravityAcc-sma()                       0\n",
       "tGravityAcc-energy()-X                  0\n",
       "tGravityAcc-energy()-Y                  0\n",
       "tGravityAcc-energy()-Z                  0\n",
       "tGravityAcc-iqr()-X                     0\n",
       "tGravityAcc-iqr()-Y                     0\n",
       "tGravityAcc-iqr()-Z                     0\n",
       "tGravityAcc-entropy()-X                 0\n",
       "tGravityAcc-entropy()-Y                 0\n",
       "tGravityAcc-entropy()-Z                 0\n",
       "tGravityAcc-arCoeff()-X,1               0\n",
       "tGravityAcc-arCoeff()-X,2               0\n",
       "tGravityAcc-arCoeff()-X,3               0\n",
       "tGravityAcc-arCoeff()-X,4               0\n",
       "tGravityAcc-arCoeff()-Y,1               0\n",
       "tGravityAcc-arCoeff()-Y,2               0\n",
       "tGravityAcc-arCoeff()-Y,3               0\n",
       "tGravityAcc-arCoeff()-Y,4               0\n",
       "tGravityAcc-arCoeff()-Z,1               0\n",
       "tGravityAcc-arCoeff()-Z,2               0\n",
       "tGravityAcc-arCoeff()-Z,3               0\n",
       "tGravityAcc-arCoeff()-Z,4               0\n",
       "tGravityAcc-correlation()-X,Y           0\n",
       "tGravityAcc-correlation()-X,Z           0\n",
       "tGravityAcc-correlation()-Y,Z           0\n",
       "tBodyAccJerk-mean()-X                   0\n",
       "tBodyAccJerk-mean()-Y                   0\n",
       "tBodyAccJerk-mean()-Z                   0\n",
       "tBodyAccJerk-std()-X                    0\n",
       "tBodyAccJerk-std()-Y                    0\n",
       "tBodyAccJerk-std()-Z                    0\n",
       "tBodyAccJerk-mad()-X                    0\n",
       "tBodyAccJerk-mad()-Y                    0\n",
       "tBodyAccJerk-mad()-Z                    0\n",
       "tBodyAccJerk-max()-X                    0\n",
       "tBodyAccJerk-max()-Y                    0\n",
       "tBodyAccJerk-max()-Z                    0\n",
       "tBodyAccJerk-min()-X                    0\n",
       "tBodyAccJerk-min()-Y                    0\n",
       "tBodyAccJerk-min()-Z                    0\n",
       "tBodyAccJerk-sma()                      0\n",
       "tBodyAccJerk-energy()-X                 0\n",
       "tBodyAccJerk-energy()-Y                 0\n",
       "tBodyAccJerk-energy()-Z                 0\n",
       "tBodyAccJerk-iqr()-X                    0\n",
       "tBodyAccJerk-iqr()-Y                    0\n",
       "tBodyAccJerk-iqr()-Z                    0\n",
       "tBodyAccJerk-entropy()-X                0\n",
       "tBodyAccJerk-entropy()-Y                0\n",
       "tBodyAccJerk-entropy()-Z                0\n",
       "tBodyAccJerk-arCoeff()-X,1              0\n",
       "tBodyAccJerk-arCoeff()-X,2              0\n",
       "tBodyAccJerk-arCoeff()-X,3              0\n",
       "tBodyAccJerk-arCoeff()-X,4              0\n",
       "tBodyAccJerk-arCoeff()-Y,1              0\n",
       "tBodyAccJerk-arCoeff()-Y,2              0\n",
       "tBodyAccJerk-arCoeff()-Y,3              0\n",
       "tBodyAccJerk-arCoeff()-Y,4              0\n",
       "tBodyAccJerk-arCoeff()-Z,1              0\n",
       "tBodyAccJerk-arCoeff()-Z,2              0\n",
       "tBodyAccJerk-arCoeff()-Z,3              0\n",
       "tBodyAccJerk-arCoeff()-Z,4              0\n",
       "tBodyAccJerk-correlation()-X,Y          0\n",
       "tBodyAccJerk-correlation()-X,Z          0\n",
       "tBodyAccJerk-correlation()-Y,Z          0\n",
       "tBodyGyro-mean()-X                      0\n",
       "tBodyGyro-mean()-Y                      0\n",
       "tBodyGyro-mean()-Z                      0\n",
       "tBodyGyro-std()-X                       0\n",
       "tBodyGyro-std()-Y                       0\n",
       "tBodyGyro-std()-Z                       0\n",
       "tBodyGyro-mad()-X                       0\n",
       "tBodyGyro-mad()-Y                       0\n",
       "tBodyGyro-mad()-Z                       0\n",
       "tBodyGyro-max()-X                       0\n",
       "tBodyGyro-max()-Y                       0\n",
       "tBodyGyro-max()-Z                       0\n",
       "tBodyGyro-min()-X                       0\n",
       "tBodyGyro-min()-Y                       0\n",
       "tBodyGyro-min()-Z                       0\n",
       "tBodyGyro-sma()                         0\n",
       "tBodyGyro-energy()-X                    0\n",
       "tBodyGyro-energy()-Y                    0\n",
       "tBodyGyro-energy()-Z                    0\n",
       "tBodyGyro-iqr()-X                       0\n",
       "tBodyGyro-iqr()-Y                       0\n",
       "tBodyGyro-iqr()-Z                       0\n",
       "tBodyGyro-entropy()-X                   0\n",
       "tBodyGyro-entropy()-Y                   0\n",
       "tBodyGyro-entropy()-Z                   0\n",
       "tBodyGyro-arCoeff()-X,1                 0\n",
       "tBodyGyro-arCoeff()-X,2                 0\n",
       "tBodyGyro-arCoeff()-X,3                 0\n",
       "tBodyGyro-arCoeff()-X,4                 0\n",
       "tBodyGyro-arCoeff()-Y,1                 0\n",
       "tBodyGyro-arCoeff()-Y,2                 0\n",
       "tBodyGyro-arCoeff()-Y,3                 0\n",
       "tBodyGyro-arCoeff()-Y,4                 0\n",
       "tBodyGyro-arCoeff()-Z,1                 0\n",
       "tBodyGyro-arCoeff()-Z,2                 0\n",
       "tBodyGyro-arCoeff()-Z,3                 0\n",
       "tBodyGyro-arCoeff()-Z,4                 0\n",
       "tBodyGyro-correlation()-X,Y             0\n",
       "tBodyGyro-correlation()-X,Z             0\n",
       "tBodyGyro-correlation()-Y,Z             0\n",
       "tBodyGyroJerk-mean()-X                  0\n",
       "tBodyGyroJerk-mean()-Y                  0\n",
       "tBodyGyroJerk-mean()-Z                  0\n",
       "tBodyGyroJerk-std()-X                   0\n",
       "tBodyGyroJerk-std()-Y                   0\n",
       "tBodyGyroJerk-std()-Z                   0\n",
       "tBodyGyroJerk-mad()-X                   0\n",
       "tBodyGyroJerk-mad()-Y                   0\n",
       "tBodyGyroJerk-mad()-Z                   0\n",
       "tBodyGyroJerk-max()-X                   0\n",
       "tBodyGyroJerk-max()-Y                   0\n",
       "tBodyGyroJerk-max()-Z                   0\n",
       "tBodyGyroJerk-min()-X                   0\n",
       "tBodyGyroJerk-min()-Y                   0\n",
       "tBodyGyroJerk-min()-Z                   0\n",
       "tBodyGyroJerk-sma()                     0\n",
       "tBodyGyroJerk-energy()-X                0\n",
       "tBodyGyroJerk-energy()-Y                0\n",
       "tBodyGyroJerk-energy()-Z                0\n",
       "tBodyGyroJerk-iqr()-X                   0\n",
       "tBodyGyroJerk-iqr()-Y                   0\n",
       "tBodyGyroJerk-iqr()-Z                   0\n",
       "tBodyGyroJerk-entropy()-X               0\n",
       "tBodyGyroJerk-entropy()-Y               0\n",
       "tBodyGyroJerk-entropy()-Z               0\n",
       "tBodyGyroJerk-arCoeff()-X,1             0\n",
       "tBodyGyroJerk-arCoeff()-X,2             0\n",
       "tBodyGyroJerk-arCoeff()-X,3             0\n",
       "tBodyGyroJerk-arCoeff()-X,4             0\n",
       "tBodyGyroJerk-arCoeff()-Y,1             0\n",
       "tBodyGyroJerk-arCoeff()-Y,2             0\n",
       "tBodyGyroJerk-arCoeff()-Y,3             0\n",
       "tBodyGyroJerk-arCoeff()-Y,4             0\n",
       "tBodyGyroJerk-arCoeff()-Z,1             0\n",
       "tBodyGyroJerk-arCoeff()-Z,2             0\n",
       "tBodyGyroJerk-arCoeff()-Z,3             0\n",
       "tBodyGyroJerk-arCoeff()-Z,4             0\n",
       "tBodyGyroJerk-correlation()-X,Y         0\n",
       "tBodyGyroJerk-correlation()-X,Z         0\n",
       "tBodyGyroJerk-correlation()-Y,Z         0\n",
       "tBodyAccMag-mean()                      0\n",
       "tBodyAccMag-std()                       0\n",
       "tBodyAccMag-mad()                       0\n",
       "tBodyAccMag-max()                       0\n",
       "tBodyAccMag-min()                       0\n",
       "tBodyAccMag-sma()                       0\n",
       "tBodyAccMag-energy()                    0\n",
       "tBodyAccMag-iqr()                       0\n",
       "tBodyAccMag-entropy()                   0\n",
       "tBodyAccMag-arCoeff()1                  0\n",
       "tBodyAccMag-arCoeff()2                  0\n",
       "tBodyAccMag-arCoeff()3                  0\n",
       "tBodyAccMag-arCoeff()4                  0\n",
       "tGravityAccMag-mean()                   0\n",
       "tGravityAccMag-std()                    0\n",
       "tGravityAccMag-mad()                    0\n",
       "tGravityAccMag-max()                    0\n",
       "tGravityAccMag-min()                    0\n",
       "tGravityAccMag-sma()                    0\n",
       "tGravityAccMag-energy()                 0\n",
       "tGravityAccMag-iqr()                    0\n",
       "tGravityAccMag-entropy()                0\n",
       "tGravityAccMag-arCoeff()1               0\n",
       "tGravityAccMag-arCoeff()2               0\n",
       "tGravityAccMag-arCoeff()3               0\n",
       "tGravityAccMag-arCoeff()4               0\n",
       "tBodyAccJerkMag-mean()                  0\n",
       "tBodyAccJerkMag-std()                   0\n",
       "tBodyAccJerkMag-mad()                   0\n",
       "tBodyAccJerkMag-max()                   0\n",
       "tBodyAccJerkMag-min()                   0\n",
       "tBodyAccJerkMag-sma()                   0\n",
       "tBodyAccJerkMag-energy()                0\n",
       "tBodyAccJerkMag-iqr()                   0\n",
       "tBodyAccJerkMag-entropy()               0\n",
       "tBodyAccJerkMag-arCoeff()1              0\n",
       "tBodyAccJerkMag-arCoeff()2              0\n",
       "tBodyAccJerkMag-arCoeff()3              0\n",
       "tBodyAccJerkMag-arCoeff()4              0\n",
       "tBodyGyroMag-mean()                     0\n",
       "tBodyGyroMag-std()                      0\n",
       "tBodyGyroMag-mad()                      0\n",
       "tBodyGyroMag-max()                      0\n",
       "tBodyGyroMag-min()                      0\n",
       "tBodyGyroMag-sma()                      0\n",
       "tBodyGyroMag-energy()                   0\n",
       "tBodyGyroMag-iqr()                      0\n",
       "tBodyGyroMag-entropy()                  0\n",
       "tBodyGyroMag-arCoeff()1                 0\n",
       "tBodyGyroMag-arCoeff()2                 0\n",
       "tBodyGyroMag-arCoeff()3                 0\n",
       "tBodyGyroMag-arCoeff()4                 0\n",
       "tBodyGyroJerkMag-mean()                 0\n",
       "tBodyGyroJerkMag-std()                  0\n",
       "tBodyGyroJerkMag-mad()                  0\n",
       "tBodyGyroJerkMag-max()                  0\n",
       "tBodyGyroJerkMag-min()                  0\n",
       "tBodyGyroJerkMag-sma()                  0\n",
       "tBodyGyroJerkMag-energy()               0\n",
       "tBodyGyroJerkMag-iqr()                  0\n",
       "tBodyGyroJerkMag-entropy()              0\n",
       "tBodyGyroJerkMag-arCoeff()1             0\n",
       "tBodyGyroJerkMag-arCoeff()2             0\n",
       "tBodyGyroJerkMag-arCoeff()3             0\n",
       "tBodyGyroJerkMag-arCoeff()4             0\n",
       "fBodyAcc-mean()-X                       0\n",
       "fBodyAcc-mean()-Y                       0\n",
       "fBodyAcc-mean()-Z                       0\n",
       "fBodyAcc-std()-X                        0\n",
       "fBodyAcc-std()-Y                        0\n",
       "fBodyAcc-std()-Z                        0\n",
       "fBodyAcc-mad()-X                        0\n",
       "fBodyAcc-mad()-Y                        0\n",
       "fBodyAcc-mad()-Z                        0\n",
       "fBodyAcc-max()-X                        0\n",
       "fBodyAcc-max()-Y                        0\n",
       "fBodyAcc-max()-Z                        0\n",
       "fBodyAcc-min()-X                        0\n",
       "fBodyAcc-min()-Y                        0\n",
       "fBodyAcc-min()-Z                        0\n",
       "fBodyAcc-sma()                          0\n",
       "fBodyAcc-energy()-X                     0\n",
       "fBodyAcc-energy()-Y                     0\n",
       "fBodyAcc-energy()-Z                     0\n",
       "fBodyAcc-iqr()-X                        0\n",
       "fBodyAcc-iqr()-Y                        0\n",
       "fBodyAcc-iqr()-Z                        0\n",
       "fBodyAcc-entropy()-X                    0\n",
       "fBodyAcc-entropy()-Y                    0\n",
       "fBodyAcc-entropy()-Z                    0\n",
       "fBodyAcc-maxInds-X                      0\n",
       "fBodyAcc-maxInds-Y                      0\n",
       "fBodyAcc-maxInds-Z                      0\n",
       "fBodyAcc-meanFreq()-X                   0\n",
       "fBodyAcc-meanFreq()-Y                   0\n",
       "fBodyAcc-meanFreq()-Z                   0\n",
       "fBodyAcc-skewness()-X                   0\n",
       "fBodyAcc-kurtosis()-X                   0\n",
       "fBodyAcc-skewness()-Y                   0\n",
       "fBodyAcc-kurtosis()-Y                   0\n",
       "fBodyAcc-skewness()-Z                   0\n",
       "fBodyAcc-kurtosis()-Z                   0\n",
       "fBodyAcc-bandsEnergy()-1,8              0\n",
       "fBodyAcc-bandsEnergy()-9,16             0\n",
       "fBodyAcc-bandsEnergy()-17,24            0\n",
       "fBodyAcc-bandsEnergy()-25,32            0\n",
       "fBodyAcc-bandsEnergy()-33,40            0\n",
       "fBodyAcc-bandsEnergy()-41,48            0\n",
       "fBodyAcc-bandsEnergy()-49,56            0\n",
       "fBodyAcc-bandsEnergy()-57,64            0\n",
       "fBodyAcc-bandsEnergy()-1,16             0\n",
       "fBodyAcc-bandsEnergy()-17,32            0\n",
       "fBodyAcc-bandsEnergy()-33,48            0\n",
       "fBodyAcc-bandsEnergy()-49,64            0\n",
       "fBodyAcc-bandsEnergy()-1,24             0\n",
       "fBodyAcc-bandsEnergy()-25,48            0\n",
       "fBodyAcc-bandsEnergy()-1,8.1            0\n",
       "fBodyAcc-bandsEnergy()-9,16.1           0\n",
       "fBodyAcc-bandsEnergy()-17,24.1          0\n",
       "fBodyAcc-bandsEnergy()-25,32.1          0\n",
       "fBodyAcc-bandsEnergy()-33,40.1          0\n",
       "fBodyAcc-bandsEnergy()-41,48.1          0\n",
       "fBodyAcc-bandsEnergy()-49,56.1          0\n",
       "fBodyAcc-bandsEnergy()-57,64.1          0\n",
       "fBodyAcc-bandsEnergy()-1,16.1           0\n",
       "fBodyAcc-bandsEnergy()-17,32.1          0\n",
       "fBodyAcc-bandsEnergy()-33,48.1          0\n",
       "fBodyAcc-bandsEnergy()-49,64.1          0\n",
       "fBodyAcc-bandsEnergy()-1,24.1           0\n",
       "fBodyAcc-bandsEnergy()-25,48.1          0\n",
       "fBodyAcc-bandsEnergy()-1,8.2            0\n",
       "fBodyAcc-bandsEnergy()-9,16.2           0\n",
       "fBodyAcc-bandsEnergy()-17,24.2          0\n",
       "fBodyAcc-bandsEnergy()-25,32.2          0\n",
       "fBodyAcc-bandsEnergy()-33,40.2          0\n",
       "fBodyAcc-bandsEnergy()-41,48.2          0\n",
       "fBodyAcc-bandsEnergy()-49,56.2          0\n",
       "fBodyAcc-bandsEnergy()-57,64.2          0\n",
       "fBodyAcc-bandsEnergy()-1,16.2           0\n",
       "fBodyAcc-bandsEnergy()-17,32.2          0\n",
       "fBodyAcc-bandsEnergy()-33,48.2          0\n",
       "fBodyAcc-bandsEnergy()-49,64.2          0\n",
       "fBodyAcc-bandsEnergy()-1,24.2           0\n",
       "fBodyAcc-bandsEnergy()-25,48.2          0\n",
       "fBodyAccJerk-mean()-X                   0\n",
       "fBodyAccJerk-mean()-Y                   0\n",
       "fBodyAccJerk-mean()-Z                   0\n",
       "fBodyAccJerk-std()-X                    0\n",
       "fBodyAccJerk-std()-Y                    0\n",
       "fBodyAccJerk-std()-Z                    0\n",
       "fBodyAccJerk-mad()-X                    0\n",
       "fBodyAccJerk-mad()-Y                    0\n",
       "fBodyAccJerk-mad()-Z                    0\n",
       "fBodyAccJerk-max()-X                    0\n",
       "fBodyAccJerk-max()-Y                    0\n",
       "fBodyAccJerk-max()-Z                    0\n",
       "fBodyAccJerk-min()-X                    0\n",
       "fBodyAccJerk-min()-Y                    0\n",
       "fBodyAccJerk-min()-Z                    0\n",
       "fBodyAccJerk-sma()                      0\n",
       "fBodyAccJerk-energy()-X                 0\n",
       "fBodyAccJerk-energy()-Y                 0\n",
       "fBodyAccJerk-energy()-Z                 0\n",
       "fBodyAccJerk-iqr()-X                    0\n",
       "fBodyAccJerk-iqr()-Y                    0\n",
       "fBodyAccJerk-iqr()-Z                    0\n",
       "fBodyAccJerk-entropy()-X                0\n",
       "fBodyAccJerk-entropy()-Y                0\n",
       "fBodyAccJerk-entropy()-Z                0\n",
       "fBodyAccJerk-maxInds-X                  0\n",
       "fBodyAccJerk-maxInds-Y                  0\n",
       "fBodyAccJerk-maxInds-Z                  0\n",
       "fBodyAccJerk-meanFreq()-X               0\n",
       "fBodyAccJerk-meanFreq()-Y               0\n",
       "fBodyAccJerk-meanFreq()-Z               0\n",
       "fBodyAccJerk-skewness()-X               0\n",
       "fBodyAccJerk-kurtosis()-X               0\n",
       "fBodyAccJerk-skewness()-Y               0\n",
       "fBodyAccJerk-kurtosis()-Y               0\n",
       "fBodyAccJerk-skewness()-Z               0\n",
       "fBodyAccJerk-kurtosis()-Z               0\n",
       "fBodyAccJerk-bandsEnergy()-1,8          0\n",
       "fBodyAccJerk-bandsEnergy()-9,16         0\n",
       "fBodyAccJerk-bandsEnergy()-17,24        0\n",
       "fBodyAccJerk-bandsEnergy()-25,32        0\n",
       "fBodyAccJerk-bandsEnergy()-33,40        0\n",
       "fBodyAccJerk-bandsEnergy()-41,48        0\n",
       "fBodyAccJerk-bandsEnergy()-49,56        0\n",
       "fBodyAccJerk-bandsEnergy()-57,64        0\n",
       "fBodyAccJerk-bandsEnergy()-1,16         0\n",
       "fBodyAccJerk-bandsEnergy()-17,32        0\n",
       "fBodyAccJerk-bandsEnergy()-33,48        0\n",
       "fBodyAccJerk-bandsEnergy()-49,64        0\n",
       "fBodyAccJerk-bandsEnergy()-1,24         0\n",
       "fBodyAccJerk-bandsEnergy()-25,48        0\n",
       "fBodyAccJerk-bandsEnergy()-1,8.1        0\n",
       "fBodyAccJerk-bandsEnergy()-9,16.1       0\n",
       "fBodyAccJerk-bandsEnergy()-17,24.1      0\n",
       "fBodyAccJerk-bandsEnergy()-25,32.1      0\n",
       "fBodyAccJerk-bandsEnergy()-33,40.1      0\n",
       "fBodyAccJerk-bandsEnergy()-41,48.1      0\n",
       "fBodyAccJerk-bandsEnergy()-49,56.1      0\n",
       "fBodyAccJerk-bandsEnergy()-57,64.1      0\n",
       "fBodyAccJerk-bandsEnergy()-1,16.1       0\n",
       "fBodyAccJerk-bandsEnergy()-17,32.1      0\n",
       "fBodyAccJerk-bandsEnergy()-33,48.1      0\n",
       "fBodyAccJerk-bandsEnergy()-49,64.1      0\n",
       "fBodyAccJerk-bandsEnergy()-1,24.1       0\n",
       "fBodyAccJerk-bandsEnergy()-25,48.1      0\n",
       "fBodyAccJerk-bandsEnergy()-1,8.2        0\n",
       "fBodyAccJerk-bandsEnergy()-9,16.2       0\n",
       "fBodyAccJerk-bandsEnergy()-17,24.2      0\n",
       "fBodyAccJerk-bandsEnergy()-25,32.2      0\n",
       "fBodyAccJerk-bandsEnergy()-33,40.2      0\n",
       "fBodyAccJerk-bandsEnergy()-41,48.2      0\n",
       "fBodyAccJerk-bandsEnergy()-49,56.2      0\n",
       "fBodyAccJerk-bandsEnergy()-57,64.2      0\n",
       "fBodyAccJerk-bandsEnergy()-1,16.2       0\n",
       "fBodyAccJerk-bandsEnergy()-17,32.2      0\n",
       "fBodyAccJerk-bandsEnergy()-33,48.2      0\n",
       "fBodyAccJerk-bandsEnergy()-49,64.2      0\n",
       "fBodyAccJerk-bandsEnergy()-1,24.2       0\n",
       "fBodyAccJerk-bandsEnergy()-25,48.2      0\n",
       "fBodyGyro-mean()-X                      0\n",
       "fBodyGyro-mean()-Y                      0\n",
       "fBodyGyro-mean()-Z                      0\n",
       "fBodyGyro-std()-X                       0\n",
       "fBodyGyro-std()-Y                       0\n",
       "fBodyGyro-std()-Z                       0\n",
       "fBodyGyro-mad()-X                       0\n",
       "fBodyGyro-mad()-Y                       0\n",
       "fBodyGyro-mad()-Z                       0\n",
       "fBodyGyro-max()-X                       0\n",
       "fBodyGyro-max()-Y                       0\n",
       "fBodyGyro-max()-Z                       0\n",
       "fBodyGyro-min()-X                       0\n",
       "fBodyGyro-min()-Y                       0\n",
       "fBodyGyro-min()-Z                       0\n",
       "fBodyGyro-sma()                         0\n",
       "fBodyGyro-energy()-X                    0\n",
       "fBodyGyro-energy()-Y                    0\n",
       "fBodyGyro-energy()-Z                    0\n",
       "fBodyGyro-iqr()-X                       0\n",
       "fBodyGyro-iqr()-Y                       0\n",
       "fBodyGyro-iqr()-Z                       0\n",
       "fBodyGyro-entropy()-X                   0\n",
       "fBodyGyro-entropy()-Y                   0\n",
       "fBodyGyro-entropy()-Z                   0\n",
       "fBodyGyro-maxInds-X                     0\n",
       "fBodyGyro-maxInds-Y                     0\n",
       "fBodyGyro-maxInds-Z                     0\n",
       "fBodyGyro-meanFreq()-X                  0\n",
       "fBodyGyro-meanFreq()-Y                  0\n",
       "fBodyGyro-meanFreq()-Z                  0\n",
       "fBodyGyro-skewness()-X                  0\n",
       "fBodyGyro-kurtosis()-X                  0\n",
       "fBodyGyro-skewness()-Y                  0\n",
       "fBodyGyro-kurtosis()-Y                  0\n",
       "fBodyGyro-skewness()-Z                  0\n",
       "fBodyGyro-kurtosis()-Z                  0\n",
       "fBodyGyro-bandsEnergy()-1,8             0\n",
       "fBodyGyro-bandsEnergy()-9,16            0\n",
       "fBodyGyro-bandsEnergy()-17,24           0\n",
       "fBodyGyro-bandsEnergy()-25,32           0\n",
       "fBodyGyro-bandsEnergy()-33,40           0\n",
       "fBodyGyro-bandsEnergy()-41,48           0\n",
       "fBodyGyro-bandsEnergy()-49,56           0\n",
       "fBodyGyro-bandsEnergy()-57,64           0\n",
       "fBodyGyro-bandsEnergy()-1,16            0\n",
       "fBodyGyro-bandsEnergy()-17,32           0\n",
       "fBodyGyro-bandsEnergy()-33,48           0\n",
       "fBodyGyro-bandsEnergy()-49,64           0\n",
       "fBodyGyro-bandsEnergy()-1,24            0\n",
       "fBodyGyro-bandsEnergy()-25,48           0\n",
       "fBodyGyro-bandsEnergy()-1,8.1           0\n",
       "fBodyGyro-bandsEnergy()-9,16.1          0\n",
       "fBodyGyro-bandsEnergy()-17,24.1         0\n",
       "fBodyGyro-bandsEnergy()-25,32.1         0\n",
       "fBodyGyro-bandsEnergy()-33,40.1         0\n",
       "fBodyGyro-bandsEnergy()-41,48.1         0\n",
       "fBodyGyro-bandsEnergy()-49,56.1         0\n",
       "fBodyGyro-bandsEnergy()-57,64.1         0\n",
       "fBodyGyro-bandsEnergy()-1,16.1          0\n",
       "fBodyGyro-bandsEnergy()-17,32.1         0\n",
       "fBodyGyro-bandsEnergy()-33,48.1         0\n",
       "fBodyGyro-bandsEnergy()-49,64.1         0\n",
       "fBodyGyro-bandsEnergy()-1,24.1          0\n",
       "fBodyGyro-bandsEnergy()-25,48.1         0\n",
       "fBodyGyro-bandsEnergy()-1,8.2           0\n",
       "fBodyGyro-bandsEnergy()-9,16.2          0\n",
       "fBodyGyro-bandsEnergy()-17,24.2         0\n",
       "fBodyGyro-bandsEnergy()-25,32.2         0\n",
       "fBodyGyro-bandsEnergy()-33,40.2         0\n",
       "fBodyGyro-bandsEnergy()-41,48.2         0\n",
       "fBodyGyro-bandsEnergy()-49,56.2         0\n",
       "fBodyGyro-bandsEnergy()-57,64.2         0\n",
       "fBodyGyro-bandsEnergy()-1,16.2          0\n",
       "fBodyGyro-bandsEnergy()-17,32.2         0\n",
       "fBodyGyro-bandsEnergy()-33,48.2         0\n",
       "fBodyGyro-bandsEnergy()-49,64.2         0\n",
       "fBodyGyro-bandsEnergy()-1,24.2          0\n",
       "fBodyGyro-bandsEnergy()-25,48.2         0\n",
       "fBodyAccMag-mean()                      0\n",
       "fBodyAccMag-std()                       0\n",
       "fBodyAccMag-mad()                       0\n",
       "fBodyAccMag-max()                       0\n",
       "fBodyAccMag-min()                       0\n",
       "fBodyAccMag-sma()                       0\n",
       "fBodyAccMag-energy()                    0\n",
       "fBodyAccMag-iqr()                       0\n",
       "fBodyAccMag-entropy()                   0\n",
       "fBodyAccMag-maxInds                     0\n",
       "fBodyAccMag-meanFreq()                  0\n",
       "fBodyAccMag-skewness()                  0\n",
       "fBodyAccMag-kurtosis()                  0\n",
       "fBodyBodyAccJerkMag-mean()              0\n",
       "fBodyBodyAccJerkMag-std()               0\n",
       "fBodyBodyAccJerkMag-mad()               0\n",
       "fBodyBodyAccJerkMag-max()               0\n",
       "fBodyBodyAccJerkMag-min()               0\n",
       "fBodyBodyAccJerkMag-sma()               0\n",
       "fBodyBodyAccJerkMag-energy()            0\n",
       "fBodyBodyAccJerkMag-iqr()               0\n",
       "fBodyBodyAccJerkMag-entropy()           0\n",
       "fBodyBodyAccJerkMag-maxInds             0\n",
       "fBodyBodyAccJerkMag-meanFreq()          0\n",
       "fBodyBodyAccJerkMag-skewness()          0\n",
       "fBodyBodyAccJerkMag-kurtosis()          0\n",
       "fBodyBodyGyroMag-mean()                 0\n",
       "fBodyBodyGyroMag-std()                  0\n",
       "fBodyBodyGyroMag-mad()                  0\n",
       "fBodyBodyGyroMag-max()                  0\n",
       "fBodyBodyGyroMag-min()                  0\n",
       "fBodyBodyGyroMag-sma()                  0\n",
       "fBodyBodyGyroMag-energy()               0\n",
       "fBodyBodyGyroMag-iqr()                  0\n",
       "fBodyBodyGyroMag-entropy()              0\n",
       "fBodyBodyGyroMag-maxInds                0\n",
       "fBodyBodyGyroMag-meanFreq()             0\n",
       "fBodyBodyGyroMag-skewness()             0\n",
       "fBodyBodyGyroMag-kurtosis()             0\n",
       "fBodyBodyGyroJerkMag-mean()             0\n",
       "fBodyBodyGyroJerkMag-std()              0\n",
       "fBodyBodyGyroJerkMag-mad()              0\n",
       "fBodyBodyGyroJerkMag-max()              0\n",
       "fBodyBodyGyroJerkMag-min()              0\n",
       "fBodyBodyGyroJerkMag-sma()              0\n",
       "fBodyBodyGyroJerkMag-energy()           0\n",
       "fBodyBodyGyroJerkMag-iqr()              0\n",
       "fBodyBodyGyroJerkMag-entropy()          0\n",
       "fBodyBodyGyroJerkMag-maxInds            0\n",
       "fBodyBodyGyroJerkMag-meanFreq()         0\n",
       "fBodyBodyGyroJerkMag-skewness()         0\n",
       "fBodyBodyGyroJerkMag-kurtosis()         0\n",
       "angle(tBodyAccMean,gravity)             0\n",
       "angle(tBodyAccJerkMean),gravityMean)    0\n",
       "angle(tBodyGyroMean,gravityMean)        0\n",
       "angle(tBodyGyroJerkMean,gravityMean)    0\n",
       "angle(X,gravityMean)                    0\n",
       "angle(Y,gravityMean)                    0\n",
       "angle(Z,gravityMean)                    0\n",
       "subject                                 0\n",
       "Activity                                0\n",
       "dtype: int64"
      ]
     },
     "execution_count": 4,
     "metadata": {},
     "output_type": "execute_result"
    }
   ],
   "source": [
    "#checking for NULL values:\n",
    "pd.options.display.max_rows=600\n",
    "train.isnull().sum()\n",
    "#there are no NULL values in the data"
   ]
  },
  {
   "cell_type": "code",
   "execution_count": 5,
   "metadata": {},
   "outputs": [
    {
     "data": {
      "text/html": [
       "<div>\n",
       "<style scoped>\n",
       "    .dataframe tbody tr th:only-of-type {\n",
       "        vertical-align: middle;\n",
       "    }\n",
       "\n",
       "    .dataframe tbody tr th {\n",
       "        vertical-align: top;\n",
       "    }\n",
       "\n",
       "    .dataframe thead th {\n",
       "        text-align: right;\n",
       "    }\n",
       "</style>\n",
       "<table border=\"1\" class=\"dataframe\">\n",
       "  <thead>\n",
       "    <tr style=\"text-align: right;\">\n",
       "      <th></th>\n",
       "      <th>tBodyAcc-mean()-X</th>\n",
       "      <th>tBodyAcc-mean()-Y</th>\n",
       "      <th>tBodyAcc-mean()-Z</th>\n",
       "      <th>tBodyAcc-std()-X</th>\n",
       "      <th>tBodyAcc-std()-Y</th>\n",
       "      <th>tBodyAcc-std()-Z</th>\n",
       "      <th>tBodyAcc-mad()-X</th>\n",
       "      <th>tBodyAcc-mad()-Y</th>\n",
       "      <th>tBodyAcc-mad()-Z</th>\n",
       "      <th>tBodyAcc-max()-X</th>\n",
       "      <th>...</th>\n",
       "      <th>fBodyBodyGyroJerkMag-skewness()</th>\n",
       "      <th>fBodyBodyGyroJerkMag-kurtosis()</th>\n",
       "      <th>angle(tBodyAccMean,gravity)</th>\n",
       "      <th>angle(tBodyAccJerkMean),gravityMean)</th>\n",
       "      <th>angle(tBodyGyroMean,gravityMean)</th>\n",
       "      <th>angle(tBodyGyroJerkMean,gravityMean)</th>\n",
       "      <th>angle(X,gravityMean)</th>\n",
       "      <th>angle(Y,gravityMean)</th>\n",
       "      <th>angle(Z,gravityMean)</th>\n",
       "      <th>subject</th>\n",
       "    </tr>\n",
       "  </thead>\n",
       "  <tbody>\n",
       "    <tr>\n",
       "      <th>count</th>\n",
       "      <td>7352.000000</td>\n",
       "      <td>7352.000000</td>\n",
       "      <td>7352.000000</td>\n",
       "      <td>7352.000000</td>\n",
       "      <td>7352.000000</td>\n",
       "      <td>7352.000000</td>\n",
       "      <td>7352.000000</td>\n",
       "      <td>7352.000000</td>\n",
       "      <td>7352.000000</td>\n",
       "      <td>7352.000000</td>\n",
       "      <td>...</td>\n",
       "      <td>7352.000000</td>\n",
       "      <td>7352.000000</td>\n",
       "      <td>7352.000000</td>\n",
       "      <td>7352.000000</td>\n",
       "      <td>7352.000000</td>\n",
       "      <td>7352.000000</td>\n",
       "      <td>7352.000000</td>\n",
       "      <td>7352.000000</td>\n",
       "      <td>7352.000000</td>\n",
       "      <td>7352.000000</td>\n",
       "    </tr>\n",
       "    <tr>\n",
       "      <th>mean</th>\n",
       "      <td>0.274488</td>\n",
       "      <td>-0.017695</td>\n",
       "      <td>-0.109141</td>\n",
       "      <td>-0.605438</td>\n",
       "      <td>-0.510938</td>\n",
       "      <td>-0.604754</td>\n",
       "      <td>-0.630512</td>\n",
       "      <td>-0.526907</td>\n",
       "      <td>-0.606150</td>\n",
       "      <td>-0.468604</td>\n",
       "      <td>...</td>\n",
       "      <td>-0.307009</td>\n",
       "      <td>-0.625294</td>\n",
       "      <td>0.008684</td>\n",
       "      <td>0.002186</td>\n",
       "      <td>0.008726</td>\n",
       "      <td>-0.005981</td>\n",
       "      <td>-0.489547</td>\n",
       "      <td>0.058593</td>\n",
       "      <td>-0.056515</td>\n",
       "      <td>17.413085</td>\n",
       "    </tr>\n",
       "    <tr>\n",
       "      <th>std</th>\n",
       "      <td>0.070261</td>\n",
       "      <td>0.040811</td>\n",
       "      <td>0.056635</td>\n",
       "      <td>0.448734</td>\n",
       "      <td>0.502645</td>\n",
       "      <td>0.418687</td>\n",
       "      <td>0.424073</td>\n",
       "      <td>0.485942</td>\n",
       "      <td>0.414122</td>\n",
       "      <td>0.544547</td>\n",
       "      <td>...</td>\n",
       "      <td>0.321011</td>\n",
       "      <td>0.307584</td>\n",
       "      <td>0.336787</td>\n",
       "      <td>0.448306</td>\n",
       "      <td>0.608303</td>\n",
       "      <td>0.477975</td>\n",
       "      <td>0.511807</td>\n",
       "      <td>0.297480</td>\n",
       "      <td>0.279122</td>\n",
       "      <td>8.975143</td>\n",
       "    </tr>\n",
       "    <tr>\n",
       "      <th>min</th>\n",
       "      <td>-1.000000</td>\n",
       "      <td>-1.000000</td>\n",
       "      <td>-1.000000</td>\n",
       "      <td>-1.000000</td>\n",
       "      <td>-0.999873</td>\n",
       "      <td>-1.000000</td>\n",
       "      <td>-1.000000</td>\n",
       "      <td>-1.000000</td>\n",
       "      <td>-1.000000</td>\n",
       "      <td>-1.000000</td>\n",
       "      <td>...</td>\n",
       "      <td>-0.995357</td>\n",
       "      <td>-0.999765</td>\n",
       "      <td>-0.976580</td>\n",
       "      <td>-1.000000</td>\n",
       "      <td>-1.000000</td>\n",
       "      <td>-1.000000</td>\n",
       "      <td>-1.000000</td>\n",
       "      <td>-1.000000</td>\n",
       "      <td>-1.000000</td>\n",
       "      <td>1.000000</td>\n",
       "    </tr>\n",
       "    <tr>\n",
       "      <th>25%</th>\n",
       "      <td>0.262975</td>\n",
       "      <td>-0.024863</td>\n",
       "      <td>-0.120993</td>\n",
       "      <td>-0.992754</td>\n",
       "      <td>-0.978129</td>\n",
       "      <td>-0.980233</td>\n",
       "      <td>-0.993591</td>\n",
       "      <td>-0.978162</td>\n",
       "      <td>-0.980251</td>\n",
       "      <td>-0.936219</td>\n",
       "      <td>...</td>\n",
       "      <td>-0.542602</td>\n",
       "      <td>-0.845573</td>\n",
       "      <td>-0.121527</td>\n",
       "      <td>-0.289549</td>\n",
       "      <td>-0.482273</td>\n",
       "      <td>-0.376341</td>\n",
       "      <td>-0.812065</td>\n",
       "      <td>-0.017885</td>\n",
       "      <td>-0.143414</td>\n",
       "      <td>8.000000</td>\n",
       "    </tr>\n",
       "    <tr>\n",
       "      <th>50%</th>\n",
       "      <td>0.277193</td>\n",
       "      <td>-0.017219</td>\n",
       "      <td>-0.108676</td>\n",
       "      <td>-0.946196</td>\n",
       "      <td>-0.851897</td>\n",
       "      <td>-0.859365</td>\n",
       "      <td>-0.950709</td>\n",
       "      <td>-0.857328</td>\n",
       "      <td>-0.857143</td>\n",
       "      <td>-0.881637</td>\n",
       "      <td>...</td>\n",
       "      <td>-0.343685</td>\n",
       "      <td>-0.711692</td>\n",
       "      <td>0.009509</td>\n",
       "      <td>0.008943</td>\n",
       "      <td>0.008735</td>\n",
       "      <td>-0.000368</td>\n",
       "      <td>-0.709417</td>\n",
       "      <td>0.182071</td>\n",
       "      <td>0.003181</td>\n",
       "      <td>19.000000</td>\n",
       "    </tr>\n",
       "    <tr>\n",
       "      <th>75%</th>\n",
       "      <td>0.288461</td>\n",
       "      <td>-0.010783</td>\n",
       "      <td>-0.097794</td>\n",
       "      <td>-0.242813</td>\n",
       "      <td>-0.034231</td>\n",
       "      <td>-0.262415</td>\n",
       "      <td>-0.292680</td>\n",
       "      <td>-0.066701</td>\n",
       "      <td>-0.265671</td>\n",
       "      <td>-0.017129</td>\n",
       "      <td>...</td>\n",
       "      <td>-0.126979</td>\n",
       "      <td>-0.503878</td>\n",
       "      <td>0.150865</td>\n",
       "      <td>0.292861</td>\n",
       "      <td>0.506187</td>\n",
       "      <td>0.359368</td>\n",
       "      <td>-0.509079</td>\n",
       "      <td>0.248353</td>\n",
       "      <td>0.107659</td>\n",
       "      <td>26.000000</td>\n",
       "    </tr>\n",
       "    <tr>\n",
       "      <th>max</th>\n",
       "      <td>1.000000</td>\n",
       "      <td>1.000000</td>\n",
       "      <td>1.000000</td>\n",
       "      <td>1.000000</td>\n",
       "      <td>0.916238</td>\n",
       "      <td>1.000000</td>\n",
       "      <td>1.000000</td>\n",
       "      <td>0.967664</td>\n",
       "      <td>1.000000</td>\n",
       "      <td>1.000000</td>\n",
       "      <td>...</td>\n",
       "      <td>0.989538</td>\n",
       "      <td>0.956845</td>\n",
       "      <td>1.000000</td>\n",
       "      <td>1.000000</td>\n",
       "      <td>0.998702</td>\n",
       "      <td>0.996078</td>\n",
       "      <td>1.000000</td>\n",
       "      <td>0.478157</td>\n",
       "      <td>1.000000</td>\n",
       "      <td>30.000000</td>\n",
       "    </tr>\n",
       "  </tbody>\n",
       "</table>\n",
       "<p>8 rows × 562 columns</p>\n",
       "</div>"
      ],
      "text/plain": [
       "       tBodyAcc-mean()-X  tBodyAcc-mean()-Y  tBodyAcc-mean()-Z  \\\n",
       "count        7352.000000        7352.000000        7352.000000   \n",
       "mean            0.274488          -0.017695          -0.109141   \n",
       "std             0.070261           0.040811           0.056635   \n",
       "min            -1.000000          -1.000000          -1.000000   \n",
       "25%             0.262975          -0.024863          -0.120993   \n",
       "50%             0.277193          -0.017219          -0.108676   \n",
       "75%             0.288461          -0.010783          -0.097794   \n",
       "max             1.000000           1.000000           1.000000   \n",
       "\n",
       "       tBodyAcc-std()-X  tBodyAcc-std()-Y  tBodyAcc-std()-Z  tBodyAcc-mad()-X  \\\n",
       "count       7352.000000       7352.000000       7352.000000       7352.000000   \n",
       "mean          -0.605438         -0.510938         -0.604754         -0.630512   \n",
       "std            0.448734          0.502645          0.418687          0.424073   \n",
       "min           -1.000000         -0.999873         -1.000000         -1.000000   \n",
       "25%           -0.992754         -0.978129         -0.980233         -0.993591   \n",
       "50%           -0.946196         -0.851897         -0.859365         -0.950709   \n",
       "75%           -0.242813         -0.034231         -0.262415         -0.292680   \n",
       "max            1.000000          0.916238          1.000000          1.000000   \n",
       "\n",
       "       tBodyAcc-mad()-Y  tBodyAcc-mad()-Z  tBodyAcc-max()-X  ...  \\\n",
       "count       7352.000000       7352.000000       7352.000000  ...   \n",
       "mean          -0.526907         -0.606150         -0.468604  ...   \n",
       "std            0.485942          0.414122          0.544547  ...   \n",
       "min           -1.000000         -1.000000         -1.000000  ...   \n",
       "25%           -0.978162         -0.980251         -0.936219  ...   \n",
       "50%           -0.857328         -0.857143         -0.881637  ...   \n",
       "75%           -0.066701         -0.265671         -0.017129  ...   \n",
       "max            0.967664          1.000000          1.000000  ...   \n",
       "\n",
       "       fBodyBodyGyroJerkMag-skewness()  fBodyBodyGyroJerkMag-kurtosis()  \\\n",
       "count                      7352.000000                      7352.000000   \n",
       "mean                         -0.307009                        -0.625294   \n",
       "std                           0.321011                         0.307584   \n",
       "min                          -0.995357                        -0.999765   \n",
       "25%                          -0.542602                        -0.845573   \n",
       "50%                          -0.343685                        -0.711692   \n",
       "75%                          -0.126979                        -0.503878   \n",
       "max                           0.989538                         0.956845   \n",
       "\n",
       "       angle(tBodyAccMean,gravity)  angle(tBodyAccJerkMean),gravityMean)  \\\n",
       "count                  7352.000000                           7352.000000   \n",
       "mean                      0.008684                              0.002186   \n",
       "std                       0.336787                              0.448306   \n",
       "min                      -0.976580                             -1.000000   \n",
       "25%                      -0.121527                             -0.289549   \n",
       "50%                       0.009509                              0.008943   \n",
       "75%                       0.150865                              0.292861   \n",
       "max                       1.000000                              1.000000   \n",
       "\n",
       "       angle(tBodyGyroMean,gravityMean)  angle(tBodyGyroJerkMean,gravityMean)  \\\n",
       "count                       7352.000000                           7352.000000   \n",
       "mean                           0.008726                             -0.005981   \n",
       "std                            0.608303                              0.477975   \n",
       "min                           -1.000000                             -1.000000   \n",
       "25%                           -0.482273                             -0.376341   \n",
       "50%                            0.008735                             -0.000368   \n",
       "75%                            0.506187                              0.359368   \n",
       "max                            0.998702                              0.996078   \n",
       "\n",
       "       angle(X,gravityMean)  angle(Y,gravityMean)  angle(Z,gravityMean)  \\\n",
       "count           7352.000000           7352.000000           7352.000000   \n",
       "mean              -0.489547              0.058593             -0.056515   \n",
       "std                0.511807              0.297480              0.279122   \n",
       "min               -1.000000             -1.000000             -1.000000   \n",
       "25%               -0.812065             -0.017885             -0.143414   \n",
       "50%               -0.709417              0.182071              0.003181   \n",
       "75%               -0.509079              0.248353              0.107659   \n",
       "max                1.000000              0.478157              1.000000   \n",
       "\n",
       "           subject  \n",
       "count  7352.000000  \n",
       "mean     17.413085  \n",
       "std       8.975143  \n",
       "min       1.000000  \n",
       "25%       8.000000  \n",
       "50%      19.000000  \n",
       "75%      26.000000  \n",
       "max      30.000000  \n",
       "\n",
       "[8 rows x 562 columns]"
      ]
     },
     "execution_count": 5,
     "metadata": {},
     "output_type": "execute_result"
    }
   ],
   "source": [
    "train.describe()"
   ]
  },
  {
   "cell_type": "markdown",
   "metadata": {},
   "source": [
    "Here we can observe that the train data is scaled using MinMaxScaler"
   ]
  },
  {
   "cell_type": "code",
   "execution_count": 6,
   "metadata": {},
   "outputs": [
    {
     "data": {
      "text/html": [
       "<div>\n",
       "<style scoped>\n",
       "    .dataframe tbody tr th:only-of-type {\n",
       "        vertical-align: middle;\n",
       "    }\n",
       "\n",
       "    .dataframe tbody tr th {\n",
       "        vertical-align: top;\n",
       "    }\n",
       "\n",
       "    .dataframe thead th {\n",
       "        text-align: right;\n",
       "    }\n",
       "</style>\n",
       "<table border=\"1\" class=\"dataframe\">\n",
       "  <thead>\n",
       "    <tr style=\"text-align: right;\">\n",
       "      <th></th>\n",
       "      <th>tBodyAcc-mean()-X</th>\n",
       "      <th>tBodyAcc-mean()-Y</th>\n",
       "      <th>tBodyAcc-mean()-Z</th>\n",
       "      <th>tBodyAcc-std()-X</th>\n",
       "      <th>tBodyAcc-std()-Y</th>\n",
       "      <th>tBodyAcc-std()-Z</th>\n",
       "      <th>tBodyAcc-mad()-X</th>\n",
       "      <th>tBodyAcc-mad()-Y</th>\n",
       "      <th>tBodyAcc-mad()-Z</th>\n",
       "      <th>tBodyAcc-max()-X</th>\n",
       "      <th>...</th>\n",
       "      <th>fBodyBodyGyroJerkMag-skewness()</th>\n",
       "      <th>fBodyBodyGyroJerkMag-kurtosis()</th>\n",
       "      <th>angle(tBodyAccMean,gravity)</th>\n",
       "      <th>angle(tBodyAccJerkMean),gravityMean)</th>\n",
       "      <th>angle(tBodyGyroMean,gravityMean)</th>\n",
       "      <th>angle(tBodyGyroJerkMean,gravityMean)</th>\n",
       "      <th>angle(X,gravityMean)</th>\n",
       "      <th>angle(Y,gravityMean)</th>\n",
       "      <th>angle(Z,gravityMean)</th>\n",
       "      <th>subject</th>\n",
       "    </tr>\n",
       "  </thead>\n",
       "  <tbody>\n",
       "    <tr>\n",
       "      <th>count</th>\n",
       "      <td>2947.000000</td>\n",
       "      <td>2947.000000</td>\n",
       "      <td>2947.000000</td>\n",
       "      <td>2947.000000</td>\n",
       "      <td>2947.000000</td>\n",
       "      <td>2947.000000</td>\n",
       "      <td>2947.000000</td>\n",
       "      <td>2947.000000</td>\n",
       "      <td>2947.000000</td>\n",
       "      <td>2947.000000</td>\n",
       "      <td>...</td>\n",
       "      <td>2947.000000</td>\n",
       "      <td>2947.000000</td>\n",
       "      <td>2947.000000</td>\n",
       "      <td>2947.000000</td>\n",
       "      <td>2947.000000</td>\n",
       "      <td>2947.000000</td>\n",
       "      <td>2947.000000</td>\n",
       "      <td>2947.000000</td>\n",
       "      <td>2947.000000</td>\n",
       "      <td>2947.000000</td>\n",
       "    </tr>\n",
       "    <tr>\n",
       "      <th>mean</th>\n",
       "      <td>0.273996</td>\n",
       "      <td>-0.017863</td>\n",
       "      <td>-0.108386</td>\n",
       "      <td>-0.613635</td>\n",
       "      <td>-0.508330</td>\n",
       "      <td>-0.633797</td>\n",
       "      <td>-0.641278</td>\n",
       "      <td>-0.522676</td>\n",
       "      <td>-0.637038</td>\n",
       "      <td>-0.462063</td>\n",
       "      <td>...</td>\n",
       "      <td>-0.277593</td>\n",
       "      <td>-0.598756</td>\n",
       "      <td>0.005264</td>\n",
       "      <td>0.003799</td>\n",
       "      <td>0.040029</td>\n",
       "      <td>-0.017298</td>\n",
       "      <td>-0.513923</td>\n",
       "      <td>0.074886</td>\n",
       "      <td>-0.048720</td>\n",
       "      <td>12.986427</td>\n",
       "    </tr>\n",
       "    <tr>\n",
       "      <th>std</th>\n",
       "      <td>0.060570</td>\n",
       "      <td>0.025745</td>\n",
       "      <td>0.042747</td>\n",
       "      <td>0.412597</td>\n",
       "      <td>0.494269</td>\n",
       "      <td>0.362699</td>\n",
       "      <td>0.385199</td>\n",
       "      <td>0.479899</td>\n",
       "      <td>0.357753</td>\n",
       "      <td>0.523916</td>\n",
       "      <td>...</td>\n",
       "      <td>0.317245</td>\n",
       "      <td>0.311042</td>\n",
       "      <td>0.336147</td>\n",
       "      <td>0.445077</td>\n",
       "      <td>0.634989</td>\n",
       "      <td>0.501311</td>\n",
       "      <td>0.509205</td>\n",
       "      <td>0.324300</td>\n",
       "      <td>0.241467</td>\n",
       "      <td>6.950984</td>\n",
       "    </tr>\n",
       "    <tr>\n",
       "      <th>min</th>\n",
       "      <td>-0.592004</td>\n",
       "      <td>-0.362884</td>\n",
       "      <td>-0.576184</td>\n",
       "      <td>-0.999606</td>\n",
       "      <td>-1.000000</td>\n",
       "      <td>-0.998955</td>\n",
       "      <td>-0.999417</td>\n",
       "      <td>-0.999914</td>\n",
       "      <td>-0.998899</td>\n",
       "      <td>-0.952357</td>\n",
       "      <td>...</td>\n",
       "      <td>-1.000000</td>\n",
       "      <td>-1.000000</td>\n",
       "      <td>-1.000000</td>\n",
       "      <td>-0.993402</td>\n",
       "      <td>-0.998898</td>\n",
       "      <td>-0.991096</td>\n",
       "      <td>-0.984195</td>\n",
       "      <td>-0.913704</td>\n",
       "      <td>-0.949228</td>\n",
       "      <td>2.000000</td>\n",
       "    </tr>\n",
       "    <tr>\n",
       "      <th>25%</th>\n",
       "      <td>0.262075</td>\n",
       "      <td>-0.024961</td>\n",
       "      <td>-0.121162</td>\n",
       "      <td>-0.990914</td>\n",
       "      <td>-0.973664</td>\n",
       "      <td>-0.976122</td>\n",
       "      <td>-0.992333</td>\n",
       "      <td>-0.974131</td>\n",
       "      <td>-0.975352</td>\n",
       "      <td>-0.934447</td>\n",
       "      <td>...</td>\n",
       "      <td>-0.517494</td>\n",
       "      <td>-0.829593</td>\n",
       "      <td>-0.130541</td>\n",
       "      <td>-0.282600</td>\n",
       "      <td>-0.518924</td>\n",
       "      <td>-0.428375</td>\n",
       "      <td>-0.829722</td>\n",
       "      <td>0.022140</td>\n",
       "      <td>-0.098485</td>\n",
       "      <td>9.000000</td>\n",
       "    </tr>\n",
       "    <tr>\n",
       "      <th>50%</th>\n",
       "      <td>0.277113</td>\n",
       "      <td>-0.016967</td>\n",
       "      <td>-0.108458</td>\n",
       "      <td>-0.931214</td>\n",
       "      <td>-0.790972</td>\n",
       "      <td>-0.827534</td>\n",
       "      <td>-0.937664</td>\n",
       "      <td>-0.799907</td>\n",
       "      <td>-0.817005</td>\n",
       "      <td>-0.852659</td>\n",
       "      <td>...</td>\n",
       "      <td>-0.311023</td>\n",
       "      <td>-0.683672</td>\n",
       "      <td>0.005188</td>\n",
       "      <td>0.006767</td>\n",
       "      <td>0.047113</td>\n",
       "      <td>-0.026726</td>\n",
       "      <td>-0.729648</td>\n",
       "      <td>0.181563</td>\n",
       "      <td>-0.010671</td>\n",
       "      <td>12.000000</td>\n",
       "    </tr>\n",
       "    <tr>\n",
       "      <th>75%</th>\n",
       "      <td>0.288097</td>\n",
       "      <td>-0.010143</td>\n",
       "      <td>-0.097123</td>\n",
       "      <td>-0.267395</td>\n",
       "      <td>-0.105919</td>\n",
       "      <td>-0.311432</td>\n",
       "      <td>-0.321719</td>\n",
       "      <td>-0.133488</td>\n",
       "      <td>-0.322771</td>\n",
       "      <td>-0.009965</td>\n",
       "      <td>...</td>\n",
       "      <td>-0.083559</td>\n",
       "      <td>-0.458332</td>\n",
       "      <td>0.146200</td>\n",
       "      <td>0.288113</td>\n",
       "      <td>0.622151</td>\n",
       "      <td>0.394387</td>\n",
       "      <td>-0.545939</td>\n",
       "      <td>0.260252</td>\n",
       "      <td>0.092373</td>\n",
       "      <td>18.000000</td>\n",
       "    </tr>\n",
       "    <tr>\n",
       "      <th>max</th>\n",
       "      <td>0.671887</td>\n",
       "      <td>0.246106</td>\n",
       "      <td>0.494114</td>\n",
       "      <td>0.465299</td>\n",
       "      <td>1.000000</td>\n",
       "      <td>0.489703</td>\n",
       "      <td>0.439657</td>\n",
       "      <td>1.000000</td>\n",
       "      <td>0.427958</td>\n",
       "      <td>0.786436</td>\n",
       "      <td>...</td>\n",
       "      <td>1.000000</td>\n",
       "      <td>1.000000</td>\n",
       "      <td>0.998898</td>\n",
       "      <td>0.986347</td>\n",
       "      <td>1.000000</td>\n",
       "      <td>1.000000</td>\n",
       "      <td>0.833180</td>\n",
       "      <td>1.000000</td>\n",
       "      <td>0.973113</td>\n",
       "      <td>24.000000</td>\n",
       "    </tr>\n",
       "  </tbody>\n",
       "</table>\n",
       "<p>8 rows × 562 columns</p>\n",
       "</div>"
      ],
      "text/plain": [
       "       tBodyAcc-mean()-X  tBodyAcc-mean()-Y  tBodyAcc-mean()-Z  \\\n",
       "count        2947.000000        2947.000000        2947.000000   \n",
       "mean            0.273996          -0.017863          -0.108386   \n",
       "std             0.060570           0.025745           0.042747   \n",
       "min            -0.592004          -0.362884          -0.576184   \n",
       "25%             0.262075          -0.024961          -0.121162   \n",
       "50%             0.277113          -0.016967          -0.108458   \n",
       "75%             0.288097          -0.010143          -0.097123   \n",
       "max             0.671887           0.246106           0.494114   \n",
       "\n",
       "       tBodyAcc-std()-X  tBodyAcc-std()-Y  tBodyAcc-std()-Z  tBodyAcc-mad()-X  \\\n",
       "count       2947.000000       2947.000000       2947.000000       2947.000000   \n",
       "mean          -0.613635         -0.508330         -0.633797         -0.641278   \n",
       "std            0.412597          0.494269          0.362699          0.385199   \n",
       "min           -0.999606         -1.000000         -0.998955         -0.999417   \n",
       "25%           -0.990914         -0.973664         -0.976122         -0.992333   \n",
       "50%           -0.931214         -0.790972         -0.827534         -0.937664   \n",
       "75%           -0.267395         -0.105919         -0.311432         -0.321719   \n",
       "max            0.465299          1.000000          0.489703          0.439657   \n",
       "\n",
       "       tBodyAcc-mad()-Y  tBodyAcc-mad()-Z  tBodyAcc-max()-X  ...  \\\n",
       "count       2947.000000       2947.000000       2947.000000  ...   \n",
       "mean          -0.522676         -0.637038         -0.462063  ...   \n",
       "std            0.479899          0.357753          0.523916  ...   \n",
       "min           -0.999914         -0.998899         -0.952357  ...   \n",
       "25%           -0.974131         -0.975352         -0.934447  ...   \n",
       "50%           -0.799907         -0.817005         -0.852659  ...   \n",
       "75%           -0.133488         -0.322771         -0.009965  ...   \n",
       "max            1.000000          0.427958          0.786436  ...   \n",
       "\n",
       "       fBodyBodyGyroJerkMag-skewness()  fBodyBodyGyroJerkMag-kurtosis()  \\\n",
       "count                      2947.000000                      2947.000000   \n",
       "mean                         -0.277593                        -0.598756   \n",
       "std                           0.317245                         0.311042   \n",
       "min                          -1.000000                        -1.000000   \n",
       "25%                          -0.517494                        -0.829593   \n",
       "50%                          -0.311023                        -0.683672   \n",
       "75%                          -0.083559                        -0.458332   \n",
       "max                           1.000000                         1.000000   \n",
       "\n",
       "       angle(tBodyAccMean,gravity)  angle(tBodyAccJerkMean),gravityMean)  \\\n",
       "count                  2947.000000                           2947.000000   \n",
       "mean                      0.005264                              0.003799   \n",
       "std                       0.336147                              0.445077   \n",
       "min                      -1.000000                             -0.993402   \n",
       "25%                      -0.130541                             -0.282600   \n",
       "50%                       0.005188                              0.006767   \n",
       "75%                       0.146200                              0.288113   \n",
       "max                       0.998898                              0.986347   \n",
       "\n",
       "       angle(tBodyGyroMean,gravityMean)  angle(tBodyGyroJerkMean,gravityMean)  \\\n",
       "count                       2947.000000                           2947.000000   \n",
       "mean                           0.040029                             -0.017298   \n",
       "std                            0.634989                              0.501311   \n",
       "min                           -0.998898                             -0.991096   \n",
       "25%                           -0.518924                             -0.428375   \n",
       "50%                            0.047113                             -0.026726   \n",
       "75%                            0.622151                              0.394387   \n",
       "max                            1.000000                              1.000000   \n",
       "\n",
       "       angle(X,gravityMean)  angle(Y,gravityMean)  angle(Z,gravityMean)  \\\n",
       "count           2947.000000           2947.000000           2947.000000   \n",
       "mean              -0.513923              0.074886             -0.048720   \n",
       "std                0.509205              0.324300              0.241467   \n",
       "min               -0.984195             -0.913704             -0.949228   \n",
       "25%               -0.829722              0.022140             -0.098485   \n",
       "50%               -0.729648              0.181563             -0.010671   \n",
       "75%               -0.545939              0.260252              0.092373   \n",
       "max                0.833180              1.000000              0.973113   \n",
       "\n",
       "           subject  \n",
       "count  2947.000000  \n",
       "mean     12.986427  \n",
       "std       6.950984  \n",
       "min       2.000000  \n",
       "25%       9.000000  \n",
       "50%      12.000000  \n",
       "75%      18.000000  \n",
       "max      24.000000  \n",
       "\n",
       "[8 rows x 562 columns]"
      ]
     },
     "execution_count": 6,
     "metadata": {},
     "output_type": "execute_result"
    }
   ],
   "source": [
    "test.describe()"
   ]
  },
  {
   "cell_type": "markdown",
   "metadata": {},
   "source": [
    "Here we can observe that the test data is scalled using Standard Scaler"
   ]
  },
  {
   "cell_type": "markdown",
   "metadata": {},
   "source": [
    "## Details of FEATURES in the data:\n",
    "<strong>These signals were used to estimate variables of the feature vector for each pattern:<br>\n",
    "'-XYZ' is used to denote 3-axial signals in the X, Y and Z directions.<br>\n",
    "<br>\n",
    "tBodyAcc-XYZ<br>\n",
    "tGravityAcc-XYZ<br>\n",
    "tBodyAccJerk-XYZ<br>\n",
    "tBodyGyro-XYZ<br>\n",
    "tBodyGyroJerk-XYZ<br>\n",
    "tBodyAccMag<br>\n",
    "tGravityAccMag<br>\n",
    "tBodyAccJerkMag<br>\n",
    "tBodyGyroMag<br>\n",
    "tBodyGyroJerkMag<br>\n",
    "fBodyAcc-XYZ<br>\n",
    "fBodyAccJerk-XYZ<br>\n",
    "fBodyGyro-XYZ<br>\n",
    "fBodyAccMag<br>\n",
    "fBodyAccJerkMag<br>\n",
    "fBodyGyroMag<br>\n",
    "fBodyGyroJerkMag<br></strong>"
   ]
  },
  {
   "cell_type": "markdown",
   "metadata": {},
   "source": [
    "# Feature Engineering:\n",
    "<strong>The set of variables that were estimated from these signals are: <br>\n",
    "<br>\n",
    "mean(): Mean value<br>\n",
    "std(): Standard deviation<br>\n",
    "mad(): Median absolute deviation<br> \n",
    "max(): Largest value in array<br>\n",
    "min(): Smallest value in array<br>\n",
    "sma(): Signal magnitude area<br>\n",
    "energy(): Energy measure. Sum of the squares divided by the number of values. <br>\n",
    "iqr(): Interquartile range <br>\n",
    "entropy(): Signal entropy<br>\n",
    "arCoeff(): Autorregresion coefficients with Burg order equal to 4<br>\n",
    "correlation(): correlation coefficient between two signals<br>\n",
    "maxInds(): index of the frequency component with largest magnitude<br>\n",
    "meanFreq(): Weighted average of the frequency components to obtain a mean frequency<br>\n",
    "skewness(): skewness of the frequency domain signal <br>\n",
    "kurtosis(): kurtosis of the frequency domain signal <br>\n",
    "bandsEnergy(): Energy of a frequency interval within the 64 bins of the FFT of each window.<br>\n",
    "angle(): Angle between to vectors.<br>\n",
    "<br>\n",
    "Additional vectors obtained by averaging the signals in a signal window sample. These are used on the angle() variable:<br>\n",
    "<br>\n",
    "gravityMean<br>\n",
    "tBodyAccMean<br>\n",
    "tBodyAccJerkMean<br>\n",
    "tBodyGyroMean<br>\n",
    "tBodyGyroJerkMean<br>\n",
    "<br>\n",
    "OUTPUT COLUMN-->\n",
    "Here the output column is the ACTIVITY column.\n",
    "</strong>"
   ]
  },
  {
   "cell_type": "markdown",
   "metadata": {},
   "source": [
    "### Models that can be used to make predictions on this data:\n",
    "- ML models:<br>\n",
    "    - Logistic Regression\n",
    "    - KNN\n",
    "    - Naive Bayes\n",
    "    - Decision Trees\n",
    "    - Random Forest\n",
    "- DL models:\n",
    "    - RNNs\n",
    "    - CNNs"
   ]
  },
  {
   "cell_type": "markdown",
   "metadata": {},
   "source": [
    "# Data Visualizations:"
   ]
  },
  {
   "cell_type": "markdown",
   "metadata": {},
   "source": [
    "#### Visualizing the class imbalance in the Output Columns\n",
    "This helps us to present how accurately the classification can be done, as , any high imblances in the data might lead to mispredictions"
   ]
  },
  {
   "cell_type": "code",
   "execution_count": 7,
   "metadata": {},
   "outputs": [
    {
     "data": {
      "text/plain": [
       "array(['STANDING', 'SITTING', 'LAYING', 'WALKING', 'WALKING_DOWNSTAIRS',\n",
       "       'WALKING_UPSTAIRS'], dtype=object)"
      ]
     },
     "execution_count": 7,
     "metadata": {},
     "output_type": "execute_result"
    }
   ],
   "source": [
    "train.Activity.unique()\n",
    "#we can see there are only 6 classes we need to classify the data into"
   ]
  },
  {
   "cell_type": "code",
   "execution_count": 8,
   "metadata": {},
   "outputs": [
    {
     "data": {
      "text/plain": [
       "<matplotlib.axes._subplots.AxesSubplot at 0x7f462e4c8d50>"
      ]
     },
     "execution_count": 8,
     "metadata": {},
     "output_type": "execute_result"
    },
    {
     "data": {
      "image/png": "[encoded data removed]",
      "text/plain": [
       "<Figure size 864x360 with 1 Axes>"
      ]
     },
     "metadata": {
      "needs_background": "light"
     },
     "output_type": "display_data"
    }
   ],
   "source": [
    "plt.subplots(figsize=(12,5))\n",
    "sns.countplot(train.Activity)"
   ]
  },
  {
   "cell_type": "markdown",
   "metadata": {},
   "source": [
    "##### The above plot also lets us know that the major activities among all are LAYING and STANDING (which is natural with regard to humans), and the low frequent activities are WALKING-Up/Downstairs."
   ]
  },
  {
   "cell_type": "code",
   "execution_count": 9,
   "metadata": {},
   "outputs": [
    {
     "data": {
      "image/png": "[encoded data removed]",
      "text/plain": [
       "<Figure size 504x504 with 1 Axes>"
      ]
     },
     "metadata": {},
     "output_type": "display_data"
    }
   ],
   "source": [
    "plt.subplots(figsize=(7,7))\n",
    "plt.pie(train.Activity.value_counts(),labels=train.Activity.unique(),autopct='%1.2f%%')\n",
    "plt.show()\n",
    "#we can see that all the features are equally distributed"
   ]
  },
  {
   "cell_type": "markdown",
   "metadata": {},
   "source": [
    "### Splitting the data into INPUT and OUTPUT DataFrames:\n",
    "x_train--> train INPUT; y_train --> train OUTPUT <br>\n",
    "x_test--> test Input; y_test--> test INPUT<br>\n",
    "###### the subject column in all the data is not useful for our model so we're gonna 'drop' that column"
   ]
  },
  {
   "cell_type": "code",
   "execution_count": 10,
   "metadata": {},
   "outputs": [],
   "source": [
    "train.drop(['subject'],axis=1,inplace=True)\n",
    "test.drop(['subject'],axis=1,inplace=True)\n",
    "#train data:\n",
    "x_train=train.drop(['Activity'],axis=1)\n",
    "y_train=train.Activity\n",
    "#test data:\n",
    "x_test=test.drop(['Activity'],axis=1)\n",
    "y_test=test.Activity"
   ]
  },
  {
   "cell_type": "markdown",
   "metadata": {},
   "source": [
    "##### Now, before we start build our models, we consider the data from all the columns as input to our models as it can be observed from the FEATURE Engineering process that , there are numerous columns but on the ground level, all the columns are just an engineered product of the ACCELEROMETER and GYROSCOPE inputs recorded in a continuous 'time-series'.\n",
    "##### There's more than one reason to include all the Features as input to this data, one of it being, the 'JERK' values, actions like the ones we're classifying in here, they all generate JERKS while the actions are being performed. Therfore, this value is important and cannot be ignored from being passed as an input inspite of being highly correlated to the other values.\n",
    "##### So, here I'm trying to consider every column of the data to predict my classes."
   ]
  },
  {
   "cell_type": "markdown",
   "metadata": {},
   "source": [
    "### MODELING, TRAINING & TESTING:"
   ]
  },
  {
   "cell_type": "markdown",
   "metadata": {},
   "source": [
    "### Logistic Regression:"
   ]
  },
  {
   "cell_type": "code",
   "execution_count": 11,
   "metadata": {},
   "outputs": [
    {
     "name": "stderr",
     "output_type": "stream",
     "text": [
      "/home/lancelot2904/anaconda3/lib/python3.7/site-packages/sklearn/linear_model/_logistic.py:764: ConvergenceWarning: lbfgs failed to converge (status=1):\n",
      "STOP: TOTAL NO. of ITERATIONS REACHED LIMIT.\n",
      "\n",
      "Increase the number of iterations (max_iter) or scale the data as shown in:\n",
      "    https://scikit-learn.org/stable/modules/preprocessing.html\n",
      "Please also refer to the documentation for alternative solver options:\n",
      "    https://scikit-learn.org/stable/modules/linear_model.html#logistic-regression\n",
      "  extra_warning_msg=_LOGISTIC_SOLVER_CONVERGENCE_MSG)\n"
     ]
    }
   ],
   "source": [
    "from sklearn.linear_model import LogisticRegression\n",
    "lr=LogisticRegression()\n",
    "lr.fit(x_train,y_train)\n",
    "lr_train_predict=lr.predict(x_train)\n",
    "lr_test_predict=lr.predict(x_test)"
   ]
  },
  {
   "cell_type": "code",
   "execution_count": 12,
   "metadata": {},
   "outputs": [],
   "source": [
    "##checking the metrics:\n",
    "train_accu_score=np.zeros(5) ##to store the training accuracies of all the models\n",
    "test_accu_score=np.zeros(5) ##to store the testing accuracies of all models\n",
    "from sklearn.metrics import accuracy_score,confusion_matrix,classification_report\n",
    "train_accu_score[0]=accuracy_score(y_train,lr_train_predict)\n",
    "test_accu_score[0]=accuracy_score(y_test,lr_test_predict)"
   ]
  },
  {
   "cell_type": "code",
   "execution_count": 13,
   "metadata": {},
   "outputs": [
    {
     "name": "stdout",
     "output_type": "stream",
     "text": [
      "Logistic Regression Train Accuracy:  0.9908868335146899\n",
      "Logistic Regression Test Accuracy:  0.9586019681031558\n"
     ]
    }
   ],
   "source": [
    "print(\"Logistic Regression Train Accuracy: \",train_accu_score[0])\n",
    "print(\"Logistic Regression Test Accuracy: \",test_accu_score[0])"
   ]
  },
  {
   "cell_type": "code",
   "execution_count": 14,
   "metadata": {},
   "outputs": [
    {
     "name": "stdout",
     "output_type": "stream",
     "text": [
      "Logistic Regression Train Confusion Matrix: \n"
     ]
    },
    {
     "data": {
      "text/plain": [
       "<matplotlib.axes._subplots.AxesSubplot at 0x7f462e7bc710>"
      ]
     },
     "execution_count": 14,
     "metadata": {},
     "output_type": "execute_result"
    },
    {
     "data": {
      "image/png": "[encoded data removed]",
      "text/plain": [
       "<Figure size 432x288 with 2 Axes>"
      ]
     },
     "metadata": {
      "needs_background": "light"
     },
     "output_type": "display_data"
    }
   ],
   "source": [
    "print(\"Logistic Regression Train Confusion Matrix: \")\n",
    "sns.heatmap(confusion_matrix(y_train,lr_train_predict),annot=True,fmt='1.0f')"
   ]
  },
  {
   "cell_type": "code",
   "execution_count": 15,
   "metadata": {},
   "outputs": [
    {
     "name": "stdout",
     "output_type": "stream",
     "text": [
      "Logistic Regression Test Confusion Matrix: \n"
     ]
    },
    {
     "data": {
      "text/plain": [
       "<matplotlib.axes._subplots.AxesSubplot at 0x7f46284b8110>"
      ]
     },
     "execution_count": 15,
     "metadata": {},
     "output_type": "execute_result"
    },
    {
     "data": {
      "image/png": "[encoded data removed]",
      "text/plain": [
       "<Figure size 432x288 with 2 Axes>"
      ]
     },
     "metadata": {
      "needs_background": "light"
     },
     "output_type": "display_data"
    }
   ],
   "source": [
    "print(\"Logistic Regression Test Confusion Matrix: \")\n",
    "sns.heatmap(confusion_matrix(y_test,lr_test_predict),annot=True,fmt='1.0f')"
   ]
  },
  {
   "cell_type": "code",
   "execution_count": 16,
   "metadata": {},
   "outputs": [
    {
     "name": "stdout",
     "output_type": "stream",
     "text": [
      "Logistic Regression Train Classification Report: \n",
      "                    precision    recall  f1-score   support\n",
      "\n",
      "            LAYING       1.00      1.00      1.00      1407\n",
      "           SITTING       0.97      0.98      0.97      1286\n",
      "          STANDING       0.98      0.97      0.98      1374\n",
      "           WALKING       1.00      1.00      1.00      1226\n",
      "WALKING_DOWNSTAIRS       1.00      1.00      1.00       986\n",
      "  WALKING_UPSTAIRS       1.00      1.00      1.00      1073\n",
      "\n",
      "          accuracy                           0.99      7352\n",
      "         macro avg       0.99      0.99      0.99      7352\n",
      "      weighted avg       0.99      0.99      0.99      7352\n",
      "\n"
     ]
    }
   ],
   "source": [
    "print(\"Logistic Regression Train Classification Report: \")\n",
    "print(classification_report(y_train,lr_train_predict))"
   ]
  },
  {
   "cell_type": "code",
   "execution_count": 17,
   "metadata": {},
   "outputs": [
    {
     "name": "stdout",
     "output_type": "stream",
     "text": [
      "Logistic Regression Test Classification Report: \n",
      "                    precision    recall  f1-score   support\n",
      "\n",
      "            LAYING       1.00      1.00      1.00       537\n",
      "           SITTING       0.96      0.88      0.92       491\n",
      "          STANDING       0.90      0.97      0.93       532\n",
      "           WALKING       0.94      0.99      0.97       496\n",
      "WALKING_DOWNSTAIRS       0.99      0.96      0.98       420\n",
      "  WALKING_UPSTAIRS       0.97      0.94      0.95       471\n",
      "\n",
      "          accuracy                           0.96      2947\n",
      "         macro avg       0.96      0.96      0.96      2947\n",
      "      weighted avg       0.96      0.96      0.96      2947\n",
      "\n"
     ]
    }
   ],
   "source": [
    "print(\"Logistic Regression Test Classification Report: \")\n",
    "print(classification_report(y_test,lr_test_predict))"
   ]
  },
  {
   "cell_type": "markdown",
   "metadata": {},
   "source": [
    "### K-Nearest Neighbors Classifier:"
   ]
  },
  {
   "cell_type": "code",
   "execution_count": 18,
   "metadata": {},
   "outputs": [],
   "source": [
    "from sklearn.neighbors import KNeighborsClassifier\n",
    "knc_init=KNeighborsClassifier(n_neighbors=20,metric='euclidean')\n",
    "knc_init.fit(x_train,y_train)\n",
    "knc_init_train_predict=knc_init.predict(x_train)\n",
    "knc_init_test_predict=knc_init.predict(x_test)"
   ]
  },
  {
   "cell_type": "code",
   "execution_count": 19,
   "metadata": {},
   "outputs": [
    {
     "name": "stdout",
     "output_type": "stream",
     "text": [
      "train:  0.9665397170837867\n",
      "test:  0.9056667797760435\n"
     ]
    }
   ],
   "source": [
    "#checking the metrics\n",
    "print(\"train: \",accuracy_score(y_train,knc_init_train_predict))\n",
    "print(\"test: \",accuracy_score(y_test,knc_init_test_predict))"
   ]
  },
  {
   "cell_type": "markdown",
   "metadata": {},
   "source": [
    "##### Calculating the optimal value for n_neighbors using ELBOW method:"
   ]
  },
  {
   "cell_type": "code",
   "execution_count": 20,
   "metadata": {},
   "outputs": [
    {
     "name": "stdout",
     "output_type": "stream",
     "text": [
      "[0.8785205293518833, 0.8659653885307091, 0.8907363420427553, 0.8934509670851714, 0.9002375296912114, 0.9019341703427214, 0.9022734984730234, 0.9060061079063454, 0.9053274516457415, 0.9066847641669494, 0.9039701391245334, 0.9029521547336274, 0.9056667797760435, 0.9049881235154394, 0.9046487953851374, 0.9077027485578555, 0.9070240922972514, 0.9077027485578555, 0.9070240922972514]\n"
     ]
    }
   ],
   "source": [
    "score=[]\n",
    "for k in range(1,20):\n",
    "    knn_model=KNeighborsClassifier(n_neighbors=k)\n",
    "    knn_model.fit(x_train,y_train)\n",
    "    pred_test=knn_model.predict(x_test)\n",
    "    score.append(accuracy_score(y_test,pred_test))\n",
    "print(score)"
   ]
  },
  {
   "cell_type": "code",
   "execution_count": 21,
   "metadata": {},
   "outputs": [
    {
     "data": {
      "text/plain": [
       "[<matplotlib.lines.Line2D at 0x7f46280a6950>]"
      ]
     },
     "execution_count": 21,
     "metadata": {},
     "output_type": "execute_result"
    },
    {
     "data": {
      "image/png": "[encoded data removed]",
      "text/plain": [
       "<Figure size 432x288 with 1 Axes>"
      ]
     },
     "metadata": {
      "needs_background": "light"
     },
     "output_type": "display_data"
    }
   ],
   "source": [
    "#plotting the score\n",
    "plt.plot(range(1,20),score,marker='o',markerfacecolor='r',linestyle='--')"
   ]
  },
  {
   "cell_type": "markdown",
   "metadata": {},
   "source": [
    "Here it can be observed that the highest accuracy is achieved through the K-Nearest Neighbors Algorithm at the value where <strong>n_neighbors=18</strong>"
   ]
  },
  {
   "cell_type": "code",
   "execution_count": 22,
   "metadata": {},
   "outputs": [
    {
     "name": "stdout",
     "output_type": "stream",
     "text": [
      "KNN Classifier Train Accuracy:  0.9681719260065288\n",
      "KNN Classifier Test Accuracy:  0.9077027485578555\n"
     ]
    }
   ],
   "source": [
    "#So, let's build a model with the same parameter value\n",
    "knc=KNeighborsClassifier(n_neighbors=18,metric='euclidean')\n",
    "knc.fit(x_train,y_train)\n",
    "knc_train_predict=knc.predict(x_train)\n",
    "knc_test_predict=knc.predict(x_test)\n",
    "#checking the metrics\n",
    "train_accu_score[1]=accuracy_score(y_train,knc_train_predict)\n",
    "test_accu_score[1]=accuracy_score(y_test,knc_test_predict)\n",
    "print(\"KNN Classifier Train Accuracy: \",train_accu_score[1])\n",
    "print(\"KNN Classifier Test Accuracy: \",test_accu_score[1])"
   ]
  },
  {
   "cell_type": "code",
   "execution_count": 23,
   "metadata": {},
   "outputs": [
    {
     "name": "stdout",
     "output_type": "stream",
     "text": [
      "K-Nearest Neighbors Train Confusion Matrix: \n"
     ]
    },
    {
     "data": {
      "text/plain": [
       "<matplotlib.axes._subplots.AxesSubplot at 0x7f462e58b610>"
      ]
     },
     "execution_count": 23,
     "metadata": {},
     "output_type": "execute_result"
    },
    {
     "data": {
      "image/png": "[encoded data removed]",
      "text/plain": [
       "<Figure size 432x288 with 2 Axes>"
      ]
     },
     "metadata": {
      "needs_background": "light"
     },
     "output_type": "display_data"
    }
   ],
   "source": [
    "print(\"K-Nearest Neighbors Train Confusion Matrix: \")\n",
    "sns.heatmap(confusion_matrix(y_train,knc_train_predict),annot=True,fmt='1.0f')"
   ]
  },
  {
   "cell_type": "code",
   "execution_count": 24,
   "metadata": {},
   "outputs": [
    {
     "name": "stdout",
     "output_type": "stream",
     "text": [
      "K-Nearest Neighbors Test Confusion Matrix: \n"
     ]
    },
    {
     "data": {
      "text/plain": [
       "<matplotlib.axes._subplots.AxesSubplot at 0x7f46284f6710>"
      ]
     },
     "execution_count": 24,
     "metadata": {},
     "output_type": "execute_result"
    },
    {
     "data": {
      "image/png": "[encoded data removed]",
      "text/plain": [
       "<Figure size 432x288 with 2 Axes>"
      ]
     },
     "metadata": {
      "needs_background": "light"
     },
     "output_type": "display_data"
    }
   ],
   "source": [
    "print(\"K-Nearest Neighbors Test Confusion Matrix: \")\n",
    "sns.heatmap(confusion_matrix(y_test,knc_test_predict),annot=True,fmt='1.0f')"
   ]
  },
  {
   "cell_type": "code",
   "execution_count": 25,
   "metadata": {},
   "outputs": [
    {
     "name": "stdout",
     "output_type": "stream",
     "text": [
      "K-Nearest Neighbors Train Classification Report: \n",
      "                    precision    recall  f1-score   support\n",
      "\n",
      "            LAYING       1.00      1.00      1.00      1407\n",
      "           SITTING       0.94      0.89      0.91      1286\n",
      "          STANDING       0.91      0.95      0.93      1374\n",
      "           WALKING       0.99      1.00      0.99      1226\n",
      "WALKING_DOWNSTAIRS       1.00      0.99      0.99       986\n",
      "  WALKING_UPSTAIRS       0.99      0.99      0.99      1073\n",
      "\n",
      "          accuracy                           0.97      7352\n",
      "         macro avg       0.97      0.97      0.97      7352\n",
      "      weighted avg       0.97      0.97      0.97      7352\n",
      "\n"
     ]
    }
   ],
   "source": [
    "print(\"K-Nearest Neighbors Train Classification Report: \")\n",
    "print(classification_report(y_train,knc_train_predict))"
   ]
  },
  {
   "cell_type": "code",
   "execution_count": 26,
   "metadata": {},
   "outputs": [
    {
     "name": "stdout",
     "output_type": "stream",
     "text": [
      "K-Nearest Neighbors Test Classification Report: \n",
      "                    precision    recall  f1-score   support\n",
      "\n",
      "            LAYING       1.00      1.00      1.00       537\n",
      "           SITTING       0.92      0.82      0.87       491\n",
      "          STANDING       0.85      0.94      0.89       532\n",
      "           WALKING       0.84      0.99      0.91       496\n",
      "WALKING_DOWNSTAIRS       0.96      0.77      0.85       420\n",
      "  WALKING_UPSTAIRS       0.90      0.91      0.90       471\n",
      "\n",
      "          accuracy                           0.91      2947\n",
      "         macro avg       0.91      0.90      0.90      2947\n",
      "      weighted avg       0.91      0.91      0.91      2947\n",
      "\n"
     ]
    }
   ],
   "source": [
    "print(\"K-Nearest Neighbors Test Classification Report: \")\n",
    "print(classification_report(y_test,knc_test_predict))"
   ]
  },
  {
   "cell_type": "markdown",
   "metadata": {},
   "source": [
    "### Naive Bayes:"
   ]
  },
  {
   "cell_type": "code",
   "execution_count": 27,
   "metadata": {},
   "outputs": [
    {
     "name": "stdout",
     "output_type": "stream",
     "text": [
      "Naive Bayes Classifier Train Accuracy:  0.7463275299238302\n",
      "Naive Bayes Test Accuracy:  0.7702748557855447\n"
     ]
    }
   ],
   "source": [
    "from sklearn.naive_bayes import GaussianNB\n",
    "nb=GaussianNB()\n",
    "nb.fit(x_train,y_train)\n",
    "nb_train_predict=nb.predict(x_train)\n",
    "nb_test_predict=nb.predict(x_test)\n",
    "#checking the metrics\n",
    "train_accu_score[2]=accuracy_score(y_train,nb_train_predict)\n",
    "test_accu_score[2]=accuracy_score(y_test,nb_test_predict)\n",
    "print(\"Naive Bayes Classifier Train Accuracy: \",train_accu_score[2])\n",
    "print(\"Naive Bayes Test Accuracy: \",test_accu_score[2])"
   ]
  },
  {
   "cell_type": "code",
   "execution_count": 28,
   "metadata": {},
   "outputs": [
    {
     "name": "stdout",
     "output_type": "stream",
     "text": [
      "Naive Bayes Train Confusion Matrix: \n"
     ]
    },
    {
     "data": {
      "text/plain": [
       "<matplotlib.axes._subplots.AxesSubplot at 0x7f461a3b2850>"
      ]
     },
     "execution_count": 28,
     "metadata": {},
     "output_type": "execute_result"
    },
    {
     "data": {
      "image/png": "[encoded data removed]",
      "text/plain": [
       "<Figure size 432x288 with 2 Axes>"
      ]
     },
     "metadata": {
      "needs_background": "light"
     },
     "output_type": "display_data"
    }
   ],
   "source": [
    "print(\"Naive Bayes Train Confusion Matrix: \")\n",
    "sns.heatmap(confusion_matrix(y_train,nb_train_predict),annot=True,fmt='1.0f')"
   ]
  },
  {
   "cell_type": "code",
   "execution_count": 29,
   "metadata": {},
   "outputs": [
    {
     "name": "stdout",
     "output_type": "stream",
     "text": [
      "Naive Bayes Test Confusion Matrix: \n"
     ]
    },
    {
     "data": {
      "text/plain": [
       "<matplotlib.axes._subplots.AxesSubplot at 0x7f461a303610>"
      ]
     },
     "execution_count": 29,
     "metadata": {},
     "output_type": "execute_result"
    },
    {
     "data": {
      "image/png": "[encoded data removed]",
      "text/plain": [
       "<Figure size 432x288 with 2 Axes>"
      ]
     },
     "metadata": {
      "needs_background": "light"
     },
     "output_type": "display_data"
    }
   ],
   "source": [
    "print(\"Naive Bayes Test Confusion Matrix: \")\n",
    "sns.heatmap(confusion_matrix(y_test,nb_test_predict),annot=True,fmt='1.0f')"
   ]
  },
  {
   "cell_type": "code",
   "execution_count": 30,
   "metadata": {},
   "outputs": [
    {
     "name": "stdout",
     "output_type": "stream",
     "text": [
      "Naive Bayes Train Classification Report: \n",
      "                    precision    recall  f1-score   support\n",
      "\n",
      "            LAYING       0.97      0.50      0.66      1407\n",
      "           SITTING       0.53      0.81      0.64      1286\n",
      "          STANDING       0.84      0.80      0.82      1374\n",
      "           WALKING       0.94      0.73      0.82      1226\n",
      "WALKING_DOWNSTAIRS       0.79      0.79      0.79       986\n",
      "  WALKING_UPSTAIRS       0.70      0.90      0.79      1073\n",
      "\n",
      "          accuracy                           0.75      7352\n",
      "         macro avg       0.79      0.76      0.75      7352\n",
      "      weighted avg       0.80      0.75      0.75      7352\n",
      "\n"
     ]
    }
   ],
   "source": [
    "print(\"Naive Bayes Train Classification Report: \")\n",
    "print(classification_report(y_train,nb_train_predict))"
   ]
  },
  {
   "cell_type": "code",
   "execution_count": 31,
   "metadata": {},
   "outputs": [
    {
     "name": "stdout",
     "output_type": "stream",
     "text": [
      "Naive Bayes Test Classification Report: \n",
      "                    precision    recall  f1-score   support\n",
      "\n",
      "            LAYING       0.96      0.60      0.74       537\n",
      "           SITTING       0.58      0.75      0.65       491\n",
      "          STANDING       0.80      0.86      0.83       532\n",
      "           WALKING       0.82      0.84      0.83       496\n",
      "WALKING_DOWNSTAIRS       0.83      0.61      0.70       420\n",
      "  WALKING_UPSTAIRS       0.76      0.96      0.84       471\n",
      "\n",
      "          accuracy                           0.77      2947\n",
      "         macro avg       0.79      0.77      0.77      2947\n",
      "      weighted avg       0.79      0.77      0.77      2947\n",
      "\n"
     ]
    }
   ],
   "source": [
    "print(\"Naive Bayes Test Classification Report: \")\n",
    "print(classification_report(y_test,nb_test_predict))"
   ]
  },
  {
   "cell_type": "markdown",
   "metadata": {},
   "source": [
    "### Decision Tree:"
   ]
  },
  {
   "cell_type": "code",
   "execution_count": 32,
   "metadata": {},
   "outputs": [
    {
     "name": "stdout",
     "output_type": "stream",
     "text": [
      "Decision Tree Classifier initial Train Accuracy:  1.0\n",
      "Decision Tree Classifier initial Test Accuracy:  0.8527315914489311\n"
     ]
    }
   ],
   "source": [
    "from sklearn.tree import DecisionTreeClassifier\n",
    "dtree_init=DecisionTreeClassifier(criterion='entropy')\n",
    "dtree_init.fit(x_train,y_train)\n",
    "dtree_init_train_predict=dtree_init.predict(x_train)\n",
    "dtree_init_test_predict=dtree_init.predict(x_test)\n",
    "#checking the metrics\n",
    "print(\"Decision Tree Classifier initial Train Accuracy: \",accuracy_score(y_train,dtree_init_train_predict))\n",
    "print(\"Decision Tree Classifier initial Test Accuracy: \",accuracy_score(y_test,dtree_init_test_predict))"
   ]
  },
  {
   "cell_type": "markdown",
   "metadata": {},
   "source": [
    "##### This is a case of OVERFITTING"
   ]
  },
  {
   "cell_type": "markdown",
   "metadata": {},
   "source": [
    "#### Hyper-parameter Tuning Using GridSearchCV:"
   ]
  },
  {
   "cell_type": "code",
   "execution_count": 33,
   "metadata": {},
   "outputs": [
    {
     "data": {
      "text/plain": [
       "{'criterion': 'entropy', 'min_samples_leaf': 6}"
      ]
     },
     "execution_count": 33,
     "metadata": {},
     "output_type": "execute_result"
    }
   ],
   "source": [
    "from sklearn.tree import DecisionTreeClassifier\n",
    "dtree_hype=DecisionTreeClassifier(random_state=1)\n",
    "grid_param={'criterion':['gini','entropy'],'min_samples_leaf':range(1,10,1)}\n",
    "from sklearn.model_selection import GridSearchCV\n",
    "grid_search=GridSearchCV(estimator=dtree_hype,param_grid=grid_param)\n",
    "#applying the grid search:\n",
    "grid_search.fit(x_train,y_train)\n",
    "grid_search.best_params_"
   ]
  },
  {
   "cell_type": "code",
   "execution_count": 34,
   "metadata": {},
   "outputs": [
    {
     "name": "stdout",
     "output_type": "stream",
     "text": [
      "Decision Tree Classifier Train Accuracy:  0.985310119695321\n",
      "Decision Tree Classifier Test Accuracy:  0.843909060061079\n"
     ]
    }
   ],
   "source": [
    "#Creating a final model\n",
    "dtree=DecisionTreeClassifier(random_state=1,criterion='entropy',min_samples_leaf=6)\n",
    "dtree.fit(x_train,y_train)\n",
    "dtree_train_predict=dtree.predict(x_train)\n",
    "dtree_test_predict=dtree.predict(x_test)\n",
    "#checking the metrics\n",
    "train_accu_score[3]=accuracy_score(y_train,dtree_train_predict)\n",
    "test_accu_score[3]=accuracy_score(y_test,dtree_test_predict)\n",
    "print(\"Decision Tree Classifier Train Accuracy: \",train_accu_score[3])\n",
    "print(\"Decision Tree Classifier Test Accuracy: \",test_accu_score[3])"
   ]
  },
  {
   "cell_type": "markdown",
   "metadata": {},
   "source": [
    "#### The model is still Over-Fitting"
   ]
  },
  {
   "cell_type": "markdown",
   "metadata": {},
   "source": [
    "### Random Forest Classifier:"
   ]
  },
  {
   "cell_type": "code",
   "execution_count": 35,
   "metadata": {},
   "outputs": [
    {
     "name": "stdout",
     "output_type": "stream",
     "text": [
      "Random Forest Classifier Train Accuracy:  1.0\n",
      "Random Forest Classifier Test Accuracy:  0.9287410926365796\n"
     ]
    }
   ],
   "source": [
    "from sklearn.ensemble import RandomForestClassifier\n",
    "rfc=RandomForestClassifier(criterion='entropy')\n",
    "rfc.fit(x_train,y_train)\n",
    "rfc_train_predict=rfc.predict(x_train)\n",
    "rfc_test_predict=rfc.predict(x_test)\n",
    "#checking the metrics\n",
    "train_accu_score[4]=accuracy_score(y_train,rfc_train_predict)\n",
    "test_accu_score[4]=accuracy_score(y_test,rfc_test_predict)\n",
    "print(\"Random Forest Classifier Train Accuracy: \",train_accu_score[4])\n",
    "print(\"Random Forest Classifier Test Accuracy: \",test_accu_score[4])"
   ]
  },
  {
   "cell_type": "code",
   "execution_count": 36,
   "metadata": {},
   "outputs": [
    {
     "name": "stdout",
     "output_type": "stream",
     "text": [
      "Random Forest Classifier Train Confusion Matrix: \n"
     ]
    },
    {
     "data": {
      "text/plain": [
       "<matplotlib.axes._subplots.AxesSubplot at 0x7f4619572350>"
      ]
     },
     "execution_count": 36,
     "metadata": {},
     "output_type": "execute_result"
    },
    {
     "data": {
      "image/png": "[encoded data removed]",
      "text/plain": [
       "<Figure size 432x288 with 2 Axes>"
      ]
     },
     "metadata": {
      "needs_background": "light"
     },
     "output_type": "display_data"
    }
   ],
   "source": [
    "print(\"Random Forest Classifier Train Confusion Matrix: \")\n",
    "sns.heatmap(confusion_matrix(y_train,rfc_train_predict),annot=True,fmt='1.0f')"
   ]
  },
  {
   "cell_type": "code",
   "execution_count": 37,
   "metadata": {},
   "outputs": [
    {
     "name": "stdout",
     "output_type": "stream",
     "text": [
      "Random Forest Classifier Test Confusion Matrix: \n"
     ]
    },
    {
     "data": {
      "text/plain": [
       "<matplotlib.axes._subplots.AxesSubplot at 0x7f461a21bfd0>"
      ]
     },
     "execution_count": 37,
     "metadata": {},
     "output_type": "execute_result"
    },
    {
     "data": {
      "image/png": "[encoded data removed]",
      "text/plain": [
       "<Figure size 432x288 with 2 Axes>"
      ]
     },
     "metadata": {
      "needs_background": "light"
     },
     "output_type": "display_data"
    }
   ],
   "source": [
    "print(\"Random Forest Classifier Test Confusion Matrix: \")\n",
    "sns.heatmap(confusion_matrix(y_test,rfc_test_predict),annot=True,fmt='1.0f')"
   ]
  },
  {
   "cell_type": "code",
   "execution_count": 38,
   "metadata": {},
   "outputs": [
    {
     "name": "stdout",
     "output_type": "stream",
     "text": [
      "Random Forest Classifier Train Classification Report: \n",
      "                    precision    recall  f1-score   support\n",
      "\n",
      "            LAYING       1.00      1.00      1.00      1407\n",
      "           SITTING       1.00      1.00      1.00      1286\n",
      "          STANDING       1.00      1.00      1.00      1374\n",
      "           WALKING       1.00      1.00      1.00      1226\n",
      "WALKING_DOWNSTAIRS       1.00      1.00      1.00       986\n",
      "  WALKING_UPSTAIRS       1.00      1.00      1.00      1073\n",
      "\n",
      "          accuracy                           1.00      7352\n",
      "         macro avg       1.00      1.00      1.00      7352\n",
      "      weighted avg       1.00      1.00      1.00      7352\n",
      "\n"
     ]
    }
   ],
   "source": [
    "print(\"Random Forest Classifier Train Classification Report: \")\n",
    "print(classification_report(y_train,rfc_train_predict))"
   ]
  },
  {
   "cell_type": "code",
   "execution_count": 39,
   "metadata": {},
   "outputs": [
    {
     "name": "stdout",
     "output_type": "stream",
     "text": [
      "Random Forest Classifier Test Classification Report: \n",
      "                    precision    recall  f1-score   support\n",
      "\n",
      "            LAYING       1.00      1.00      1.00       537\n",
      "           SITTING       0.92      0.89      0.91       491\n",
      "          STANDING       0.91      0.93      0.92       532\n",
      "           WALKING       0.89      0.98      0.93       496\n",
      "WALKING_DOWNSTAIRS       0.96      0.83      0.89       420\n",
      "  WALKING_UPSTAIRS       0.90      0.91      0.90       471\n",
      "\n",
      "          accuracy                           0.93      2947\n",
      "         macro avg       0.93      0.93      0.93      2947\n",
      "      weighted avg       0.93      0.93      0.93      2947\n",
      "\n"
     ]
    }
   ],
   "source": [
    "print(\"Random Forest Classifier Test Classification Report: \")\n",
    "print(classification_report(y_test,rfc_test_predict))"
   ]
  },
  {
   "cell_type": "markdown",
   "metadata": {},
   "source": [
    "## Visualizing the Accuracies obtained from each model:"
   ]
  },
  {
   "cell_type": "code",
   "execution_count": 46,
   "metadata": {},
   "outputs": [
    {
     "data": {
      "text/plain": [
       "array([0.99088683, 0.96817193, 0.74632753, 0.98531012, 1.        ])"
      ]
     },
     "execution_count": 46,
     "metadata": {},
     "output_type": "execute_result"
    }
   ],
   "source": [
    "train_accu_score"
   ]
  },
  {
   "cell_type": "code",
   "execution_count": 51,
   "metadata": {},
   "outputs": [
    {
     "data": {
      "text/plain": [
       "array([0.95860197, 0.90770275, 0.77027486, 0.84390906, 0.92874109])"
      ]
     },
     "execution_count": 51,
     "metadata": {},
     "output_type": "execute_result"
    }
   ],
   "source": [
    "test_accu_score"
   ]
  },
  {
   "cell_type": "code",
   "execution_count": 68,
   "metadata": {},
   "outputs": [
    {
     "data": {
      "text/plain": [
       "Text(0.5, 1.0, 'Test Accuracy of various algorithms')"
      ]
     },
     "execution_count": 68,
     "metadata": {},
     "output_type": "execute_result"
    },
    {
     "data": {
      "image/png": "[encoded data removed]",
      "text/plain": [
       "<Figure size 576x360 with 1 Axes>"
      ]
     },
     "metadata": {
      "needs_background": "light"
     },
     "output_type": "display_data"
    },
    {
     "data": {
      "image/png": "[encoded data removed]",
      "text/plain": [
       "<Figure size 576x360 with 1 Axes>"
      ]
     },
     "metadata": {
      "needs_background": "light"
     },
     "output_type": "display_data"
    }
   ],
   "source": [
    "plt.subplots(figsize=(8,5))\n",
    "labels = ['Logsitic Regression', 'KNN','Naive Bayes','Decision Trees','Random Forest']\n",
    "plt.bar(labels,train_accu_score,color=['black', 'red', 'green', 'blue', 'cyan'])\n",
    "plt.xlabel('Classifiers')\n",
    "plt.ylabel('Accuracy')\n",
    "plt.title('Train Accuracy of various algorithms')\n",
    "\n",
    "\n",
    "plt.subplots(figsize=(8,5))\n",
    "labels = ['Logsitic Regression', 'KNN','Naive Bayes','Decision Trees','Random Forest']\n",
    "plt.bar(labels,test_accu_score,color=['black', 'red', 'green', 'blue', 'cyan'])\n",
    "plt.xlabel('Classifiers')\n",
    "plt.ylabel('Accuracy')\n",
    "plt.title('Test Accuracy of various algorithms')\n"
   ]
  },
  {
   "cell_type": "code",
   "execution_count": null,
   "metadata": {},
   "outputs": [],
   "source": []
  }
 ],
 "metadata": {
  "kernelspec": {
   "display_name": "Python 3",
   "language": "python",
   "name": "python3"
  },
  "language_info": {
   "codemirror_mode": {
    "name": "ipython",
    "version": 3
   },
   "file_extension": ".py",
   "mimetype": "text/x-python",
   "name": "python",
   "nbconvert_exporter": "python",
   "pygments_lexer": "ipython3",
   "version": "3.7.6"
  }
 },
 "nbformat": 4,
 "nbformat_minor": 4
}
